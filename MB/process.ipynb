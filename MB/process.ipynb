{
 "cells": [
  {
   "cell_type": "code",
   "execution_count": 1,
   "metadata": {},
   "outputs": [],
   "source": [
    "import numpy as np\n",
    "import pandas as pd\n",
    "import os\n",
    "\n"
   ]
  },
  {
   "cell_type": "code",
   "execution_count": 2,
   "metadata": {},
   "outputs": [],
   "source": [
    "MB=pd.read_csv('/cluster2/home/futing/Project/panCancer/MB/meta/MB_anno.csv')\n",
    "srr=pd.read_csv('/cluster2/home/futing/Project/panCancer/MB/meta/done.txt',header=None)"
   ]
  },
  {
   "cell_type": "code",
   "execution_count": 4,
   "metadata": {},
   "outputs": [
    {
     "data": {
      "text/html": [
       "<div>\n",
       "<style scoped>\n",
       "    .dataframe tbody tr th:only-of-type {\n",
       "        vertical-align: middle;\n",
       "    }\n",
       "\n",
       "    .dataframe tbody tr th {\n",
       "        vertical-align: top;\n",
       "    }\n",
       "\n",
       "    .dataframe thead th {\n",
       "        text-align: right;\n",
       "    }\n",
       "</style>\n",
       "<table border=\"1\" class=\"dataframe\">\n",
       "  <thead>\n",
       "    <tr style=\"text-align: right;\">\n",
       "      <th></th>\n",
       "      <th>GSE</th>\n",
       "      <th>GSM</th>\n",
       "      <th>SRR</th>\n",
       "      <th>cell</th>\n",
       "      <th>genotype</th>\n",
       "      <th>ispatient</th>\n",
       "      <th>bases</th>\n",
       "      <th>title</th>\n",
       "      <th>enzyme</th>\n",
       "    </tr>\n",
       "  </thead>\n",
       "  <tbody>\n",
       "    <tr>\n",
       "      <th>0</th>\n",
       "      <td>GSE240410</td>\n",
       "      <td>SRR25592948</td>\n",
       "      <td>SRR25592948</td>\n",
       "      <td>D458</td>\n",
       "      <td>NaN</td>\n",
       "      <td>D458</td>\n",
       "      <td>1.899370e+11</td>\n",
       "      <td>GSM7697651: D458, G3, Hi-C; Homo sapiens; Hi-C</td>\n",
       "      <td>MboI</td>\n",
       "    </tr>\n",
       "    <tr>\n",
       "      <th>1</th>\n",
       "      <td>GSE240410</td>\n",
       "      <td>SRR25592950</td>\n",
       "      <td>SRR25592950</td>\n",
       "      <td>MB277</td>\n",
       "      <td>NaN</td>\n",
       "      <td>patient</td>\n",
       "      <td>NaN</td>\n",
       "      <td>GSM7697649: MB277, G3b, Hi-C; Homo sapiens; Hi-C</td>\n",
       "      <td>MboI</td>\n",
       "    </tr>\n",
       "    <tr>\n",
       "      <th>2</th>\n",
       "      <td>GSE240410</td>\n",
       "      <td>SRR25592952</td>\n",
       "      <td>SRR25592952</td>\n",
       "      <td>MB274</td>\n",
       "      <td>NaN</td>\n",
       "      <td>patient</td>\n",
       "      <td>2.456860e+11</td>\n",
       "      <td>GSM7697647: MB274, SHHa, Hi-C; Homo sapiens; Hi-C</td>\n",
       "      <td>MboI</td>\n",
       "    </tr>\n",
       "    <tr>\n",
       "      <th>3</th>\n",
       "      <td>GSE240410</td>\n",
       "      <td>SRR25592949</td>\n",
       "      <td>SRR25592949</td>\n",
       "      <td>MB288</td>\n",
       "      <td>NaN</td>\n",
       "      <td>patient</td>\n",
       "      <td>NaN</td>\n",
       "      <td>GSM7697650: MB288, G3b, Hi-C; Homo sapiens; Hi-C</td>\n",
       "      <td>MboI</td>\n",
       "    </tr>\n",
       "    <tr>\n",
       "      <th>4</th>\n",
       "      <td>GSE240410</td>\n",
       "      <td>SRR25592943</td>\n",
       "      <td>SRR25592943</td>\n",
       "      <td>MB199</td>\n",
       "      <td>NaN</td>\n",
       "      <td>patient</td>\n",
       "      <td>NaN</td>\n",
       "      <td>GSM7697640: MB199, G4, Hi-C; Homo sapiens; Hi-C</td>\n",
       "      <td>MboI</td>\n",
       "    </tr>\n",
       "  </tbody>\n",
       "</table>\n",
       "</div>"
      ],
      "text/plain": [
       "         GSE          GSM          SRR   cell  genotype ispatient  \\\n",
       "0  GSE240410  SRR25592948  SRR25592948   D458       NaN      D458   \n",
       "1  GSE240410  SRR25592950  SRR25592950  MB277       NaN   patient   \n",
       "2  GSE240410  SRR25592952  SRR25592952  MB274       NaN   patient   \n",
       "3  GSE240410  SRR25592949  SRR25592949  MB288       NaN   patient   \n",
       "4  GSE240410  SRR25592943  SRR25592943  MB199       NaN   patient   \n",
       "\n",
       "          bases                                              title enzyme  \n",
       "0  1.899370e+11     GSM7697651: D458, G3, Hi-C; Homo sapiens; Hi-C   MboI  \n",
       "1           NaN   GSM7697649: MB277, G3b, Hi-C; Homo sapiens; Hi-C   MboI  \n",
       "2  2.456860e+11  GSM7697647: MB274, SHHa, Hi-C; Homo sapiens; Hi-C   MboI  \n",
       "3           NaN   GSM7697650: MB288, G3b, Hi-C; Homo sapiens; Hi-C   MboI  \n",
       "4           NaN    GSM7697640: MB199, G4, Hi-C; Homo sapiens; Hi-C   MboI  "
      ]
     },
     "execution_count": 4,
     "metadata": {},
     "output_type": "execute_result"
    }
   ],
   "source": [
    "MB.head()"
   ]
  },
  {
   "cell_type": "code",
   "execution_count": 3,
   "metadata": {},
   "outputs": [
    {
     "data": {
      "text/html": [
       "<div>\n",
       "<style scoped>\n",
       "    .dataframe tbody tr th:only-of-type {\n",
       "        vertical-align: middle;\n",
       "    }\n",
       "\n",
       "    .dataframe tbody tr th {\n",
       "        vertical-align: top;\n",
       "    }\n",
       "\n",
       "    .dataframe thead th {\n",
       "        text-align: right;\n",
       "    }\n",
       "</style>\n",
       "<table border=\"1\" class=\"dataframe\">\n",
       "  <thead>\n",
       "    <tr style=\"text-align: right;\">\n",
       "      <th></th>\n",
       "      <th>0</th>\n",
       "    </tr>\n",
       "  </thead>\n",
       "  <tbody>\n",
       "    <tr>\n",
       "      <th>0</th>\n",
       "      <td>SRR25592940</td>\n",
       "    </tr>\n",
       "    <tr>\n",
       "      <th>1</th>\n",
       "      <td>SRR25592941</td>\n",
       "    </tr>\n",
       "    <tr>\n",
       "      <th>2</th>\n",
       "      <td>SRR25592945</td>\n",
       "    </tr>\n",
       "    <tr>\n",
       "      <th>3</th>\n",
       "      <td>SRR25592946</td>\n",
       "    </tr>\n",
       "    <tr>\n",
       "      <th>4</th>\n",
       "      <td>SRR25592948</td>\n",
       "    </tr>\n",
       "    <tr>\n",
       "      <th>5</th>\n",
       "      <td>SRR25592951</td>\n",
       "    </tr>\n",
       "    <tr>\n",
       "      <th>6</th>\n",
       "      <td>SRR25592952</td>\n",
       "    </tr>\n",
       "    <tr>\n",
       "      <th>7</th>\n",
       "      <td>SRR25592954</td>\n",
       "    </tr>\n",
       "  </tbody>\n",
       "</table>\n",
       "</div>"
      ],
      "text/plain": [
       "             0\n",
       "0  SRR25592940\n",
       "1  SRR25592941\n",
       "2  SRR25592945\n",
       "3  SRR25592946\n",
       "4  SRR25592948\n",
       "5  SRR25592951\n",
       "6  SRR25592952\n",
       "7  SRR25592954"
      ]
     },
     "execution_count": 3,
     "metadata": {},
     "output_type": "execute_result"
    }
   ],
   "source": [
    "srr"
   ]
  },
  {
   "cell_type": "code",
   "execution_count": 5,
   "metadata": {},
   "outputs": [],
   "source": [
    "MBfil=MB.loc[MB['SRR'].isin(srr[0]),['GSE','SRR','cell','enzyme']]\n",
    "MBfil.to_csv('/cluster2/home/futing/Project/panCancer/MB/meta/MB_July02.txt',index=None,header=None)"
   ]
  },
  {
   "cell_type": "code",
   "execution_count": 12,
   "metadata": {},
   "outputs": [
    {
     "data": {
      "text/html": [
       "<div>\n",
       "<style scoped>\n",
       "    .dataframe tbody tr th:only-of-type {\n",
       "        vertical-align: middle;\n",
       "    }\n",
       "\n",
       "    .dataframe tbody tr th {\n",
       "        vertical-align: top;\n",
       "    }\n",
       "\n",
       "    .dataframe thead th {\n",
       "        text-align: right;\n",
       "    }\n",
       "</style>\n",
       "<table border=\"1\" class=\"dataframe\">\n",
       "  <thead>\n",
       "    <tr style=\"text-align: right;\">\n",
       "      <th></th>\n",
       "      <th>GSE</th>\n",
       "      <th>cell</th>\n",
       "      <th>enzyme</th>\n",
       "    </tr>\n",
       "  </thead>\n",
       "  <tbody>\n",
       "    <tr>\n",
       "      <th>2</th>\n",
       "      <td>GSE240410</td>\n",
       "      <td>MB274</td>\n",
       "      <td>MboI</td>\n",
       "    </tr>\n",
       "    <tr>\n",
       "      <th>7</th>\n",
       "      <td>GSE240410</td>\n",
       "      <td>MB275</td>\n",
       "      <td>MboI</td>\n",
       "    </tr>\n",
       "    <tr>\n",
       "      <th>8</th>\n",
       "      <td>GSE240410</td>\n",
       "      <td>MB106</td>\n",
       "      <td>MboI</td>\n",
       "    </tr>\n",
       "    <tr>\n",
       "      <th>12</th>\n",
       "      <td>GSE240410</td>\n",
       "      <td>MB164</td>\n",
       "      <td>MboI</td>\n",
       "    </tr>\n",
       "    <tr>\n",
       "      <th>13</th>\n",
       "      <td>GSE240410</td>\n",
       "      <td>MB234</td>\n",
       "      <td>MboI</td>\n",
       "    </tr>\n",
       "  </tbody>\n",
       "</table>\n",
       "</div>"
      ],
      "text/plain": [
       "          GSE   cell enzyme\n",
       "2   GSE240410  MB274   MboI\n",
       "7   GSE240410  MB275   MboI\n",
       "8   GSE240410  MB106   MboI\n",
       "12  GSE240410  MB164   MboI\n",
       "13  GSE240410  MB234   MboI"
      ]
     },
     "execution_count": 12,
     "metadata": {},
     "output_type": "execute_result"
    }
   ],
   "source": [
    "MBfil.head()"
   ]
  },
  {
   "cell_type": "code",
   "execution_count": 14,
   "metadata": {},
   "outputs": [],
   "source": [
    "MBfil.to_csv('/cluster2/home/futing/Project/panCancer/MB/MB_uploadmeta.txt',index=False,header=None)\n"
   ]
  },
  {
   "cell_type": "markdown",
   "metadata": {},
   "source": []
  }
 ],
 "metadata": {
  "kernelspec": {
   "display_name": "HiC",
   "language": "python",
   "name": "hic"
  },
  "language_info": {
   "codemirror_mode": {
    "name": "ipython",
    "version": 3
   },
   "file_extension": ".py",
   "mimetype": "text/x-python",
   "name": "python",
   "nbconvert_exporter": "python",
   "pygments_lexer": "ipython3",
   "version": "3.9.21"
  }
 },
 "nbformat": 4,
 "nbformat_minor": 2
}
