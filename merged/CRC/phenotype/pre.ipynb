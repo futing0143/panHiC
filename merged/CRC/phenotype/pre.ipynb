{
 "cells": [
  {
   "cell_type": "markdown",
   "metadata": {},
   "source": [
    "# 数据预处理\t\n",
    "*\t处理RNA"
   ]
  },
  {
   "cell_type": "code",
   "execution_count": 2,
   "metadata": {},
   "outputs": [],
   "source": [
    "import numpy as np\n",
    "import pandas as pd"
   ]
  },
  {
   "cell_type": "code",
   "execution_count": 26,
   "metadata": {},
   "outputs": [],
   "source": [
    "RNA=pd.read_csv('/cluster/home/futing/ref_genome/hg38_gencode/genebed/gencode.v43.gene.bed',sep='\\t',header=None)\n",
    "RNA=RNA.loc[:,[0,1,2,3]]\n",
    "RNA.columns=['chr','start','end','gene']\n",
    "RNA['ENSG']=RNA['gene'].str.split('.').str[0]\n",
    "RNA=RNA.loc[~RNA['ENSG'].duplicated(),:]\n",
    "RNA=RNA.drop(columns=['gene'])"
   ]
  },
  {
   "cell_type": "code",
   "execution_count": 28,
   "metadata": {},
   "outputs": [
    {
     "data": {
      "text/plain": [
       "0"
      ]
     },
     "execution_count": 28,
     "metadata": {},
     "output_type": "execute_result"
    }
   ],
   "source": [
    "expr=pd.read_csv('/cluster2/home/futing/Project/panCancer/CRC/RNA/FPKM.protein_lncRNA.matrix_v2.log2.qq.rename.noERCC',sep='\\t')\n",
    "expr['ENSG']=expr['ENSGID'].str.split('.').str[0]\n",
    "expr=expr.loc[~expr['ENSG'].duplicated(),:]#重复的都是PAR_Y结尾的\n",
    "expr=expr.drop(columns=['ENSGID'])\n",
    "expr['ENSG'].duplicated().sum()"
   ]
  },
  {
   "cell_type": "code",
   "execution_count": 29,
   "metadata": {},
   "outputs": [
    {
     "data": {
      "text/plain": [
       "((27289, 81), (62656, 4))"
      ]
     },
     "execution_count": 29,
     "metadata": {},
     "output_type": "execute_result"
    }
   ],
   "source": [
    "expr.shape,RNA.shape"
   ]
  },
  {
   "cell_type": "code",
   "execution_count": 37,
   "metadata": {},
   "outputs": [
    {
     "data": {
      "text/plain": [
       "(26907, 84)"
      ]
     },
     "execution_count": 37,
     "metadata": {},
     "output_type": "execute_result"
    }
   ],
   "source": [
    "pheno=pd.merge(RNA,expr,on='ENSG',how='inner')\n",
    "pheno.shape"
   ]
  },
  {
   "cell_type": "code",
   "execution_count": 39,
   "metadata": {},
   "outputs": [],
   "source": [
    "pheno.columns = [\n",
    "    col[:-1] + '_Normal' if col.endswith('N') else\n",
    "    col[:-1] if col.endswith('T') else\n",
    "    col\n",
    "    for col in pheno.columns\n",
    "]"
   ]
  },
  {
   "cell_type": "code",
   "execution_count": 34,
   "metadata": {},
   "outputs": [
    {
     "data": {
      "text/html": [
       "<div>\n",
       "<style scoped>\n",
       "    .dataframe tbody tr th:only-of-type {\n",
       "        vertical-align: middle;\n",
       "    }\n",
       "\n",
       "    .dataframe tbody tr th {\n",
       "        vertical-align: top;\n",
       "    }\n",
       "\n",
       "    .dataframe thead th {\n",
       "        text-align: right;\n",
       "    }\n",
       "</style>\n",
       "<table border=\"1\" class=\"dataframe\">\n",
       "  <thead>\n",
       "    <tr style=\"text-align: right;\">\n",
       "      <th></th>\n",
       "      <th>Unnamed: 0</th>\n",
       "      <th>09-376</th>\n",
       "      <th>11-1026</th>\n",
       "      <th>11-1074</th>\n",
       "      <th>11-1074_Normal</th>\n",
       "      <th>11-51</th>\n",
       "      <th>11-51_Normal</th>\n",
       "      <th>11-52</th>\n",
       "      <th>11-63</th>\n",
       "      <th>11-63_Normal</th>\n",
       "      <th>...</th>\n",
       "      <th>14-1083</th>\n",
       "      <th>14-1251</th>\n",
       "      <th>14-132</th>\n",
       "      <th>14-151</th>\n",
       "      <th>14-258</th>\n",
       "      <th>14-275</th>\n",
       "      <th>14-326</th>\n",
       "      <th>14-442</th>\n",
       "      <th>14-494</th>\n",
       "      <th>14-810</th>\n",
       "    </tr>\n",
       "  </thead>\n",
       "  <tbody>\n",
       "    <tr>\n",
       "      <th>0</th>\n",
       "      <td>element</td>\n",
       "      <td>1.051792e+08</td>\n",
       "      <td>1.027580e+08</td>\n",
       "      <td>9.549728e+07</td>\n",
       "      <td>9.027582e+07</td>\n",
       "      <td>6.117425e+07</td>\n",
       "      <td>1.130951e+08</td>\n",
       "      <td>9.472309e+07</td>\n",
       "      <td>1.046700e+08</td>\n",
       "      <td>9.514518e+07</td>\n",
       "      <td>...</td>\n",
       "      <td>1.092722e+08</td>\n",
       "      <td>1.544300e+08</td>\n",
       "      <td>1.046870e+08</td>\n",
       "      <td>1.519218e+08</td>\n",
       "      <td>9.892819e+07</td>\n",
       "      <td>1.040042e+08</td>\n",
       "      <td>1.080451e+08</td>\n",
       "      <td>1.006462e+08</td>\n",
       "      <td>1.061229e+08</td>\n",
       "      <td>9.624084e+07</td>\n",
       "    </tr>\n",
       "    <tr>\n",
       "      <th>1</th>\n",
       "      <td>PC1</td>\n",
       "      <td>6.182690e-02</td>\n",
       "      <td>-1.610580e-02</td>\n",
       "      <td>7.679660e-02</td>\n",
       "      <td>1.147090e-01</td>\n",
       "      <td>1.359660e-01</td>\n",
       "      <td>1.689080e-01</td>\n",
       "      <td>1.200620e-01</td>\n",
       "      <td>-2.176520e-01</td>\n",
       "      <td>-2.373330e-02</td>\n",
       "      <td>...</td>\n",
       "      <td>-4.359850e-02</td>\n",
       "      <td>1.496430e-01</td>\n",
       "      <td>4.470440e-02</td>\n",
       "      <td>1.629930e-01</td>\n",
       "      <td>4.347490e-02</td>\n",
       "      <td>-2.044510e-01</td>\n",
       "      <td>-1.875640e-02</td>\n",
       "      <td>-2.939140e-01</td>\n",
       "      <td>7.236070e-02</td>\n",
       "      <td>1.215400e-01</td>\n",
       "    </tr>\n",
       "    <tr>\n",
       "      <th>2</th>\n",
       "      <td>PC2</td>\n",
       "      <td>-1.598650e-02</td>\n",
       "      <td>-8.974410e-03</td>\n",
       "      <td>-4.557630e-01</td>\n",
       "      <td>-4.621260e-01</td>\n",
       "      <td>5.266200e-01</td>\n",
       "      <td>5.389440e-01</td>\n",
       "      <td>-8.417480e-03</td>\n",
       "      <td>-7.287000e-03</td>\n",
       "      <td>-2.365810e-02</td>\n",
       "      <td>...</td>\n",
       "      <td>6.098930e-03</td>\n",
       "      <td>-8.804700e-03</td>\n",
       "      <td>-2.555110e-02</td>\n",
       "      <td>-3.355670e-02</td>\n",
       "      <td>-4.449420e-03</td>\n",
       "      <td>9.171540e-03</td>\n",
       "      <td>-7.026200e-03</td>\n",
       "      <td>1.989920e-02</td>\n",
       "      <td>3.934070e-03</td>\n",
       "      <td>-3.067150e-02</td>\n",
       "    </tr>\n",
       "    <tr>\n",
       "      <th>3</th>\n",
       "      <td>PC3</td>\n",
       "      <td>-6.026780e-02</td>\n",
       "      <td>-4.722770e-02</td>\n",
       "      <td>4.725060e-01</td>\n",
       "      <td>4.657210e-01</td>\n",
       "      <td>3.644130e-01</td>\n",
       "      <td>3.659040e-01</td>\n",
       "      <td>-1.041170e-01</td>\n",
       "      <td>-2.208930e-01</td>\n",
       "      <td>-2.952340e-01</td>\n",
       "      <td>...</td>\n",
       "      <td>-5.173430e-02</td>\n",
       "      <td>-9.256480e-02</td>\n",
       "      <td>-7.692250e-02</td>\n",
       "      <td>-1.229950e-01</td>\n",
       "      <td>-6.969270e-02</td>\n",
       "      <td>2.951690e-03</td>\n",
       "      <td>-4.292390e-02</td>\n",
       "      <td>4.029790e-02</td>\n",
       "      <td>-6.801830e-02</td>\n",
       "      <td>-1.104070e-01</td>\n",
       "    </tr>\n",
       "    <tr>\n",
       "      <th>4</th>\n",
       "      <td>PC4</td>\n",
       "      <td>-6.271210e-02</td>\n",
       "      <td>-5.920880e-02</td>\n",
       "      <td>1.452320e-01</td>\n",
       "      <td>1.491720e-01</td>\n",
       "      <td>1.385470e-01</td>\n",
       "      <td>1.411690e-01</td>\n",
       "      <td>-1.065940e-01</td>\n",
       "      <td>5.896080e-01</td>\n",
       "      <td>6.538930e-01</td>\n",
       "      <td>...</td>\n",
       "      <td>-7.041810e-02</td>\n",
       "      <td>-6.132770e-02</td>\n",
       "      <td>-7.748630e-02</td>\n",
       "      <td>-7.263740e-02</td>\n",
       "      <td>-7.321950e-02</td>\n",
       "      <td>-6.252760e-02</td>\n",
       "      <td>-8.051950e-02</td>\n",
       "      <td>-8.890650e-02</td>\n",
       "      <td>-8.346450e-02</td>\n",
       "      <td>-4.914510e-02</td>\n",
       "    </tr>\n",
       "  </tbody>\n",
       "</table>\n",
       "<p>5 rows × 33 columns</p>\n",
       "</div>"
      ],
      "text/plain": [
       "  Unnamed: 0        09-376       11-1026       11-1074  11-1074_Normal  \\\n",
       "0    element  1.051792e+08  1.027580e+08  9.549728e+07    9.027582e+07   \n",
       "1        PC1  6.182690e-02 -1.610580e-02  7.679660e-02    1.147090e-01   \n",
       "2        PC2 -1.598650e-02 -8.974410e-03 -4.557630e-01   -4.621260e-01   \n",
       "3        PC3 -6.026780e-02 -4.722770e-02  4.725060e-01    4.657210e-01   \n",
       "4        PC4 -6.271210e-02 -5.920880e-02  1.452320e-01    1.491720e-01   \n",
       "\n",
       "          11-51  11-51_Normal         11-52         11-63  11-63_Normal  ...  \\\n",
       "0  6.117425e+07  1.130951e+08  9.472309e+07  1.046700e+08  9.514518e+07  ...   \n",
       "1  1.359660e-01  1.689080e-01  1.200620e-01 -2.176520e-01 -2.373330e-02  ...   \n",
       "2  5.266200e-01  5.389440e-01 -8.417480e-03 -7.287000e-03 -2.365810e-02  ...   \n",
       "3  3.644130e-01  3.659040e-01 -1.041170e-01 -2.208930e-01 -2.952340e-01  ...   \n",
       "4  1.385470e-01  1.411690e-01 -1.065940e-01  5.896080e-01  6.538930e-01  ...   \n",
       "\n",
       "        14-1083       14-1251        14-132        14-151        14-258  \\\n",
       "0  1.092722e+08  1.544300e+08  1.046870e+08  1.519218e+08  9.892819e+07   \n",
       "1 -4.359850e-02  1.496430e-01  4.470440e-02  1.629930e-01  4.347490e-02   \n",
       "2  6.098930e-03 -8.804700e-03 -2.555110e-02 -3.355670e-02 -4.449420e-03   \n",
       "3 -5.173430e-02 -9.256480e-02 -7.692250e-02 -1.229950e-01 -6.969270e-02   \n",
       "4 -7.041810e-02 -6.132770e-02 -7.748630e-02 -7.263740e-02 -7.321950e-02   \n",
       "\n",
       "         14-275        14-326        14-442        14-494        14-810  \n",
       "0  1.040042e+08  1.080451e+08  1.006462e+08  1.061229e+08  9.624084e+07  \n",
       "1 -2.044510e-01 -1.875640e-02 -2.939140e-01  7.236070e-02  1.215400e-01  \n",
       "2  9.171540e-03 -7.026200e-03  1.989920e-02  3.934070e-03 -3.067150e-02  \n",
       "3  2.951690e-03 -4.292390e-02  4.029790e-02 -6.801830e-02 -1.104070e-01  \n",
       "4 -6.252760e-02 -8.051950e-02 -8.890650e-02 -8.346450e-02 -4.914510e-02  \n",
       "\n",
       "[5 rows x 33 columns]"
      ]
     },
     "execution_count": 34,
     "metadata": {},
     "output_type": "execute_result"
    }
   ],
   "source": [
    "covariate=pd.read_csv('/cluster2/home/futing/Project/HiCQTL/merged/CRC/covariate/covariate.txt',sep='\\t')\n",
    "covariate.head()"
   ]
  },
  {
   "cell_type": "code",
   "execution_count": 42,
   "metadata": {},
   "outputs": [
    {
     "data": {
      "text/plain": [
       "Index(['09-376', '11-1026', '11-1074', '11-1074_Normal', '11-51',\n",
       "       '11-51_Normal', '11-52', '11-63', '11-63_Normal', '11-927', '11-983',\n",
       "       '12-251', '13-1317', '13-1320', '13-1321', '13-1334', '13-1410',\n",
       "       '13-1413', '13-1483', '13-257', '13-542', '13-545', '14-1083',\n",
       "       '14-1251', '14-132', '14-151', '14-258', '14-275', '14-326', '14-442',\n",
       "       '14-494', '14-810'],\n",
       "      dtype='object')"
      ]
     },
     "execution_count": 42,
     "metadata": {},
     "output_type": "execute_result"
    }
   ],
   "source": [
    "covariate.columns[1:]"
   ]
  },
  {
   "cell_type": "code",
   "execution_count": 53,
   "metadata": {},
   "outputs": [],
   "source": [
    "pheno1 = pheno.loc[:, ['chr', 'start', 'end', 'ENSG'] + covariate.columns[1:].tolist()]\n",
    "pheno1=pheno1.rename(columns={'ENSG':'gene'})\n",
    "pheno1.loc[:,'chr'] = pheno1.loc[:,'chr'].str.replace('chr', '', regex=False)"
   ]
  },
  {
   "cell_type": "code",
   "execution_count": 45,
   "metadata": {},
   "outputs": [
    {
     "data": {
      "text/plain": [
       "(26907, 36)"
      ]
     },
     "execution_count": 45,
     "metadata": {},
     "output_type": "execute_result"
    }
   ],
   "source": [
    "pheno1.shape"
   ]
  },
  {
   "cell_type": "code",
   "execution_count": 54,
   "metadata": {},
   "outputs": [],
   "source": [
    "pheno1.to_csv('/cluster2/home/futing/Project/HiCQTL/merged/CRC/phenotype/expr.bed',sep='\\t',index=False)"
   ]
  },
  {
   "cell_type": "code",
   "execution_count": null,
   "metadata": {},
   "outputs": [],
   "source": []
  }
 ],
 "metadata": {
  "kernelspec": {
   "display_name": "HiC",
   "language": "python",
   "name": "hic"
  },
  "language_info": {
   "codemirror_mode": {
    "name": "ipython",
    "version": 3
   },
   "file_extension": ".py",
   "mimetype": "text/x-python",
   "name": "python",
   "nbconvert_exporter": "python",
   "pygments_lexer": "ipython3",
   "version": "3.9.21"
  }
 },
 "nbformat": 4,
 "nbformat_minor": 2
}
