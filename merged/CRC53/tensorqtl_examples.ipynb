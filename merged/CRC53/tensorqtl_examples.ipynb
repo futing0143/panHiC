{
 "cells": [
  {
   "cell_type": "markdown",
   "metadata": {},
   "source": [
    "### *cis*- and *trans*-QTL mapping with tensorQTL\n",
    "\n",
    "This notebook provides examples for running *cis*- and *trans*-QTL mapping with tensorQTL, using open-access data from the [GEUVADIS](https://www.ebi.ac.uk/arrayexpress/experiments/E-GEUV-1/) project.\n",
    "\n",
    "#### Requirements\n",
    "An environment configured with a GPU and ~50GB of memory.\n",
    "\n",
    "#### Test dataset\n",
    "\n",
    "*Note: these files are provided for testing/benchmarking purposes only. They do not constitute an official release from the GEUVADIS project, and no quality-control was applied.*\n",
    "\n",
    "Genotypes in PLINK2 format (chr18 only), and normalized expression data are available [in this repository](./data/); the full dataset is available at [gs://gtex-resources/test_data/geuvadis](https://console.cloud.google.com/storage/browser/gtex-resources/test_data/geuvadis) ([requester pays](https://cloud.google.com/storage/docs/requester-pays))."
   ]
  },
  {
   "cell_type": "code",
   "execution_count": null,
   "metadata": {},
   "outputs": [],
   "source": [
    "import os\n",
    "os.chdir('/cluster2/home/futing/Project/HiCQTL/merged/CRC53')\n",
    "import pandas as pd\n",
    "import torch\n",
    "import tensorqtl\n",
    "import matplotlib.pyplot as plt\n",
    "from tensorqtl import pgen, cis, trans, post\n",
    "device = torch.device(\"cuda\" if torch.cuda.is_available() else \"cpu\")\n",
    "print(f\"torch: {torch.__version__} (CUDA {torch.version.cuda}), device: {device}\")\n",
    "print(f\"pandas: {pd.__version__}\")"
   ]
  },
  {
   "cell_type": "markdown",
   "metadata": {},
   "source": [
    "#### 预处理"
   ]
  },
  {
   "cell_type": "code",
   "execution_count": null,
   "metadata": {},
   "outputs": [
    {
     "name": "stderr",
     "output_type": "stream",
     "text": [
      "/tmp/ipykernel_7491/1185128448.py:5: SettingWithCopyWarning: \n",
      "A value is trying to be set on a copy of a slice from a DataFrame\n",
      "\n",
      "See the caveats in the documentation: https://pandas.pydata.org/pandas-docs/stable/user_guide/indexing.html#returning-a-view-versus-a-copy\n",
      "  filtered.rename(columns={'chrom':'#chr'}, inplace=True)\n",
      "/tmp/ipykernel_7491/1185128448.py:6: SettingWithCopyWarning: \n",
      "A value is trying to be set on a copy of a slice from a DataFrame.\n",
      "Try using .loc[row_indexer,col_indexer] = value instead\n",
      "\n",
      "See the caveats in the documentation: https://pandas.pydata.org/pandas-docs/stable/user_guide/indexing.html#returning-a-view-versus-a-copy\n",
      "  filtered.loc[:,'gene_id'] = filtered.index # bin id改为gene id\n"
     ]
    }
   ],
   "source": [
    "expression_file = '/cluster2/home/futing/Project/HiCQTL/merged/CRC53/phenotype/CRC53.bed'\n",
    "ex = pd.read_csv(expression_file, sep='\\t')\n",
    "filtered = ex.loc[~ex.iloc[:, 3:].isna().any(axis=1)]  # 去掉所有全为NaN的行\n",
    "# filtered.dropna(axis=0)  # 去掉所有含有NaN的行\n",
    "filtered.rename(columns={'chrom':'#chr'}, inplace=True)\n",
    "filtered.loc[:,'gene_id'] = filtered.index # bin id改为gene id\n",
    "filtered = filtered[['#chr', 'start', 'end', 'gene_id'] + list(filtered.columns[3:-1])]\n",
    "filtered.loc[:,'#chr'] = filtered.loc[:,'#chr'].str.replace('#chr', '', regex=False)\n",
    "filtered.to_csv('./phenotype/CRC53_Aug15.bed', sep='\\t', index=False)"
   ]
  },
  {
   "cell_type": "code",
   "execution_count": null,
   "metadata": {},
   "outputs": [
    {
     "name": "stderr",
     "output_type": "stream",
     "text": [
      "/tmp/ipykernel_32079/593170257.py:1: DtypeWarning: Columns (0) have mixed types. Specify dtype option on import or set low_memory=False.\n",
      "  filtered =pd.read_csv('./phenotype/CRC_Jun53fil.bed', sep='\\t')\n"
     ]
    }
   ],
   "source": [
    "filtered =pd.read_csv('./phenotype/CRC_Jun53fil.bed', sep='\\t')\n",
    "# filtered =filtered.drop(columns=['chr', 'start', 'end'])  # 去掉chr, start, end列\n",
    "# filtered = filtered.set_index('gene')  # 设置gene为索引\n",
    "filtered =filtered.dropna(axis=0)  # 去掉只要存在一个NaN的列\n",
    "filtered.isna().sum(axis=1).value_counts()\n",
    "# filtered.to_csv('./phenotype/CRC53_Aug04fil.bed', sep='\\t', index=False)"
   ]
  },
  {
   "cell_type": "markdown",
   "metadata": {},
   "source": [
    "#### 读入数据"
   ]
  },
  {
   "cell_type": "code",
   "execution_count": null,
   "metadata": {},
   "outputs": [
    {
     "name": "stderr",
     "output_type": "stream",
     "text": [
      "/cluster/home/futing/miniforge-pypy3/envs/HiC/lib/python3.9/site-packages/tensorqtl/core.py:409: DtypeWarning: Columns (0) have mixed types. Specify dtype option on import or set low_memory=False.\n",
      "  phenotype_df = pd.read_csv(phenotype_bed, sep='\\t', index_col=3, dtype={'#chr':str, '#Chr':str})\n",
      "/cluster/home/futing/miniforge-pypy3/envs/HiC/lib/python3.9/site-packages/tensorqtl/core.py:423: FutureWarning: DataFrameGroupBy.apply operated on the grouping columns. This behavior is deprecated, and in a future version of pandas the grouping columns will be excluded from the operation. Either pass `include_groups=False` to exclude the groupings or explicitly select the grouping columns after groupby to silence this warning.\n",
      "  pos_df.groupby('chr', sort=False, group_keys=False).apply(lambda x: x.sort_values(['start', 'end']))\n"
     ]
    }
   ],
   "source": [
    "# define paths to data\n",
    "geno='CRC53'\n",
    "plink_prefix_path = f'/cluster2/home/futing/Project/HiCQTL/merged/CRC53/genotype/{geno}/{geno}'\n",
    "expression_bed = './phenotype/CRC53_0901.bed'\n",
    "# covariates_file = 'genotype_pc5.eigenvec.txt'\n",
    "covariates_file ='/cluster2/home/futing/Project/HiCQTL/merged/CRC53/covariate/covariate.txt'\n",
    "prefix = 'CRC'\n",
    "# load phenotypes and covariates\n",
    "phenotype_df, phenotype_pos_df = tensorqtl.read_phenotype_bed(expression_bed)\n",
    "covariates_df = pd.read_csv(covariates_file, sep='\\t', index_col=0).T\n",
    "\n",
    "# PLINK reader for genotypes\n",
    "pgr = pgen.PgenReader(plink_prefix_path)\n",
    "genotype_df = pgr.load_genotypes()\n",
    "variant_df = pgr.variant_df\n",
    "phenotype_df=phenotype_df.loc[:,covariates_df.index]"
   ]
  },
  {
   "cell_type": "code",
   "execution_count": 8,
   "metadata": {},
   "outputs": [
    {
     "data": {
      "text/plain": [
       "((12852925, 53), (12852925, 3), (523925, 53), (523925, 3), (53, 7))"
      ]
     },
     "execution_count": 8,
     "metadata": {},
     "output_type": "execute_result"
    }
   ],
   "source": [
    "# 每个样本SNP型，SNP的位置，表型数据，协方差矩阵\n",
    "genotype_df.shape,variant_df.shape,phenotype_df.shape,phenotype_pos_df.shape,covariates_df.shape"
   ]
  },
  {
   "cell_type": "code",
   "execution_count": 11,
   "metadata": {},
   "outputs": [
    {
     "data": {
      "text/html": [
       "<div>\n",
       "<style scoped>\n",
       "    .dataframe tbody tr th:only-of-type {\n",
       "        vertical-align: middle;\n",
       "    }\n",
       "\n",
       "    .dataframe tbody tr th {\n",
       "        vertical-align: top;\n",
       "    }\n",
       "\n",
       "    .dataframe thead th {\n",
       "        text-align: right;\n",
       "    }\n",
       "</style>\n",
       "<table border=\"1\" class=\"dataframe\">\n",
       "  <thead>\n",
       "    <tr style=\"text-align: right;\">\n",
       "      <th></th>\n",
       "      <th>09-376</th>\n",
       "      <th>11-1026</th>\n",
       "      <th>11-1074</th>\n",
       "      <th>11-1074_Normal</th>\n",
       "      <th>11-51</th>\n",
       "      <th>11-51_Normal</th>\n",
       "      <th>11-52</th>\n",
       "      <th>11-52_Normal</th>\n",
       "      <th>11-63</th>\n",
       "      <th>11-63_Normal</th>\n",
       "      <th>...</th>\n",
       "      <th>14-91</th>\n",
       "      <th>15-1382</th>\n",
       "      <th>15-1420</th>\n",
       "      <th>15-418</th>\n",
       "      <th>15-446</th>\n",
       "      <th>16-178</th>\n",
       "      <th>16-178_Normal</th>\n",
       "      <th>DKO</th>\n",
       "      <th>HCT116</th>\n",
       "      <th>SW480</th>\n",
       "    </tr>\n",
       "  </thead>\n",
       "  <tbody>\n",
       "    <tr>\n",
       "      <th>rs12567639</th>\n",
       "      <td>-9</td>\n",
       "      <td>2</td>\n",
       "      <td>1</td>\n",
       "      <td>1</td>\n",
       "      <td>1</td>\n",
       "      <td>2</td>\n",
       "      <td>1</td>\n",
       "      <td>-9</td>\n",
       "      <td>-9</td>\n",
       "      <td>1</td>\n",
       "      <td>...</td>\n",
       "      <td>1</td>\n",
       "      <td>-9</td>\n",
       "      <td>1</td>\n",
       "      <td>1</td>\n",
       "      <td>1</td>\n",
       "      <td>1</td>\n",
       "      <td>1</td>\n",
       "      <td>-9</td>\n",
       "      <td>-9</td>\n",
       "      <td>1</td>\n",
       "    </tr>\n",
       "  </tbody>\n",
       "</table>\n",
       "<p>1 rows × 53 columns</p>\n",
       "</div>"
      ],
      "text/plain": [
       "            09-376  11-1026  11-1074  11-1074_Normal  11-51  11-51_Normal  \\\n",
       "rs12567639      -9        2        1               1      1             2   \n",
       "\n",
       "            11-52  11-52_Normal  11-63  11-63_Normal  ...  14-91  15-1382  \\\n",
       "rs12567639      1            -9     -9             1  ...      1       -9   \n",
       "\n",
       "            15-1420  15-418  15-446  16-178  16-178_Normal  DKO  HCT116  SW480  \n",
       "rs12567639        1       1       1       1              1   -9      -9      1  \n",
       "\n",
       "[1 rows x 53 columns]"
      ]
     },
     "execution_count": 11,
     "metadata": {},
     "output_type": "execute_result"
    }
   ],
   "source": [
    "# genotype_df.replace({-9: 0}, inplace=True)  # 将-9替换为0\n",
    "genotype_df.loc[genotype_df.index=='rs12567639',:]"
   ]
  },
  {
   "cell_type": "code",
   "execution_count": 9,
   "metadata": {},
   "outputs": [
    {
     "data": {
      "text/html": [
       "<div>\n",
       "<style scoped>\n",
       "    .dataframe tbody tr th:only-of-type {\n",
       "        vertical-align: middle;\n",
       "    }\n",
       "\n",
       "    .dataframe tbody tr th {\n",
       "        vertical-align: top;\n",
       "    }\n",
       "\n",
       "    .dataframe thead th {\n",
       "        text-align: right;\n",
       "    }\n",
       "</style>\n",
       "<table border=\"1\" class=\"dataframe\">\n",
       "  <thead>\n",
       "    <tr style=\"text-align: right;\">\n",
       "      <th></th>\n",
       "      <th>09-376</th>\n",
       "      <th>11-1026</th>\n",
       "      <th>11-1074</th>\n",
       "      <th>11-1074_Normal</th>\n",
       "      <th>11-51</th>\n",
       "      <th>11-51_Normal</th>\n",
       "      <th>11-52</th>\n",
       "      <th>11-52_Normal</th>\n",
       "      <th>11-63</th>\n",
       "      <th>11-63_Normal</th>\n",
       "      <th>...</th>\n",
       "      <th>14-91</th>\n",
       "      <th>15-1382</th>\n",
       "      <th>15-1420</th>\n",
       "      <th>15-418</th>\n",
       "      <th>15-446</th>\n",
       "      <th>16-178</th>\n",
       "      <th>16-178_Normal</th>\n",
       "      <th>DKO</th>\n",
       "      <th>HCT116</th>\n",
       "      <th>SW480</th>\n",
       "    </tr>\n",
       "  </thead>\n",
       "  <tbody>\n",
       "    <tr>\n",
       "      <th>-9</th>\n",
       "      <td>10293183</td>\n",
       "      <td>10594657</td>\n",
       "      <td>10503399</td>\n",
       "      <td>10433684</td>\n",
       "      <td>10501173</td>\n",
       "      <td>10362329</td>\n",
       "      <td>9686587</td>\n",
       "      <td>10592589</td>\n",
       "      <td>11251128</td>\n",
       "      <td>10394268</td>\n",
       "      <td>...</td>\n",
       "      <td>10278638</td>\n",
       "      <td>10598608</td>\n",
       "      <td>10557395</td>\n",
       "      <td>9789015</td>\n",
       "      <td>10430361</td>\n",
       "      <td>10991605</td>\n",
       "      <td>10450457</td>\n",
       "      <td>9867021</td>\n",
       "      <td>9488675</td>\n",
       "      <td>11174249</td>\n",
       "    </tr>\n",
       "    <tr>\n",
       "      <th>1</th>\n",
       "      <td>1256954</td>\n",
       "      <td>1018669</td>\n",
       "      <td>1089975</td>\n",
       "      <td>1208874</td>\n",
       "      <td>1128700</td>\n",
       "      <td>1259728</td>\n",
       "      <td>1662253</td>\n",
       "      <td>1103618</td>\n",
       "      <td>540653</td>\n",
       "      <td>1278560</td>\n",
       "      <td>...</td>\n",
       "      <td>1275645</td>\n",
       "      <td>1096369</td>\n",
       "      <td>1166762</td>\n",
       "      <td>1606789</td>\n",
       "      <td>1206333</td>\n",
       "      <td>742019</td>\n",
       "      <td>1211901</td>\n",
       "      <td>1810537</td>\n",
       "      <td>2070001</td>\n",
       "      <td>443742</td>\n",
       "    </tr>\n",
       "    <tr>\n",
       "      <th>2</th>\n",
       "      <td>1302788</td>\n",
       "      <td>1239599</td>\n",
       "      <td>1259551</td>\n",
       "      <td>1210367</td>\n",
       "      <td>1223052</td>\n",
       "      <td>1230868</td>\n",
       "      <td>1504085</td>\n",
       "      <td>1156718</td>\n",
       "      <td>1061144</td>\n",
       "      <td>1180097</td>\n",
       "      <td>...</td>\n",
       "      <td>1298642</td>\n",
       "      <td>1157948</td>\n",
       "      <td>1128768</td>\n",
       "      <td>1457121</td>\n",
       "      <td>1216231</td>\n",
       "      <td>1119301</td>\n",
       "      <td>1190567</td>\n",
       "      <td>1175367</td>\n",
       "      <td>1294249</td>\n",
       "      <td>1234934</td>\n",
       "    </tr>\n",
       "  </tbody>\n",
       "</table>\n",
       "<p>3 rows × 53 columns</p>\n",
       "</div>"
      ],
      "text/plain": [
       "      09-376   11-1026   11-1074  11-1074_Normal     11-51  11-51_Normal  \\\n",
       "-9  10293183  10594657  10503399        10433684  10501173      10362329   \n",
       " 1   1256954   1018669   1089975         1208874   1128700       1259728   \n",
       " 2   1302788   1239599   1259551         1210367   1223052       1230868   \n",
       "\n",
       "      11-52  11-52_Normal     11-63  11-63_Normal  ...     14-91   15-1382  \\\n",
       "-9  9686587      10592589  11251128      10394268  ...  10278638  10598608   \n",
       " 1  1662253       1103618    540653       1278560  ...   1275645   1096369   \n",
       " 2  1504085       1156718   1061144       1180097  ...   1298642   1157948   \n",
       "\n",
       "     15-1420   15-418    15-446    16-178  16-178_Normal      DKO   HCT116  \\\n",
       "-9  10557395  9789015  10430361  10991605       10450457  9867021  9488675   \n",
       " 1   1166762  1606789   1206333    742019        1211901  1810537  2070001   \n",
       " 2   1128768  1457121   1216231   1119301        1190567  1175367  1294249   \n",
       "\n",
       "       SW480  \n",
       "-9  11174249  \n",
       " 1    443742  \n",
       " 2   1234934  \n",
       "\n",
       "[3 rows x 53 columns]"
      ]
     },
     "execution_count": 9,
     "metadata": {},
     "output_type": "execute_result"
    }
   ],
   "source": [
    "genotype_df.apply(lambda x: x.value_counts(), axis=0)"
   ]
  },
  {
   "cell_type": "code",
   "execution_count": null,
   "metadata": {},
   "outputs": [],
   "source": [
    "fil=(genotype_df == -9).sum(axis=1)\n",
    "genotype_df= genotype_df.loc[fil==0, :]\n",
    "variant_df = variant_df.loc[variant_df.index.isin(genotype.index), :]"
   ]
  },
  {
   "cell_type": "markdown",
   "metadata": {},
   "source": [
    "### *cis*-QTL: nominal p-values for all variant-phenotype pairs"
   ]
  },
  {
   "cell_type": "code",
   "execution_count": 4,
   "metadata": {},
   "outputs": [
    {
     "name": "stdout",
     "output_type": "stream",
     "text": [
      "cis-QTL mapping: nominal associations for all variant-phenotype pairs\n",
      "  * 53 samples\n",
      "  * 523925 phenotypes\n",
      "  * 7 covariates\n",
      "  * 12852925 variants\n",
      "  * cis-window: ±1,000,000\n",
      "    ** dropping 519125 phenotypes on chrs. without genotypes\n",
      "  * checking phenotypes: 4800/4800\n",
      "  * Computing associations\n",
      "    Mapping chromosome 22\n",
      "    processing phenotype 4800/4800\n",
      "    time elapsed: 0.35 min\n",
      "    * writing output\n",
      "done.\n"
     ]
    }
   ],
   "source": [
    "# map all cis-associations (results for each chromosome are written to file)\n",
    "\n",
    "# all genes\n",
    "cis.map_nominal(genotype_df, variant_df, phenotype_df, phenotype_pos_df, prefix, covariates_df=covariates_df)\n",
    "\n",
    "# genes on chr18\n",
    "# cis.map_nominal(genotype_df, variant_df,\n",
    "#                 phenotype_df.loc[phenotype_pos_df['chr'] == '18'],\n",
    "#                 phenotype_pos_df.loc[phenotype_pos_df['chr'] == '18'],\n",
    "#                 prefix, covariates_df=covariates_df)"
   ]
  },
  {
   "cell_type": "code",
   "execution_count": 3,
   "metadata": {},
   "outputs": [
    {
     "data": {
      "text/html": [
       "<div>\n",
       "<style scoped>\n",
       "    .dataframe tbody tr th:only-of-type {\n",
       "        vertical-align: middle;\n",
       "    }\n",
       "\n",
       "    .dataframe tbody tr th {\n",
       "        vertical-align: top;\n",
       "    }\n",
       "\n",
       "    .dataframe thead th {\n",
       "        text-align: right;\n",
       "    }\n",
       "</style>\n",
       "<table border=\"1\" class=\"dataframe\">\n",
       "  <thead>\n",
       "    <tr style=\"text-align: right;\">\n",
       "      <th></th>\n",
       "      <th>phenotype_id</th>\n",
       "      <th>variant_id</th>\n",
       "      <th>start_distance</th>\n",
       "      <th>end_distance</th>\n",
       "      <th>af</th>\n",
       "      <th>ma_samples</th>\n",
       "      <th>ma_count</th>\n",
       "      <th>pval_nominal</th>\n",
       "      <th>slope</th>\n",
       "      <th>slope_se</th>\n",
       "    </tr>\n",
       "  </thead>\n",
       "  <tbody>\n",
       "    <tr>\n",
       "      <th>0</th>\n",
       "      <td>570035</td>\n",
       "      <td>rs149898293</td>\n",
       "      <td>-999894</td>\n",
       "      <td>-1004893</td>\n",
       "      <td>0.009434</td>\n",
       "      <td>1</td>\n",
       "      <td>1</td>\n",
       "      <td>0.647635</td>\n",
       "      <td>-0.065785</td>\n",
       "      <td>0.142946</td>\n",
       "    </tr>\n",
       "    <tr>\n",
       "      <th>1</th>\n",
       "      <td>570035</td>\n",
       "      <td>rs5752024</td>\n",
       "      <td>-999765</td>\n",
       "      <td>-1004764</td>\n",
       "      <td>0.754717</td>\n",
       "      <td>19</td>\n",
       "      <td>26</td>\n",
       "      <td>0.418707</td>\n",
       "      <td>0.023123</td>\n",
       "      <td>0.028325</td>\n",
       "    </tr>\n",
       "    <tr>\n",
       "      <th>2</th>\n",
       "      <td>570035</td>\n",
       "      <td>rs151031039</td>\n",
       "      <td>-998909</td>\n",
       "      <td>-1003908</td>\n",
       "      <td>0.056604</td>\n",
       "      <td>4</td>\n",
       "      <td>6</td>\n",
       "      <td>0.014956</td>\n",
       "      <td>0.129791</td>\n",
       "      <td>0.051244</td>\n",
       "    </tr>\n",
       "    <tr>\n",
       "      <th>3</th>\n",
       "      <td>570035</td>\n",
       "      <td>chr22_24946177_G_A</td>\n",
       "      <td>-998824</td>\n",
       "      <td>-1003823</td>\n",
       "      <td>0.009434</td>\n",
       "      <td>1</td>\n",
       "      <td>1</td>\n",
       "      <td>0.051991</td>\n",
       "      <td>0.320694</td>\n",
       "      <td>0.160557</td>\n",
       "    </tr>\n",
       "    <tr>\n",
       "      <th>4</th>\n",
       "      <td>570035</td>\n",
       "      <td>chr22_24946413_A_C</td>\n",
       "      <td>-998588</td>\n",
       "      <td>-1003587</td>\n",
       "      <td>0.009434</td>\n",
       "      <td>1</td>\n",
       "      <td>1</td>\n",
       "      <td>0.802369</td>\n",
       "      <td>0.050166</td>\n",
       "      <td>0.199231</td>\n",
       "    </tr>\n",
       "  </tbody>\n",
       "</table>\n",
       "</div>"
      ],
      "text/plain": [
       "   phenotype_id          variant_id  start_distance  end_distance        af  \\\n",
       "0        570035         rs149898293         -999894      -1004893  0.009434   \n",
       "1        570035           rs5752024         -999765      -1004764  0.754717   \n",
       "2        570035         rs151031039         -998909      -1003908  0.056604   \n",
       "3        570035  chr22_24946177_G_A         -998824      -1003823  0.009434   \n",
       "4        570035  chr22_24946413_A_C         -998588      -1003587  0.009434   \n",
       "\n",
       "   ma_samples  ma_count  pval_nominal     slope  slope_se  \n",
       "0           1         1      0.647635 -0.065785  0.142946  \n",
       "1          19        26      0.418707  0.023123  0.028325  \n",
       "2           4         6      0.014956  0.129791  0.051244  \n",
       "3           1         1      0.051991  0.320694  0.160557  \n",
       "4           1         1      0.802369  0.050166  0.199231  "
      ]
     },
     "execution_count": 3,
     "metadata": {},
     "output_type": "execute_result"
    }
   ],
   "source": [
    "# load results\n",
    "pairs_df = pd.read_parquet(f'{prefix}.cis_qtl_pairs.22.parquet')\n",
    "pairs_df.head()"
   ]
  },
  {
   "cell_type": "code",
   "execution_count": 10,
   "metadata": {},
   "outputs": [
    {
     "name": "stdout",
     "output_type": "stream",
     "text": [
      "phenotype_id\n",
      "574585    13508\n",
      "574584    13507\n",
      "574586    13500\n",
      "574562    13493\n",
      "574553    13492\n",
      "          ...  \n",
      "574974     5759\n",
      "574975     5733\n",
      "574976     5698\n",
      "574977     5655\n",
      "574978     5631\n",
      "Name: count, Length: 4800, dtype: int64\n"
     ]
    }
   ],
   "source": [
    "counts = pairs_df['phenotype_id'].value_counts()\n",
    "print(counts)"
   ]
  },
  {
   "cell_type": "code",
   "execution_count": 13,
   "metadata": {},
   "outputs": [
    {
     "data": {
      "image/png": "[encoded data removed]",
      "text/plain": [
       "<Figure size 640x480 with 1 Axes>"
      ]
     },
     "metadata": {},
     "output_type": "display_data"
    }
   ],
   "source": [
    "import matplotlib.pyplot as plt\n",
    "counts.plot(kind='hist', bins=50)\n",
    "plt.xlabel(\"Number of variants per phenotype\")\n",
    "plt.ylabel(\"Number of phenotypes\")\n",
    "plt.text(0.7, 0.9, f\"Mean: {counts.mean():.2f}\\nMedian: {counts.median():.2f}\\nMax: {counts.max()}\\nMax: {counts.sum()}\",\n",
    "\t\t transform=plt.gca().transAxes, fontsize=12, verticalalignment='top', bbox=dict(boxstyle='round', facecolor='white', alpha=0.5))\n",
    "plt.title(\"Distribution of variant counts per phenotype\")\n",
    "# plt.grid(True)\n",
    "plt.tight_layout()\n",
    "plt.savefig(f'{prefix}.cis_qtl_pairs10k.22.hist2.png', dpi=300)"
   ]
  },
  {
   "cell_type": "markdown",
   "metadata": {},
   "source": [
    "### *cis*-QTL: empirical p-values for phenotypes"
   ]
  },
  {
   "cell_type": "code",
   "execution_count": null,
   "metadata": {},
   "outputs": [
    {
     "name": "stdout",
     "output_type": "stream",
     "text": [
      "cis-QTL mapping: empirical p-values for phenotypes\n",
      "  * 53 samples\n",
      "  * 523925 phenotypes\n",
      "  * 7 covariates\n",
      "  * 12852925 variants\n",
      "  * cis-window: ±1,000,000\n",
      "    ** dropping 519125 phenotypes on chrs. without genotypes\n",
      "  * checking phenotypes: 4800/4800\n",
      "  * computing permutations\n",
      "    processing phenotype 25/4800"
     ]
    }
   ],
   "source": [
    "# all genes\n",
    "cis_df = cis.map_cis(genotype_df, variant_df, phenotype_df, phenotype_pos_df, covariates_df=covariates_df,\n",
    "\twarn_monomorphic=False)\n",
    "\n",
    "# genes on chr18\n",
    "# cis_df = cis.map_cis(genotype_df, variant_df, \n",
    "#                      phenotype_df.loc[phenotype_pos_df['chr'] == 'chr18'],\n",
    "#                      phenotype_pos_df.loc[phenotype_pos_df['chr'] == 'chr18'],\n",
    "#                      covariates_df=covariates_df, seed=123456)\n",
    "# compute q-values (in practice, this must be run on all genes, not a subset)\n",
    "post.calculate_qvalues(cis_df, fdr=0.1, qvalue_lambda=0.85)"
   ]
  },
  {
   "cell_type": "code",
   "execution_count": 12,
   "metadata": {},
   "outputs": [],
   "source": [
    "cis_df.to_csv(f'{prefix}.cis_qtl_pairs.22.csv')\n",
    "# cis_df = pd.read_csv(f'{prefix}.cis_qtl_pairs.22.csv')\n",
    "# cis_df.set_index(['phenotype_id'], inplace=True)"
   ]
  },
  {
   "cell_type": "code",
   "execution_count": 14,
   "metadata": {},
   "outputs": [
    {
     "data": {
      "text/html": [
       "<div>\n",
       "<style scoped>\n",
       "    .dataframe tbody tr th:only-of-type {\n",
       "        vertical-align: middle;\n",
       "    }\n",
       "\n",
       "    .dataframe tbody tr th {\n",
       "        vertical-align: top;\n",
       "    }\n",
       "\n",
       "    .dataframe thead th {\n",
       "        text-align: right;\n",
       "    }\n",
       "</style>\n",
       "<table border=\"1\" class=\"dataframe\">\n",
       "  <thead>\n",
       "    <tr style=\"text-align: right;\">\n",
       "      <th></th>\n",
       "      <th>09-376</th>\n",
       "      <th>11-1026</th>\n",
       "      <th>11-1074</th>\n",
       "      <th>11-1074_Normal</th>\n",
       "      <th>11-51</th>\n",
       "      <th>11-51_Normal</th>\n",
       "      <th>11-52</th>\n",
       "      <th>11-52_Normal</th>\n",
       "      <th>11-63</th>\n",
       "      <th>11-63_Normal</th>\n",
       "      <th>...</th>\n",
       "      <th>14-91</th>\n",
       "      <th>15-1382</th>\n",
       "      <th>15-1420</th>\n",
       "      <th>15-418</th>\n",
       "      <th>15-446</th>\n",
       "      <th>16-178</th>\n",
       "      <th>16-178_Normal</th>\n",
       "      <th>DKO</th>\n",
       "      <th>HCT116</th>\n",
       "      <th>SW480</th>\n",
       "    </tr>\n",
       "  </thead>\n",
       "  <tbody>\n",
       "    <tr>\n",
       "      <th>rs116400033</th>\n",
       "      <td>0</td>\n",
       "      <td>0</td>\n",
       "      <td>0</td>\n",
       "      <td>0</td>\n",
       "      <td>0</td>\n",
       "      <td>0</td>\n",
       "      <td>0</td>\n",
       "      <td>0</td>\n",
       "      <td>0</td>\n",
       "      <td>0</td>\n",
       "      <td>...</td>\n",
       "      <td>0</td>\n",
       "      <td>0</td>\n",
       "      <td>0</td>\n",
       "      <td>0</td>\n",
       "      <td>0</td>\n",
       "      <td>0</td>\n",
       "      <td>0</td>\n",
       "      <td>1</td>\n",
       "      <td>0</td>\n",
       "      <td>2</td>\n",
       "    </tr>\n",
       "    <tr>\n",
       "      <th>chr1_51884_T_C</th>\n",
       "      <td>0</td>\n",
       "      <td>0</td>\n",
       "      <td>0</td>\n",
       "      <td>0</td>\n",
       "      <td>0</td>\n",
       "      <td>0</td>\n",
       "      <td>0</td>\n",
       "      <td>0</td>\n",
       "      <td>0</td>\n",
       "      <td>0</td>\n",
       "      <td>...</td>\n",
       "      <td>0</td>\n",
       "      <td>0</td>\n",
       "      <td>0</td>\n",
       "      <td>1</td>\n",
       "      <td>0</td>\n",
       "      <td>0</td>\n",
       "      <td>0</td>\n",
       "      <td>1</td>\n",
       "      <td>0</td>\n",
       "      <td>0</td>\n",
       "    </tr>\n",
       "    <tr>\n",
       "      <th>chr1_51915_G_A</th>\n",
       "      <td>0</td>\n",
       "      <td>0</td>\n",
       "      <td>0</td>\n",
       "      <td>0</td>\n",
       "      <td>0</td>\n",
       "      <td>0</td>\n",
       "      <td>0</td>\n",
       "      <td>0</td>\n",
       "      <td>0</td>\n",
       "      <td>0</td>\n",
       "      <td>...</td>\n",
       "      <td>0</td>\n",
       "      <td>0</td>\n",
       "      <td>0</td>\n",
       "      <td>0</td>\n",
       "      <td>0</td>\n",
       "      <td>0</td>\n",
       "      <td>0</td>\n",
       "      <td>0</td>\n",
       "      <td>1</td>\n",
       "      <td>0</td>\n",
       "    </tr>\n",
       "    <tr>\n",
       "      <th>rs141149254</th>\n",
       "      <td>0</td>\n",
       "      <td>0</td>\n",
       "      <td>0</td>\n",
       "      <td>0</td>\n",
       "      <td>0</td>\n",
       "      <td>0</td>\n",
       "      <td>0</td>\n",
       "      <td>0</td>\n",
       "      <td>0</td>\n",
       "      <td>0</td>\n",
       "      <td>...</td>\n",
       "      <td>0</td>\n",
       "      <td>0</td>\n",
       "      <td>0</td>\n",
       "      <td>0</td>\n",
       "      <td>0</td>\n",
       "      <td>0</td>\n",
       "      <td>0</td>\n",
       "      <td>1</td>\n",
       "      <td>0</td>\n",
       "      <td>0</td>\n",
       "    </tr>\n",
       "    <tr>\n",
       "      <th>rs10399749</th>\n",
       "      <td>0</td>\n",
       "      <td>0</td>\n",
       "      <td>0</td>\n",
       "      <td>0</td>\n",
       "      <td>0</td>\n",
       "      <td>2</td>\n",
       "      <td>1</td>\n",
       "      <td>0</td>\n",
       "      <td>0</td>\n",
       "      <td>0</td>\n",
       "      <td>...</td>\n",
       "      <td>0</td>\n",
       "      <td>0</td>\n",
       "      <td>0</td>\n",
       "      <td>0</td>\n",
       "      <td>0</td>\n",
       "      <td>0</td>\n",
       "      <td>0</td>\n",
       "      <td>1</td>\n",
       "      <td>1</td>\n",
       "      <td>0</td>\n",
       "    </tr>\n",
       "  </tbody>\n",
       "</table>\n",
       "<p>5 rows × 53 columns</p>\n",
       "</div>"
      ],
      "text/plain": [
       "                09-376  11-1026  11-1074  11-1074_Normal  11-51  11-51_Normal  \\\n",
       "rs116400033          0        0        0               0      0             0   \n",
       "chr1_51884_T_C       0        0        0               0      0             0   \n",
       "chr1_51915_G_A       0        0        0               0      0             0   \n",
       "rs141149254          0        0        0               0      0             0   \n",
       "rs10399749           0        0        0               0      0             2   \n",
       "\n",
       "                11-52  11-52_Normal  11-63  11-63_Normal  ...  14-91  15-1382  \\\n",
       "rs116400033         0             0      0             0  ...      0        0   \n",
       "chr1_51884_T_C      0             0      0             0  ...      0        0   \n",
       "chr1_51915_G_A      0             0      0             0  ...      0        0   \n",
       "rs141149254         0             0      0             0  ...      0        0   \n",
       "rs10399749          1             0      0             0  ...      0        0   \n",
       "\n",
       "                15-1420  15-418  15-446  16-178  16-178_Normal  DKO  HCT116  \\\n",
       "rs116400033           0       0       0       0              0    1       0   \n",
       "chr1_51884_T_C        0       1       0       0              0    1       0   \n",
       "chr1_51915_G_A        0       0       0       0              0    0       1   \n",
       "rs141149254           0       0       0       0              0    1       0   \n",
       "rs10399749            0       0       0       0              0    1       1   \n",
       "\n",
       "                SW480  \n",
       "rs116400033         2  \n",
       "chr1_51884_T_C      0  \n",
       "chr1_51915_G_A      0  \n",
       "rs141149254         0  \n",
       "rs10399749          0  \n",
       "\n",
       "[5 rows x 53 columns]"
      ]
     },
     "execution_count": 14,
     "metadata": {},
     "output_type": "execute_result"
    }
   ],
   "source": [
    "genotype_df.head()"
   ]
  },
  {
   "cell_type": "code",
   "execution_count": 13,
   "metadata": {},
   "outputs": [
    {
     "data": {
      "text/plain": [
       "<Axes: >"
      ]
     },
     "execution_count": 13,
     "metadata": {},
     "output_type": "execute_result"
    },
    {
     "data": {
      "image/png": "[encoded data removed]",
      "text/plain": [
       "<Figure size 640x480 with 1 Axes>"
      ]
     },
     "metadata": {},
     "output_type": "display_data"
    }
   ],
   "source": [
    "cis_df.qval.hist(bins=100)"
   ]
  },
  {
   "cell_type": "markdown",
   "metadata": {},
   "source": [
    "### *trans*-QTL mapping"
   ]
  },
  {
   "cell_type": "code",
   "execution_count": null,
   "metadata": {},
   "outputs": [],
   "source": [
    "# run mapping\n",
    "# to limit output size, only associations with p-value <= 1e-5 are returned\n",
    "trans_df = trans.map_trans(genotype_df, phenotype_df, covariates_df, batch_size=10000,\n",
    "                           return_sparse=True, pval_threshold=1e-5, maf_threshold=0.05)"
   ]
  },
  {
   "cell_type": "code",
   "execution_count": 28,
   "metadata": {},
   "outputs": [],
   "source": [
    "# remove cis-associations\n",
    "trans_df = trans.filter_cis(trans_df, phenotype_pos_df, variant_df, window=5000000)"
   ]
  },
  {
   "cell_type": "code",
   "execution_count": 20,
   "metadata": {},
   "outputs": [
    {
     "data": {
      "application/vnd.microsoft.datawrangler.viewer.v0+json": {
       "columns": [
        {
         "name": "index",
         "rawType": "int64",
         "type": "integer"
        },
        {
         "name": "variant_id",
         "rawType": "object",
         "type": "string"
        },
        {
         "name": "phenotype_id",
         "rawType": "int64",
         "type": "integer"
        },
        {
         "name": "pval",
         "rawType": "float64",
         "type": "float"
        },
        {
         "name": "b",
         "rawType": "float64",
         "type": "float"
        },
        {
         "name": "b_se",
         "rawType": "float64",
         "type": "float"
        },
        {
         "name": "af",
         "rawType": "float64",
         "type": "float"
        }
       ],
       "ref": "d602d8e5-8ac0-4af4-852b-4772c53a60a0",
       "rows": [
        [
         "0",
         "chr1_51479",
         "113324",
         "2.6600852434016106e-06",
         "-0.53367984",
         "0.031414006",
         "0.6666667"
        ],
        [
         "1",
         "chr1_51479",
         "113325",
         "1.9212692008201447e-09",
         "-0.36752465",
         "0.0064271074",
         "0.6666667"
        ],
        [
         "2",
         "chr1_51479",
         "113352",
         "4.7441979556363386e-08",
         "-0.58641666",
         "0.017526634",
         "0.6666667"
        ],
        [
         "3",
         "chr1_51479",
         "113965",
         "6.3956841567001245e-06",
         "0.59599185",
         "0.040730894",
         "0.6666667"
        ],
        [
         "4",
         "chr1_51479",
         "138685",
         "9.52236008730138e-06",
         "-0.370109",
         "0.027075553",
         "0.6666667"
        ]
       ],
       "shape": {
        "columns": 6,
        "rows": 5
       }
      },
      "text/html": [
       "<div>\n",
       "<style scoped>\n",
       "    .dataframe tbody tr th:only-of-type {\n",
       "        vertical-align: middle;\n",
       "    }\n",
       "\n",
       "    .dataframe tbody tr th {\n",
       "        vertical-align: top;\n",
       "    }\n",
       "\n",
       "    .dataframe thead th {\n",
       "        text-align: right;\n",
       "    }\n",
       "</style>\n",
       "<table border=\"1\" class=\"dataframe\">\n",
       "  <thead>\n",
       "    <tr style=\"text-align: right;\">\n",
       "      <th></th>\n",
       "      <th>variant_id</th>\n",
       "      <th>phenotype_id</th>\n",
       "      <th>pval</th>\n",
       "      <th>b</th>\n",
       "      <th>b_se</th>\n",
       "      <th>af</th>\n",
       "    </tr>\n",
       "  </thead>\n",
       "  <tbody>\n",
       "    <tr>\n",
       "      <th>0</th>\n",
       "      <td>chr1_51479</td>\n",
       "      <td>113324</td>\n",
       "      <td>2.660085e-06</td>\n",
       "      <td>-0.533680</td>\n",
       "      <td>0.031414</td>\n",
       "      <td>0.666667</td>\n",
       "    </tr>\n",
       "    <tr>\n",
       "      <th>1</th>\n",
       "      <td>chr1_51479</td>\n",
       "      <td>113325</td>\n",
       "      <td>1.921269e-09</td>\n",
       "      <td>-0.367525</td>\n",
       "      <td>0.006427</td>\n",
       "      <td>0.666667</td>\n",
       "    </tr>\n",
       "    <tr>\n",
       "      <th>2</th>\n",
       "      <td>chr1_51479</td>\n",
       "      <td>113352</td>\n",
       "      <td>4.744198e-08</td>\n",
       "      <td>-0.586417</td>\n",
       "      <td>0.017527</td>\n",
       "      <td>0.666667</td>\n",
       "    </tr>\n",
       "    <tr>\n",
       "      <th>3</th>\n",
       "      <td>chr1_51479</td>\n",
       "      <td>113965</td>\n",
       "      <td>6.395684e-06</td>\n",
       "      <td>0.595992</td>\n",
       "      <td>0.040731</td>\n",
       "      <td>0.666667</td>\n",
       "    </tr>\n",
       "    <tr>\n",
       "      <th>4</th>\n",
       "      <td>chr1_51479</td>\n",
       "      <td>138685</td>\n",
       "      <td>9.522360e-06</td>\n",
       "      <td>-0.370109</td>\n",
       "      <td>0.027076</td>\n",
       "      <td>0.666667</td>\n",
       "    </tr>\n",
       "  </tbody>\n",
       "</table>\n",
       "</div>"
      ],
      "text/plain": [
       "   variant_id  phenotype_id          pval         b      b_se        af\n",
       "0  chr1_51479        113324  2.660085e-06 -0.533680  0.031414  0.666667\n",
       "1  chr1_51479        113325  1.921269e-09 -0.367525  0.006427  0.666667\n",
       "2  chr1_51479        113352  4.744198e-08 -0.586417  0.017527  0.666667\n",
       "3  chr1_51479        113965  6.395684e-06  0.595992  0.040731  0.666667\n",
       "4  chr1_51479        138685  9.522360e-06 -0.370109  0.027076  0.666667"
      ]
     },
     "execution_count": 20,
     "metadata": {},
     "output_type": "execute_result"
    }
   ],
   "source": [
    "trans_df.head()"
   ]
  },
  {
   "cell_type": "code",
   "execution_count": 52,
   "metadata": {},
   "outputs": [],
   "source": [
    "# trans_df.to_csv(f'{prefix}_trans_qtl_pairs.22.csv', index=False)\n",
    "cis_df.to_csv(f'{prefix}_cis_qtl_pairs.22.csv', index=False)"
   ]
  },
  {
   "cell_type": "markdown",
   "metadata": {},
   "source": [
    "### 绘图"
   ]
  },
  {
   "cell_type": "code",
   "execution_count": 13,
   "metadata": {},
   "outputs": [],
   "source": [
    "# 统计每个样本鉴定的SNP数量\n",
    "nSNP=(genotype_df>0).sum(axis=0).sort_values(ascending=False)\n",
    "# 统计每个SNP出现次数的频数\n",
    "nfreq=(genotype_df>0).sum(axis=1).value_counts()"
   ]
  },
  {
   "cell_type": "code",
   "execution_count": 54,
   "metadata": {},
   "outputs": [
    {
     "data": {
      "text/plain": [
       "Text(0.5, 1.0, 'SNP Frequency Distribution')"
      ]
     },
     "execution_count": 54,
     "metadata": {},
     "output_type": "execute_result"
    },
    {
     "data": {
      "image/png": "[encoded data removed]",
      "text/plain": [
       "<Figure size 1000x600 with 1 Axes>"
      ]
     },
     "metadata": {},
     "output_type": "display_data"
    }
   ],
   "source": [
    "plt.figure(figsize=(10, 6))\n",
    "plt.bar(nfreq.index, nfreq.values)\n",
    "plt.yscale('log')\n",
    "# plt.yticks([ 1e4, 1e5,1e6,1e7])\n",
    "plt.text(0.7,0.9, f\"Total SNPs: {nfreq.sum()}\", transform=plt.gca().transAxes, fontsize=12, verticalalignment='top', bbox=dict(boxstyle='round', facecolor='white', alpha=0.5))\n",
    "# plt.xticks(range(0, 14, 1))\n",
    "plt.xlabel('SNP Frequency')\n",
    "plt.ylabel('Number of SNPs')\n",
    "plt.title('SNP Frequency Distribution')"
   ]
  },
  {
   "cell_type": "code",
   "execution_count": 12,
   "metadata": {},
   "outputs": [
    {
     "ename": "NameError",
     "evalue": "name 'nSNP' is not defined",
     "output_type": "error",
     "traceback": [
      "\u001b[0;31m---------------------------------------------------------------------------\u001b[0m",
      "\u001b[0;31mNameError\u001b[0m                                 Traceback (most recent call last)",
      "Cell \u001b[0;32mIn[12], line 3\u001b[0m\n\u001b[1;32m      1\u001b[0m \u001b[38;5;66;03m# barplot\u001b[39;00m\n\u001b[1;32m      2\u001b[0m plt\u001b[38;5;241m.\u001b[39mfigure(figsize\u001b[38;5;241m=\u001b[39m(\u001b[38;5;241m10\u001b[39m, \u001b[38;5;241m6\u001b[39m))\n\u001b[0;32m----> 3\u001b[0m plt\u001b[38;5;241m.\u001b[39mbar(\u001b[43mnSNP\u001b[49m\u001b[38;5;241m.\u001b[39mindex, nSNP\u001b[38;5;241m.\u001b[39mvalues)\n\u001b[1;32m      4\u001b[0m plt\u001b[38;5;241m.\u001b[39myscale(\u001b[38;5;124m'\u001b[39m\u001b[38;5;124mlog\u001b[39m\u001b[38;5;124m'\u001b[39m)\n\u001b[1;32m      5\u001b[0m plt\u001b[38;5;241m.\u001b[39mxticks(rotation\u001b[38;5;241m=\u001b[39m\u001b[38;5;241m90\u001b[39m)\n",
      "\u001b[0;31mNameError\u001b[0m: name 'nSNP' is not defined"
     ]
    },
    {
     "data": {
      "text/plain": [
       "<Figure size 1000x600 with 0 Axes>"
      ]
     },
     "metadata": {},
     "output_type": "display_data"
    }
   ],
   "source": [
    "# barplot\n",
    "plt.figure(figsize=(10, 6))\n",
    "plt.bar(nSNP.index, nSNP.values)\n",
    "plt.yscale('log')\n",
    "plt.xticks(rotation=90)\n",
    "plt.yticks([ 1e4, 1e5,1e6,1e7])\n",
    "plt.xlabel('Samples')\n",
    "plt.ylabel('Number of SNPs')\n",
    "plt.title('Number of SNPs per samples')"
   ]
  },
  {
   "cell_type": "code",
   "execution_count": null,
   "metadata": {},
   "outputs": [],
   "source": [
    "trans_df.shape,genotype_df.shape,cis_df.shape"
   ]
  },
  {
   "cell_type": "code",
   "execution_count": 36,
   "metadata": {},
   "outputs": [
    {
     "data": {
      "text/html": [
       "<div>\n",
       "<style scoped>\n",
       "    .dataframe tbody tr th:only-of-type {\n",
       "        vertical-align: middle;\n",
       "    }\n",
       "\n",
       "    .dataframe tbody tr th {\n",
       "        vertical-align: top;\n",
       "    }\n",
       "\n",
       "    .dataframe thead th {\n",
       "        text-align: right;\n",
       "    }\n",
       "</style>\n",
       "<table border=\"1\" class=\"dataframe\">\n",
       "  <thead>\n",
       "    <tr style=\"text-align: right;\">\n",
       "      <th></th>\n",
       "      <th>phenotype_id</th>\n",
       "      <th>variant_id</th>\n",
       "      <th>start_distance</th>\n",
       "      <th>end_distance</th>\n",
       "      <th>af</th>\n",
       "      <th>ma_samples</th>\n",
       "      <th>ma_count</th>\n",
       "      <th>pval_nominal</th>\n",
       "      <th>slope</th>\n",
       "      <th>slope_se</th>\n",
       "    </tr>\n",
       "  </thead>\n",
       "  <tbody>\n",
       "    <tr>\n",
       "      <th>0</th>\n",
       "      <td>574263</td>\n",
       "      <td>chr22_46085605_C_T</td>\n",
       "      <td>-999396</td>\n",
       "      <td>-1004395</td>\n",
       "      <td>0.5000</td>\n",
       "      <td>32</td>\n",
       "      <td>32</td>\n",
       "      <td>NaN</td>\n",
       "      <td>NaN</td>\n",
       "      <td>NaN</td>\n",
       "    </tr>\n",
       "    <tr>\n",
       "      <th>1</th>\n",
       "      <td>574263</td>\n",
       "      <td>rs8135478</td>\n",
       "      <td>-998896</td>\n",
       "      <td>-1003895</td>\n",
       "      <td>0.8000</td>\n",
       "      <td>2</td>\n",
       "      <td>13</td>\n",
       "      <td>0.949320</td>\n",
       "      <td>0.012576</td>\n",
       "      <td>0.195794</td>\n",
       "    </tr>\n",
       "    <tr>\n",
       "      <th>2</th>\n",
       "      <td>574263</td>\n",
       "      <td>chr22_46086842_G_C</td>\n",
       "      <td>-998159</td>\n",
       "      <td>-1003158</td>\n",
       "      <td>0.5000</td>\n",
       "      <td>32</td>\n",
       "      <td>32</td>\n",
       "      <td>NaN</td>\n",
       "      <td>NaN</td>\n",
       "      <td>NaN</td>\n",
       "    </tr>\n",
       "    <tr>\n",
       "      <th>3</th>\n",
       "      <td>574263</td>\n",
       "      <td>rs9626891</td>\n",
       "      <td>-997933</td>\n",
       "      <td>-1002932</td>\n",
       "      <td>0.5625</td>\n",
       "      <td>31</td>\n",
       "      <td>28</td>\n",
       "      <td>0.595991</td>\n",
       "      <td>-0.117615</td>\n",
       "      <td>0.218890</td>\n",
       "    </tr>\n",
       "    <tr>\n",
       "      <th>4</th>\n",
       "      <td>574263</td>\n",
       "      <td>chr22_46087271_G_A</td>\n",
       "      <td>-997730</td>\n",
       "      <td>-1002729</td>\n",
       "      <td>0.5000</td>\n",
       "      <td>32</td>\n",
       "      <td>32</td>\n",
       "      <td>NaN</td>\n",
       "      <td>NaN</td>\n",
       "      <td>NaN</td>\n",
       "    </tr>\n",
       "  </tbody>\n",
       "</table>\n",
       "</div>"
      ],
      "text/plain": [
       "   phenotype_id          variant_id  start_distance  end_distance      af  \\\n",
       "0        574263  chr22_46085605_C_T         -999396      -1004395  0.5000   \n",
       "1        574263           rs8135478         -998896      -1003895  0.8000   \n",
       "2        574263  chr22_46086842_G_C         -998159      -1003158  0.5000   \n",
       "3        574263           rs9626891         -997933      -1002932  0.5625   \n",
       "4        574263  chr22_46087271_G_A         -997730      -1002729  0.5000   \n",
       "\n",
       "   ma_samples  ma_count  pval_nominal     slope  slope_se  \n",
       "0          32        32           NaN       NaN       NaN  \n",
       "1           2        13      0.949320  0.012576  0.195794  \n",
       "2          32        32           NaN       NaN       NaN  \n",
       "3          31        28      0.595991 -0.117615  0.218890  \n",
       "4          32        32           NaN       NaN       NaN  "
      ]
     },
     "execution_count": 36,
     "metadata": {},
     "output_type": "execute_result"
    }
   ],
   "source": [
    "pairs_df.head()"
   ]
  },
  {
   "cell_type": "markdown",
   "metadata": {},
   "source": [
    "### 手动计算"
   ]
  },
  {
   "cell_type": "code",
   "execution_count": 3,
   "metadata": {},
   "outputs": [],
   "source": [
    "# phenotype_df.to_csv(f'{prefix}_phenotype_df.22.csv')\n",
    "# genotype_df.to_csv(f'{prefix}_genotype_df.22.csv')\n",
    "phenotype_df = pd.read_csv(f'{prefix}_phenotype_df.22.csv', index_col=0)\n",
    "genotype_df = pd.read_csv(f'{prefix}_genotype_df.22.csv', index_col=0)\n",
    "pairs_df = pd.read_parquet(f'{prefix}.cis_qtl_pairs.22.parquet')\n",
    "cis_df = pd.read_csv(f'{prefix}_cis_qtl_pairs.22.csv', index_col=0)"
   ]
  },
  {
   "cell_type": "code",
   "execution_count": 55,
   "metadata": {},
   "outputs": [
    {
     "name": "stdout",
     "output_type": "stream",
     "text": [
      "Phenotype DataFrame shape: (539677, 32)\n",
      "Genotype DataFrame shape: (10405202, 32)\n",
      "Pairs DataFrame shape: (6690417, 10)\n",
      "Cis DataFrame shape: (716, 17)\n"
     ]
    }
   ],
   "source": [
    "print(f\"Phenotype DataFrame shape: {phenotype_df.shape}\")\n",
    "print(f\"Genotype DataFrame shape: {genotype_df.shape}\")\n",
    "print(f\"Pairs DataFrame shape: {pairs_df.shape}\")\n",
    "print(f\"Cis DataFrame shape: {cis_df.shape}\")"
   ]
  },
  {
   "cell_type": "code",
   "execution_count": 59,
   "metadata": {},
   "outputs": [
    {
     "data": {
      "text/html": [
       "<div>\n",
       "<style scoped>\n",
       "    .dataframe tbody tr th:only-of-type {\n",
       "        vertical-align: middle;\n",
       "    }\n",
       "\n",
       "    .dataframe tbody tr th {\n",
       "        vertical-align: top;\n",
       "    }\n",
       "\n",
       "    .dataframe thead th {\n",
       "        text-align: right;\n",
       "    }\n",
       "</style>\n",
       "<table border=\"1\" class=\"dataframe\">\n",
       "  <thead>\n",
       "    <tr style=\"text-align: right;\">\n",
       "      <th></th>\n",
       "      <th>num_var</th>\n",
       "      <th>beta_shape1</th>\n",
       "      <th>beta_shape2</th>\n",
       "      <th>true_df</th>\n",
       "      <th>pval_true_df</th>\n",
       "      <th>variant_id</th>\n",
       "      <th>start_distance</th>\n",
       "      <th>end_distance</th>\n",
       "      <th>ma_samples</th>\n",
       "      <th>ma_count</th>\n",
       "      <th>af</th>\n",
       "      <th>pval_nominal</th>\n",
       "      <th>slope</th>\n",
       "      <th>slope_se</th>\n",
       "      <th>pval_perm</th>\n",
       "      <th>pval_beta</th>\n",
       "      <th>qval</th>\n",
       "    </tr>\n",
       "    <tr>\n",
       "      <th>phenotype_id</th>\n",
       "      <th></th>\n",
       "      <th></th>\n",
       "      <th></th>\n",
       "      <th></th>\n",
       "      <th></th>\n",
       "      <th></th>\n",
       "      <th></th>\n",
       "      <th></th>\n",
       "      <th></th>\n",
       "      <th></th>\n",
       "      <th></th>\n",
       "      <th></th>\n",
       "      <th></th>\n",
       "      <th></th>\n",
       "      <th></th>\n",
       "      <th></th>\n",
       "      <th></th>\n",
       "    </tr>\n",
       "  </thead>\n",
       "  <tbody>\n",
       "    <tr>\n",
       "      <th>574263</th>\n",
       "      <td>3151</td>\n",
       "      <td>1.066471</td>\n",
       "      <td>576.776855</td>\n",
       "      <td>20.738218</td>\n",
       "      <td>0.000681</td>\n",
       "      <td>rs454700</td>\n",
       "      <td>592427</td>\n",
       "      <td>587428</td>\n",
       "      <td>6</td>\n",
       "      <td>8</td>\n",
       "      <td>0.875000</td>\n",
       "      <td>0.000341</td>\n",
       "      <td>0.348447</td>\n",
       "      <td>0.082949</td>\n",
       "      <td>0.300770</td>\n",
       "      <td>0.294515</td>\n",
       "      <td>0.99975</td>\n",
       "    </tr>\n",
       "    <tr>\n",
       "      <th>574264</th>\n",
       "      <td>3151</td>\n",
       "      <td>1.113155</td>\n",
       "      <td>474.488525</td>\n",
       "      <td>18.313345</td>\n",
       "      <td>0.001288</td>\n",
       "      <td>rs35637220</td>\n",
       "      <td>-881082</td>\n",
       "      <td>-886081</td>\n",
       "      <td>28</td>\n",
       "      <td>17</td>\n",
       "      <td>0.722222</td>\n",
       "      <td>0.000298</td>\n",
       "      <td>-0.791011</td>\n",
       "      <td>0.185912</td>\n",
       "      <td>0.420558</td>\n",
       "      <td>0.403904</td>\n",
       "      <td>0.99975</td>\n",
       "    </tr>\n",
       "    <tr>\n",
       "      <th>574265</th>\n",
       "      <td>3161</td>\n",
       "      <td>1.076256</td>\n",
       "      <td>411.445709</td>\n",
       "      <td>18.218555</td>\n",
       "      <td>0.004712</td>\n",
       "      <td>rs4374471</td>\n",
       "      <td>-567098</td>\n",
       "      <td>-572097</td>\n",
       "      <td>29</td>\n",
       "      <td>23</td>\n",
       "      <td>0.636364</td>\n",
       "      <td>0.001452</td>\n",
       "      <td>0.590806</td>\n",
       "      <td>0.163389</td>\n",
       "      <td>0.840016</td>\n",
       "      <td>0.838779</td>\n",
       "      <td>0.99975</td>\n",
       "    </tr>\n",
       "    <tr>\n",
       "      <th>574266</th>\n",
       "      <td>3164</td>\n",
       "      <td>1.092622</td>\n",
       "      <td>221.665817</td>\n",
       "      <td>13.682797</td>\n",
       "      <td>0.007830</td>\n",
       "      <td>rs4823607</td>\n",
       "      <td>67280</td>\n",
       "      <td>62281</td>\n",
       "      <td>1</td>\n",
       "      <td>1</td>\n",
       "      <td>0.972222</td>\n",
       "      <td>0.000516</td>\n",
       "      <td>0.795607</td>\n",
       "      <td>0.197195</td>\n",
       "      <td>0.801720</td>\n",
       "      <td>0.799526</td>\n",
       "      <td>0.99975</td>\n",
       "    </tr>\n",
       "    <tr>\n",
       "      <th>574267</th>\n",
       "      <td>3166</td>\n",
       "      <td>1.104851</td>\n",
       "      <td>288.316620</td>\n",
       "      <td>16.236423</td>\n",
       "      <td>0.004295</td>\n",
       "      <td>rs1474857</td>\n",
       "      <td>119726</td>\n",
       "      <td>114727</td>\n",
       "      <td>6</td>\n",
       "      <td>16</td>\n",
       "      <td>0.750000</td>\n",
       "      <td>0.000641</td>\n",
       "      <td>-0.410243</td>\n",
       "      <td>0.103934</td>\n",
       "      <td>0.684332</td>\n",
       "      <td>0.671096</td>\n",
       "      <td>0.99975</td>\n",
       "    </tr>\n",
       "  </tbody>\n",
       "</table>\n",
       "</div>"
      ],
      "text/plain": [
       "              num_var  beta_shape1  beta_shape2    true_df  pval_true_df  \\\n",
       "phenotype_id                                                               \n",
       "574263           3151     1.066471   576.776855  20.738218      0.000681   \n",
       "574264           3151     1.113155   474.488525  18.313345      0.001288   \n",
       "574265           3161     1.076256   411.445709  18.218555      0.004712   \n",
       "574266           3164     1.092622   221.665817  13.682797      0.007830   \n",
       "574267           3166     1.104851   288.316620  16.236423      0.004295   \n",
       "\n",
       "              variant_id  start_distance  end_distance  ma_samples  ma_count  \\\n",
       "phenotype_id                                                                   \n",
       "574263          rs454700          592427        587428           6         8   \n",
       "574264        rs35637220         -881082       -886081          28        17   \n",
       "574265         rs4374471         -567098       -572097          29        23   \n",
       "574266         rs4823607           67280         62281           1         1   \n",
       "574267         rs1474857          119726        114727           6        16   \n",
       "\n",
       "                    af  pval_nominal     slope  slope_se  pval_perm  \\\n",
       "phenotype_id                                                          \n",
       "574263        0.875000      0.000341  0.348447  0.082949   0.300770   \n",
       "574264        0.722222      0.000298 -0.791011  0.185912   0.420558   \n",
       "574265        0.636364      0.001452  0.590806  0.163389   0.840016   \n",
       "574266        0.972222      0.000516  0.795607  0.197195   0.801720   \n",
       "574267        0.750000      0.000641 -0.410243  0.103934   0.684332   \n",
       "\n",
       "              pval_beta     qval  \n",
       "phenotype_id                      \n",
       "574263         0.294515  0.99975  \n",
       "574264         0.403904  0.99975  \n",
       "574265         0.838779  0.99975  \n",
       "574266         0.799526  0.99975  \n",
       "574267         0.671096  0.99975  "
      ]
     },
     "execution_count": 59,
     "metadata": {},
     "output_type": "execute_result"
    }
   ],
   "source": [
    "cis_df.head()"
   ]
  },
  {
   "cell_type": "markdown",
   "metadata": {},
   "source": [
    "### actual running"
   ]
  },
  {
   "cell_type": "code",
   "execution_count": 10,
   "metadata": {},
   "outputs": [
    {
     "ename": "ModuleNotFoundError",
     "evalue": "No module named 'manual'",
     "output_type": "error",
     "traceback": [
      "\u001b[0;31m---------------------------------------------------------------------------\u001b[0m",
      "\u001b[0;31mModuleNotFoundError\u001b[0m                       Traceback (most recent call last)",
      "Cell \u001b[0;32mIn[10], line 1\u001b[0m\n\u001b[0;32m----> 1\u001b[0m \u001b[38;5;28;01mfrom\u001b[39;00m\u001b[38;5;250m \u001b[39m\u001b[38;5;21;01mmanual\u001b[39;00m\u001b[38;5;250m \u001b[39m\u001b[38;5;28;01mimport\u001b[39;00m SNPExpressionAnalyzer\n\u001b[1;32m      2\u001b[0m \u001b[38;5;28;01mimport\u001b[39;00m\u001b[38;5;250m \u001b[39m\u001b[38;5;21;01mos\u001b[39;00m\n",
      "\u001b[0;31mModuleNotFoundError\u001b[0m: No module named 'manual'"
     ]
    }
   ],
   "source": [
    "from manual import SNPExpressionAnalyzer\n",
    "import os"
   ]
  },
  {
   "cell_type": "code",
   "execution_count": null,
   "metadata": {},
   "outputs": [],
   "source": [
    "# 04 actual running\n",
    "analyzer = SNPExpressionAnalyzer()\n",
    "analyzer.set_data_directly(genotype_df,phenotypedf, cismapdf)\n",
    "# analyzer.preprocess_genotype()\n",
    "# 批量分析\n",
    "print(\"\\n=== 批量分析 ===\")\n",
    "analyzer.batch_analysis(method='t_test')\n",
    "\n",
    "# 显示汇总统计\n",
    "print(\"\\n=== 汇总统计 ===\")\n",
    "analyzer.get_summary_statistics()"
   ]
  }
 ],
 "metadata": {
  "kernelspec": {
   "display_name": "hic",
   "language": "python",
   "name": "hic"
  },
  "language_info": {
   "codemirror_mode": {
    "name": "ipython",
    "version": 3
   },
   "file_extension": ".py",
   "mimetype": "text/x-python",
   "name": "python",
   "nbconvert_exporter": "python",
   "pygments_lexer": "ipython3",
   "version": "3.9.21"
  }
 },
 "nbformat": 4,
 "nbformat_minor": 4
}
