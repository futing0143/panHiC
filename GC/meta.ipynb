{
 "cells": [
  {
   "cell_type": "code",
   "execution_count": 1,
   "metadata": {},
   "outputs": [],
   "source": [
    "import pandas as pd"
   ]
  },
  {
   "cell_type": "code",
   "execution_count": 3,
   "metadata": {},
   "outputs": [],
   "source": [
    "meta=pd.read_csv('/cluster2/home/futing/Project/panCancer/GC/GC_anno.csv')\n",
    "SRR=pd.read_csv('/cluster2/home/futing/Project/panCancer/GC/done_July01.txt',header=None)\n",
    "result=meta.loc[meta['SRR'].isin(SRR[0]),['GSE','cell','enzyme']]\n",
    "result=result.drop_duplicates()\n",
    "result.to_csv('/cluster2/home/futing/Project/panCancer/GC/GC_metaJuly01.txt',header=None,index=None)"
   ]
  },
  {
   "cell_type": "code",
   "execution_count": 4,
   "metadata": {},
   "outputs": [],
   "source": [
    "result=meta.loc[meta['SRR'].isin(SRR[0]),['GSE','SRR','cell','enzyme']]\n",
    "result=result.drop_duplicates()\n",
    "result.to_csv('/cluster2/home/futing/Project/panCancer/GC/GC_mvfile.txt',header=None,index=None)"
   ]
  },
  {
   "cell_type": "code",
   "execution_count": null,
   "metadata": {},
   "outputs": [],
   "source": []
  }
 ],
 "metadata": {
  "kernelspec": {
   "display_name": "HiC",
   "language": "python",
   "name": "hic"
  },
  "language_info": {
   "codemirror_mode": {
    "name": "ipython",
    "version": 3
   },
   "file_extension": ".py",
   "mimetype": "text/x-python",
   "name": "python",
   "nbconvert_exporter": "python",
   "pygments_lexer": "ipython3",
   "version": "3.9.21"
  }
 },
 "nbformat": 4,
 "nbformat_minor": 2
}
