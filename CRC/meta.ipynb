{
 "cells": [
  {
   "cell_type": "code",
   "execution_count": 1,
   "metadata": {},
   "outputs": [],
   "source": [
    "import pandas as pd"
   ]
  },
  {
   "cell_type": "code",
   "execution_count": 2,
   "metadata": {},
   "outputs": [],
   "source": [
    "undone = pd.read_csv('/cluster/home/futing/Project/panCancer/CRC/CRC_undone.txt',sep=' ',header=None)\n",
    "undone.rename(columns={0:'id',1:'cell'}, inplace=True)\n",
    "post = pd.read_csv('/cluster/home/futing/Project/panCancer/CRC/post',sep=' ',header=None)\n",
    "post.rename(columns={0:'id',1:'cell'}, inplace=True)"
   ]
  },
  {
   "cell_type": "code",
   "execution_count": 3,
   "metadata": {},
   "outputs": [],
   "source": [
    "meta=pd.read_csv('/cluster/home/futing/Project/panCancer/CRC/CRC_meta.txt',sep=',',header=None)\n",
    "meta.rename(columns={0:'gse',1:'cell',2:'enzyme'}, inplace=True)"
   ]
  },
  {
   "cell_type": "code",
   "execution_count": 4,
   "metadata": {},
   "outputs": [
    {
     "data": {
      "application/vnd.microsoft.datawrangler.viewer.v0+json": {
       "columns": [
        {
         "name": "index",
         "rawType": "int64",
         "type": "integer"
        },
        {
         "name": "gse",
         "rawType": "object",
         "type": "string"
        },
        {
         "name": "cell",
         "rawType": "object",
         "type": "string"
        },
        {
         "name": "enzyme",
         "rawType": "object",
         "type": "string"
        }
       ],
       "ref": "e24fb024-24bb-4fc8-97ad-0e3705f7d4a5",
       "rows": [
        [
         "0",
         "GSE137188",
         "09-376",
         "MobI"
        ],
        [
         "1",
         "GSE137188",
         "11-1026",
         "MobI"
        ],
        [
         "2",
         "GSE137188",
         "11-1074",
         "MobI"
        ],
        [
         "3",
         "GSE137188",
         "11-51",
         "MobI"
        ],
        [
         "4",
         "GSE137188",
         "11-52",
         "MobI"
        ]
       ],
       "shape": {
        "columns": 3,
        "rows": 5
       }
      },
      "text/html": [
       "<div>\n",
       "<style scoped>\n",
       "    .dataframe tbody tr th:only-of-type {\n",
       "        vertical-align: middle;\n",
       "    }\n",
       "\n",
       "    .dataframe tbody tr th {\n",
       "        vertical-align: top;\n",
       "    }\n",
       "\n",
       "    .dataframe thead th {\n",
       "        text-align: right;\n",
       "    }\n",
       "</style>\n",
       "<table border=\"1\" class=\"dataframe\">\n",
       "  <thead>\n",
       "    <tr style=\"text-align: right;\">\n",
       "      <th></th>\n",
       "      <th>gse</th>\n",
       "      <th>cell</th>\n",
       "      <th>enzyme</th>\n",
       "    </tr>\n",
       "  </thead>\n",
       "  <tbody>\n",
       "    <tr>\n",
       "      <th>0</th>\n",
       "      <td>GSE137188</td>\n",
       "      <td>09-376</td>\n",
       "      <td>MobI</td>\n",
       "    </tr>\n",
       "    <tr>\n",
       "      <th>1</th>\n",
       "      <td>GSE137188</td>\n",
       "      <td>11-1026</td>\n",
       "      <td>MobI</td>\n",
       "    </tr>\n",
       "    <tr>\n",
       "      <th>2</th>\n",
       "      <td>GSE137188</td>\n",
       "      <td>11-1074</td>\n",
       "      <td>MobI</td>\n",
       "    </tr>\n",
       "    <tr>\n",
       "      <th>3</th>\n",
       "      <td>GSE137188</td>\n",
       "      <td>11-51</td>\n",
       "      <td>MobI</td>\n",
       "    </tr>\n",
       "    <tr>\n",
       "      <th>4</th>\n",
       "      <td>GSE137188</td>\n",
       "      <td>11-52</td>\n",
       "      <td>MobI</td>\n",
       "    </tr>\n",
       "  </tbody>\n",
       "</table>\n",
       "</div>"
      ],
      "text/plain": [
       "         gse     cell enzyme\n",
       "0  GSE137188   09-376   MobI\n",
       "1  GSE137188  11-1026   MobI\n",
       "2  GSE137188  11-1074   MobI\n",
       "3  GSE137188    11-51   MobI\n",
       "4  GSE137188    11-52   MobI"
      ]
     },
     "execution_count": 4,
     "metadata": {},
     "output_type": "execute_result"
    }
   ],
   "source": [
    "meta.head()"
   ]
  },
  {
   "cell_type": "code",
   "execution_count": 6,
   "metadata": {},
   "outputs": [],
   "source": [
    "meta_undone = meta.loc[meta['cell'].isin(undone['cell']),:]\n",
    "meta_post = meta.loc[~meta['cell'].isin(undone['cell']),:]\n",
    "meta_runpost = meta_post.loc[~meta_post['cell'].isin(post['cell']),:]"
   ]
  },
  {
   "cell_type": "code",
   "execution_count": 9,
   "metadata": {},
   "outputs": [],
   "source": [
    "meta_undone.to_csv('/cluster/home/futing/Project/panCancer/CRC/CRC_meta_undone.txt',sep=',',index=False,header=False)\n",
    "meta_post.to_csv('/cluster/home/futing/Project/panCancer/CRC/CRC_meta_post.txt',sep=',',index=False,header=False)\n",
    "meta_runpost.to_csv('/cluster/home/futing/Project/panCancer/CRC/CRC_meta_runpost.txt',sep=',',index=False,header=False)"
   ]
  },
  {
   "cell_type": "code",
   "execution_count": 8,
   "metadata": {},
   "outputs": [
    {
     "data": {
      "text/plain": [
       "((22, 3), (18, 3), (40, 3), (12, 3), (10, 2))"
      ]
     },
     "execution_count": 8,
     "metadata": {},
     "output_type": "execute_result"
    }
   ],
   "source": [
    "meta_post.shape, meta_undone.shape,meta.shape,meta_runpost.shape,post.shape"
   ]
  },
  {
   "cell_type": "code",
   "execution_count": 1,
   "metadata": {},
   "outputs": [],
   "source": [
    "import cooler"
   ]
  },
  {
   "cell_type": "code",
   "execution_count": 2,
   "metadata": {},
   "outputs": [
    {
     "data": {
      "text/plain": [
       "{'bin-size': 5000,\n",
       " 'bin-type': 'fixed',\n",
       " 'creation-date': '2025-06-03T01:36:14.383224',\n",
       " 'format': 'HDF5::Cooler',\n",
       " 'format-url': 'https://github.com/open2c/cooler',\n",
       " 'format-version': 3,\n",
       " 'generated-by': 'cooler-0.9.3',\n",
       " 'genome-assembly': 'unknown',\n",
       " 'metadata': {},\n",
       " 'nbins': 617665,\n",
       " 'nchroms': 24,\n",
       " 'nnz': 168567764,\n",
       " 'storage-mode': 'symmetric-upper',\n",
       " 'sum': 244749969}"
      ]
     },
     "execution_count": 2,
     "metadata": {},
     "output_type": "execute_result"
    }
   ],
   "source": [
    "test=cooler.Cooler('/cluster/home/futing/Project/panCancer/CRC/GSE137188/09-376/cool/09-376_5000.cool')\n",
    "test.info"
   ]
  },
  {
   "cell_type": "code",
   "execution_count": null,
   "metadata": {},
   "outputs": [],
   "source": []
  }
 ],
 "metadata": {
  "kernelspec": {
   "display_name": "HiC",
   "language": "python",
   "name": "hic"
  },
  "language_info": {
   "codemirror_mode": {
    "name": "ipython",
    "version": 3
   },
   "file_extension": ".py",
   "mimetype": "text/x-python",
   "name": "python",
   "nbconvert_exporter": "python",
   "pygments_lexer": "ipython3",
   "version": "3.9.21"
  }
 },
 "nbformat": 4,
 "nbformat_minor": 2
}
