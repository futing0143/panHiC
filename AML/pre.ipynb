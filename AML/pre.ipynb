{
 "cells": [
  {
   "cell_type": "code",
   "execution_count": 2,
   "metadata": {},
   "outputs": [],
   "source": [
    "import pandas as pd"
   ]
  },
  {
   "cell_type": "code",
   "execution_count": 3,
   "metadata": {},
   "outputs": [],
   "source": [
    "meta=pd.read_csv('/cluster2/home/futing/Project/panCancer/AML/AML.txt')\n",
    "srr=pd.read_csv('/cluster2/home/futing/Project/panCancer/AML/done.txt',header=None)"
   ]
  },
  {
   "cell_type": "code",
   "execution_count": 7,
   "metadata": {},
   "outputs": [
    {
     "data": {
      "text/html": [
       "<div>\n",
       "<style scoped>\n",
       "    .dataframe tbody tr th:only-of-type {\n",
       "        vertical-align: middle;\n",
       "    }\n",
       "\n",
       "    .dataframe tbody tr th {\n",
       "        vertical-align: top;\n",
       "    }\n",
       "\n",
       "    .dataframe thead th {\n",
       "        text-align: right;\n",
       "    }\n",
       "</style>\n",
       "<table border=\"1\" class=\"dataframe\">\n",
       "  <thead>\n",
       "    <tr style=\"text-align: right;\">\n",
       "      <th></th>\n",
       "      <th>GSE</th>\n",
       "      <th>SRR</th>\n",
       "      <th>cell</th>\n",
       "      <th>enzyme</th>\n",
       "    </tr>\n",
       "  </thead>\n",
       "  <tbody>\n",
       "    <tr>\n",
       "      <th>0</th>\n",
       "      <td>GSE108303</td>\n",
       "      <td>SRR6392077</td>\n",
       "      <td>FLT3-ITD_cHiC</td>\n",
       "      <td>HindIII</td>\n",
       "    </tr>\n",
       "    <tr>\n",
       "      <th>2</th>\n",
       "      <td>GSE115633</td>\n",
       "      <td>SRR7291404</td>\n",
       "      <td>HL60/S4</td>\n",
       "      <td>MboI</td>\n",
       "    </tr>\n",
       "    <tr>\n",
       "      <th>3</th>\n",
       "      <td>GSE115633</td>\n",
       "      <td>SRR7291405</td>\n",
       "      <td>HL60/S4</td>\n",
       "      <td>MboI</td>\n",
       "    </tr>\n",
       "    <tr>\n",
       "      <th>4</th>\n",
       "      <td>GSE115633</td>\n",
       "      <td>SRR7291406</td>\n",
       "      <td>HL60/S4</td>\n",
       "      <td>MobI</td>\n",
       "    </tr>\n",
       "    <tr>\n",
       "      <th>5</th>\n",
       "      <td>GSE120815</td>\n",
       "      <td>SRR7963042</td>\n",
       "      <td>HL60/S4</td>\n",
       "      <td>NaN</td>\n",
       "    </tr>\n",
       "  </tbody>\n",
       "</table>\n",
       "</div>"
      ],
      "text/plain": [
       "         GSE         SRR           cell   enzyme\n",
       "0  GSE108303  SRR6392077  FLT3-ITD_cHiC  HindIII\n",
       "2  GSE115633  SRR7291404        HL60/S4     MboI\n",
       "3  GSE115633  SRR7291405        HL60/S4     MboI\n",
       "4  GSE115633  SRR7291406        HL60/S4     MobI\n",
       "5  GSE120815  SRR7963042        HL60/S4      NaN"
      ]
     },
     "execution_count": 7,
     "metadata": {},
     "output_type": "execute_result"
    }
   ],
   "source": [
    "result.head()"
   ]
  },
  {
   "cell_type": "code",
   "execution_count": 11,
   "metadata": {},
   "outputs": [],
   "source": [
    "result=meta.loc[meta['SRR'].isin(srr[0]),:]\n",
    "result.to_csv('/cluster2/home/futing/Project/panCancer/AML/AML_done.txt',index=None,header=None)"
   ]
  },
  {
   "cell_type": "code",
   "execution_count": null,
   "metadata": {},
   "outputs": [],
   "source": []
  }
 ],
 "metadata": {
  "kernelspec": {
   "display_name": "HiC",
   "language": "python",
   "name": "python3"
  },
  "language_info": {
   "codemirror_mode": {
    "name": "ipython",
    "version": 3
   },
   "file_extension": ".py",
   "mimetype": "text/x-python",
   "name": "python",
   "nbconvert_exporter": "python",
   "pygments_lexer": "ipython3",
   "version": "3.9.21"
  }
 },
 "nbformat": 4,
 "nbformat_minor": 2
}
