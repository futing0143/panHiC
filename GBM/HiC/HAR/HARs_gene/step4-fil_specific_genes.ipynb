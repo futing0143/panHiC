{
 "cells": [
  {
   "cell_type": "code",
   "execution_count": 2,
   "metadata": {},
   "outputs": [
    {
     "name": "stdout",
     "output_type": "stream",
     "text": [
      "/cluster/home/futing/Project/GBM/HiC/HAR/HARs_gene/genes/long\n"
     ]
    }
   ],
   "source": [
    "import pandas as pd\n",
    "from collections import defaultdict\n",
    "import os\n",
    "%cd /cluster/home/futing/Project/GBM/HiC/HAR/HARs_gene/genes/long"
   ]
  },
  {
   "cell_type": "code",
   "execution_count": 3,
   "metadata": {},
   "outputs": [],
   "source": [
    "HARs_gene=pd.read_csv('/cluster/home/futing/Project/GBM/HiC/HAR/HARs_gene/genes/all/HARs_gene.txt',sep='\\t')\n",
    "HARs_gene_long = HARs_gene.melt(id_vars=['HAR'], value_vars=['GBM', 'NPC', 'iPSC', 'NHA'], \n",
    "\tvar_name='cell', value_name='gene')\n",
    "HARs_gene_long = HARs_gene_long.dropna()\n",
    "HARs_gene_long.rename(columns={'HAR':'enhancer'}, inplace=True)"
   ]
  },
  {
   "cell_type": "code",
   "execution_count": 4,
   "metadata": {},
   "outputs": [
    {
     "data": {
      "application/vnd.microsoft.datawrangler.viewer.v0+json": {
       "columns": [
        {
         "name": "index",
         "rawType": "int64",
         "type": "integer"
        },
        {
         "name": "enhancer",
         "rawType": "object",
         "type": "string"
        },
        {
         "name": "cell",
         "rawType": "object",
         "type": "string"
        },
        {
         "name": "gene",
         "rawType": "object",
         "type": "string"
        }
       ],
       "conversionMethod": "pd.DataFrame",
       "ref": "86bf62f0-22a8-4b3a-a59e-39fa101ec991",
       "rows": [
        [
         "1",
         "chr10_118043738_118044037",
         "GBM",
         "EMX2"
        ],
        [
         "2",
         "chr10_118043738_118044037",
         "GBM",
         "EMX2OS"
        ],
        [
         "4",
         "chr10_24728545_24728698",
         "GBM",
         "ENSG00000228667"
        ],
        [
         "5",
         "chr10_24728545_24728698",
         "GBM",
         "ENSG00000273107"
        ],
        [
         "6",
         "chr10_24728545_24728698",
         "GBM",
         "ENSG00000285859"
        ]
       ],
       "shape": {
        "columns": 3,
        "rows": 5
       }
      },
      "text/html": [
       "<div>\n",
       "<style scoped>\n",
       "    .dataframe tbody tr th:only-of-type {\n",
       "        vertical-align: middle;\n",
       "    }\n",
       "\n",
       "    .dataframe tbody tr th {\n",
       "        vertical-align: top;\n",
       "    }\n",
       "\n",
       "    .dataframe thead th {\n",
       "        text-align: right;\n",
       "    }\n",
       "</style>\n",
       "<table border=\"1\" class=\"dataframe\">\n",
       "  <thead>\n",
       "    <tr style=\"text-align: right;\">\n",
       "      <th></th>\n",
       "      <th>enhancer</th>\n",
       "      <th>cell</th>\n",
       "      <th>gene</th>\n",
       "    </tr>\n",
       "  </thead>\n",
       "  <tbody>\n",
       "    <tr>\n",
       "      <th>1</th>\n",
       "      <td>chr10_118043738_118044037</td>\n",
       "      <td>GBM</td>\n",
       "      <td>EMX2</td>\n",
       "    </tr>\n",
       "    <tr>\n",
       "      <th>2</th>\n",
       "      <td>chr10_118043738_118044037</td>\n",
       "      <td>GBM</td>\n",
       "      <td>EMX2OS</td>\n",
       "    </tr>\n",
       "    <tr>\n",
       "      <th>4</th>\n",
       "      <td>chr10_24728545_24728698</td>\n",
       "      <td>GBM</td>\n",
       "      <td>ENSG00000228667</td>\n",
       "    </tr>\n",
       "    <tr>\n",
       "      <th>5</th>\n",
       "      <td>chr10_24728545_24728698</td>\n",
       "      <td>GBM</td>\n",
       "      <td>ENSG00000273107</td>\n",
       "    </tr>\n",
       "    <tr>\n",
       "      <th>6</th>\n",
       "      <td>chr10_24728545_24728698</td>\n",
       "      <td>GBM</td>\n",
       "      <td>ENSG00000285859</td>\n",
       "    </tr>\n",
       "  </tbody>\n",
       "</table>\n",
       "</div>"
      ],
      "text/plain": [
       "                    enhancer cell             gene\n",
       "1  chr10_118043738_118044037  GBM             EMX2\n",
       "2  chr10_118043738_118044037  GBM           EMX2OS\n",
       "4    chr10_24728545_24728698  GBM  ENSG00000228667\n",
       "5    chr10_24728545_24728698  GBM  ENSG00000273107\n",
       "6    chr10_24728545_24728698  GBM  ENSG00000285859"
      ]
     },
     "execution_count": 4,
     "metadata": {},
     "output_type": "execute_result"
    }
   ],
   "source": [
    "HARs_gene_long.head()"
   ]
  },
  {
   "cell_type": "code",
   "execution_count": 9,
   "metadata": {},
   "outputs": [
    {
     "name": "stdout",
     "output_type": "stream",
     "text": [
      "✅ 简化版完成：所有特异性 enhancer-gene 结果已保存在文件夹：sGBMvsNHA/\n"
     ]
    }
   ],
   "source": [
    "df = HARs_gene_long.loc[HARs_gene_long['cell'].isin(['GBM','NHA'])].copy()\n",
    "# === Step 2: 构建 (enhancer, gene) -> set of cells 的映射 ===\n",
    "pair_cell_map = defaultdict(set)\n",
    "for _, row in df.iterrows():\n",
    "    pair = (row[\"enhancer\"], row[\"gene\"])\n",
    "    pair_cell_map[pair].add(row[\"cell\"])\n",
    "\n",
    "# === Step 3: 提取只出现在一个细胞的 pair，分类保存到每个细胞 ===\n",
    "cell_to_enhancer_gene = defaultdict(set)\n",
    "for pair, cells in pair_cell_map.items():\n",
    "    if len(cells) == 1:\n",
    "        cell = next(iter(cells))  # 唯一的细胞\n",
    "        cell_to_enhancer_gene[cell].add(pair)\n",
    "\n",
    "# === Step 4: 输出结果到每个细胞单独的文件 ===\n",
    "output_dir = \"sGBMvsNHA\"\n",
    "os.makedirs(output_dir, exist_ok=True)\n",
    "\n",
    "for cell, pairs in cell_to_enhancer_gene.items():\n",
    "    out_path = os.path.join(output_dir, f\"{cell}_specific_enhancer_gene.txt\")\n",
    "    with open(out_path, \"w\") as f:\n",
    "        for enhancer, gene in sorted(pairs):\n",
    "            f.write(f\"{enhancer}\\t{gene}\\t{cell}\\n\")\n",
    "\n",
    "print(f\"✅ 简化版完成：所有特异性 enhancer-gene 结果已保存在文件夹：{output_dir}/\")"
   ]
  },
  {
   "cell_type": "code",
   "execution_count": null,
   "metadata": {},
   "outputs": [],
   "source": []
  }
 ],
 "metadata": {
  "kernelspec": {
   "display_name": "HiC",
   "language": "python",
   "name": "hic"
  },
  "language_info": {
   "codemirror_mode": {
    "name": "ipython",
    "version": 3
   },
   "file_extension": ".py",
   "mimetype": "text/x-python",
   "name": "python",
   "nbconvert_exporter": "python",
   "pygments_lexer": "ipython3",
   "version": "3.9.21"
  }
 },
 "nbformat": 4,
 "nbformat_minor": 2
}
