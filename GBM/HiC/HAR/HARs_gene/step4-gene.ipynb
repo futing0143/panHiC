{
 "cells": [
  {
   "cell_type": "code",
   "execution_count": 1,
   "metadata": {},
   "outputs": [
    {
     "name": "stdout",
     "output_type": "stream",
     "text": [
      "/cluster/home/futing/Project/GBM/HiC/HAR/HARs_gene\n"
     ]
    }
   ],
   "source": [
    "import numpy as np\n",
    "import pandas as pd\n",
    "import re\n",
    "%cd /cluster/home/futing/Project/GBM/HiC/HAR/HARs_gene\n",
    "genedir='/cluster/home/futing/Project/GBM/HiC/HAR/HARs_gene/genes'"
   ]
  },
  {
   "cell_type": "markdown",
   "metadata": {},
   "source": [
    "### 预处理，获得HARs调控的基因\t\n",
    "* 调试用，实际运行为/cluster/home/futing/Project/GBM/HiC/HAR/HARs_gene/genes/filHARsgene.py"
   ]
  },
  {
   "cell_type": "code",
   "execution_count": 2,
   "metadata": {},
   "outputs": [],
   "source": [
    "GBM=pd.read_csv('/cluster/home/futing/Project/GBM/HiC/HAR/loopbedpe/GBM_HARs.bedpe',sep='\\t')\n",
    "GBM['HAR']=GBM['chr_H']+'_'+GBM['start_H'].astype(str)+'_'+GBM['end_H'].astype(str)"
   ]
  },
  {
   "cell_type": "code",
   "execution_count": 3,
   "metadata": {},
   "outputs": [
    {
     "name": "stderr",
     "output_type": "stream",
     "text": [
      "/tmp/ipykernel_111721/3320904052.py:3: SettingWithCopyWarning: \n",
      "A value is trying to be set on a copy of a slice from a DataFrame.\n",
      "Try using .loc[row_indexer,col_indexer] = value instead\n",
      "\n",
      "See the caveats in the documentation: https://pandas.pydata.org/pandas-docs/stable/user_guide/indexing.html#returning-a-view-versus-a-copy\n",
      "  GBM_EP.loc[:,'EHAR']=0\n"
     ]
    }
   ],
   "source": [
    "# 挑选EPloop 并判断是否是Enhancer\n",
    "GBM_EP=GBM.loc[GBM['E-P']==1,:]\n",
    "GBM_EP.loc[:,'EHAR']=0\n",
    "def is_exponential(value):\n",
    "    return bool(re.fullmatch(r\"^E\\d+$\", str(value)))\n",
    "bin1_mask = GBM_EP[\"bin1\"].astype(str).str.match(r\"^E\\d+$\")\n",
    "bin2_mask = GBM_EP[\"bin2\"].astype(str).str.match(r\"^E\\d+$\")\n",
    "\n",
    "GBM_EP.loc[bin1_mask & ((GBM_EP[\"start1\"] <= GBM_EP[\"end_H\"]) & \n",
    "                      (GBM_EP[\"start_H\"] <= GBM_EP[\"end1\"])).astype(int),'EHAR']=1\n",
    "GBM_EP.loc[bin2_mask & ((GBM_EP[\"start2\"] <= GBM_EP[\"end_H\"]) & \n",
    "                      (GBM_EP[\"start_H\"] <= GBM_EP[\"end2\"])).astype(int),'EHAR']=1\t"
   ]
  },
  {
   "cell_type": "code",
   "execution_count": null,
   "metadata": {},
   "outputs": [],
   "source": [
    "# 保证一个loop只有一个unique HAR，忽略不同的Enhancer\n",
    "GBM_EPs=GBM_EP.drop(columns=['bin1','bin2','E-E','E-P','P-P','other']).drop_duplicates()"
   ]
  },
  {
   "cell_type": "markdown",
   "metadata": {},
   "source": [
    "#### HARs 是否是 Enhancer"
   ]
  },
  {
   "cell_type": "code",
   "execution_count": 5,
   "metadata": {},
   "outputs": [],
   "source": [
    "# 查看是否是looped Enhancer\n",
    "HARs_count=GBM_EPs.loc[:,['HAR','EHAR']].drop_duplicates()"
   ]
  },
  {
   "cell_type": "code",
   "execution_count": 6,
   "metadata": {},
   "outputs": [
    {
     "data": {
      "text/plain": [
       "EHAR\n",
       "1    116\n",
       "0     76\n",
       "Name: count, dtype: int64"
      ]
     },
     "execution_count": 6,
     "metadata": {},
     "output_type": "execute_result"
    }
   ],
   "source": [
    "HARs_count['EHAR'].value_counts()"
   ]
  },
  {
   "cell_type": "code",
   "execution_count": 7,
   "metadata": {},
   "outputs": [],
   "source": [
    "HARs_count.to_csv('HARs_count.csv',sep='\\t')"
   ]
  },
  {
   "cell_type": "markdown",
   "metadata": {},
   "source": [
    "#### 寻找HARs调控基因"
   ]
  },
  {
   "cell_type": "code",
   "execution_count": 11,
   "metadata": {},
   "outputs": [],
   "source": [
    "HARs_gene=GBM_EPs.loc[GBM_EPs['EHAR']==1,['gene','chr_H','start_H','end_H','HAR']].drop_duplicates()"
   ]
  },
  {
   "cell_type": "code",
   "execution_count": 14,
   "metadata": {},
   "outputs": [],
   "source": [
    "HARs_gene.to_csv('/cluster/home/futing/Project/GBM/HiC/HAR/loopbedpe/GBM_HARsgene.txt',sep='\\t')"
   ]
  },
  {
   "cell_type": "markdown",
   "metadata": {},
   "source": [
    "## 筛选合并的基因信息\t\n",
    "*\t来源于concat3.py HARs_gene.txt"
   ]
  },
  {
   "cell_type": "code",
   "execution_count": 2,
   "metadata": {},
   "outputs": [],
   "source": [
    "HARs_gene=pd.read_csv(f'{genedir}/all/HARs_gene.txt',sep='\\t')\n",
    "HARs_gene_long = HARs_gene.melt(id_vars=['HAR'], value_vars=['GBM', 'NPC', 'iPSC', 'NHA'], \n",
    "\tvar_name='CellType', value_name='Gene')\n",
    "HARs_gene_long = HARs_gene_long.dropna()"
   ]
  },
  {
   "cell_type": "code",
   "execution_count": 12,
   "metadata": {},
   "outputs": [
    {
     "data": {
      "text/plain": [
       "(210, (537, 5))"
      ]
     },
     "execution_count": 12,
     "metadata": {},
     "output_type": "execute_result"
    }
   ],
   "source": [
    "HARs_gene['HAR'].nunique(),HARs_gene.shape"
   ]
  },
  {
   "cell_type": "markdown",
   "metadata": {},
   "source": [
    "### 按照组内数量筛选"
   ]
  },
  {
   "cell_type": "code",
   "execution_count": 14,
   "metadata": {},
   "outputs": [
    {
     "name": "stdout",
     "output_type": "stream",
     "text": [
      "all HARs_gene_long is (657, 3), ununiq HARs num is(573, 3)\n",
      "filter HARs number: 85\n"
     ]
    }
   ],
   "source": [
    "# method 1 筛选仅有一个基因的HAR\n",
    "# 寻找每组HAR中gene不唯一的 HAR，去除了只有一个基因的HAR和重复的HAR\n",
    "filter_HARs=HARs_gene_long.groupby('HAR').filter(lambda x: x['Gene'].nunique()>1)\n",
    "# filter_HARs.to_csv(f'{genedir}/long/HARsgene_ununiq.txt',sep='\\t',index=False)\n",
    "\n",
    "print(f'all HARs_gene_long is {HARs_gene_long.shape}, ununiq HARs num is{filter_HARs.shape}')\n",
    "print(f'filter HARs number: {filter_HARs.loc[filter_HARs.loc[:,\"CellType\"]==\"GBM\",\"HAR\"].nunique()}')"
   ]
  },
  {
   "cell_type": "code",
   "execution_count": 18,
   "metadata": {},
   "outputs": [
    {
     "name": "stdout",
     "output_type": "stream",
     "text": [
      "HARs with diff-regulated groups in GBMvsctrl is 199\n"
     ]
    },
    {
     "name": "stderr",
     "output_type": "stream",
     "text": [
      "/tmp/ipykernel_9937/3584049401.py:18: DeprecationWarning: DataFrameGroupBy.apply operated on the grouping columns. This behavior is deprecated, and in a future version of pandas the grouping columns will be excluded from the operation. Either pass `include_groups=False` to exclude the groupings or explicitly select the grouping columns after groupby to silence this warning.\n",
      "  GBM_diff = HARs_gene_long.groupby('HAR').apply(difgene)\n"
     ]
    }
   ],
   "source": [
    "# method 2 筛选在GBM中特异调控的HAR，即查找每个样本中的HAR调控的基因是否一致\n",
    "def difgene(df):\n",
    "\n",
    "\tGBM_genes = df.loc[df['CellType'] == 'GBM', 'Gene'].unique()\n",
    "\tother_genes = df.loc[df['CellType'] != 'GBM', 'Gene'].unique()\n",
    "\n",
    "\t# 如果两组基因不同，返回 1；否则返回 0\n",
    "\tif set(GBM_genes) != set(other_genes):\n",
    "\t\tif len(set(GBM_genes)) > len(set(other_genes)):\n",
    "\t\t\treturn 2\n",
    "\t\telse:\n",
    "\t\t\treturn 1\n",
    "\telse:\n",
    "\t\treturn 0\n",
    "\n",
    "# 差异的HAR index\n",
    "# GBM_diff = filter_HARs.groupby('HAR').apply(difgene) \n",
    "GBM_diff = HARs_gene_long.groupby('HAR').apply(difgene)\n",
    "\n",
    "# filter_HARs 矩阵筛选\n",
    "filter_HARs_GBM=HARs_gene_long.loc[HARs_gene_long['HAR'].isin(GBM_diff[GBM_diff!=0].index),:]\n",
    "print(f'HARs with diff-regulated groups in GBMvsctrl is {filter_HARs_GBM.loc[:,\"HAR\"].nunique()}')"
   ]
  },
  {
   "cell_type": "code",
   "execution_count": 4,
   "metadata": {},
   "outputs": [],
   "source": [
    "# 按照调控基因不同筛选\n",
    "# filter_HARs_GBM.to_csv(f'{genedir}/long/GBMvsNHA/HARsgene_GBMvsNHA_bygene.txt',sep='\\t',index=False)\n",
    "filter_HARs_GBM = pd.read_csv(f'{genedir}/long/GBMvsNHA/HARsgene_GBMvsNHA_bygene.txt',sep='\\t')"
   ]
  },
  {
   "cell_type": "markdown",
   "metadata": {},
   "source": [
    "### 特异性调控筛选\t\n",
    "* 来源于 step4:fil_specific_genes.ipynb 这个文件"
   ]
  },
  {
   "cell_type": "code",
   "execution_count": 5,
   "metadata": {},
   "outputs": [],
   "source": [
    "\n",
    "NHA_sgene=pd.read_csv(f'{genedir}/long/sGBMvsNHA/NHA_specific_enhancer_gene.txt',sep='\\t',header=None)\n",
    "GBM_sgene=pd.read_csv(f'{genedir}/long/sGBMvsNHA/GBM_specific_enhancer_gene.txt',sep='\\t',header=None)\n",
    "GBMvsNHA_bygene=pd.concat([NHA_sgene,GBM_sgene],axis=0)\n",
    "GBMvsNHA_bygene.columns=['HAR','Gene','Cell']\n",
    "# GBMvsNHA_bygene.to_csv(f'{genedir}/long/GBMvsNHA/HARsgene_sGBMvsNHA_bygene.txt',sep='\\t',index=False)"
   ]
  },
  {
   "cell_type": "code",
   "execution_count": 6,
   "metadata": {},
   "outputs": [],
   "source": [
    "NPC_sgene=pd.read_csv(f'{genedir}/long/sGBMvsNPC/NPC_specific_enhancer_gene.txt',sep='\\t',header=None)\n",
    "GBM_sgene=pd.read_csv(f'{genedir}/long/sGBMvsNPC/GBM_specific_enhancer_gene.txt',sep='\\t',header=None)\n",
    "GBMvsNPC_bygene=pd.concat([NPC_sgene,GBM_sgene],axis=0)\n",
    "GBMvsNPC_bygene.columns=['HAR','Gene','Cell']\n",
    "# GBMvsNPC_bygene.to_csv(f'{genedir}/long/sGBMvsNPC/HARsgene_sGBMvsNPC_bygene.txt',sep='\\t',index=False)"
   ]
  },
  {
   "cell_type": "markdown",
   "metadata": {},
   "source": [
    "### 用RNA表达进行筛选"
   ]
  },
  {
   "cell_type": "code",
   "execution_count": 9,
   "metadata": {},
   "outputs": [
    {
     "name": "stdout",
     "output_type": "stream",
     "text": [
      "Number of Diff genes: 8740\n"
     ]
    }
   ],
   "source": [
    "Deseq=pd.read_csv(f'{genedir}/RNADESeq2/NHA_vs_GBM_symbol.txt',sep='\\t')\n",
    "\n",
    "Deseq_sig=Deseq.loc[(Deseq['padj']<0.05) & (abs(Deseq['log2FoldChange'])>1),:]\n",
    "# Deseq_sig['biomart'].to_csv(f'{genedir}/RNADESeq2/NPC_vs_GBM_sig.txt',sep='\\t',index=False)\n",
    "print(f'Number of Diff genes: {len(Deseq_sig)}')"
   ]
  },
  {
   "cell_type": "code",
   "execution_count": 10,
   "metadata": {},
   "outputs": [
    {
     "name": "stdout",
     "output_type": "stream",
     "text": [
      "Num of HARs with diff-groups and diff-expressed genes is (90, 3)\n",
      "Num of HARs with diff-expressed genes is (141, 3)\n"
     ]
    }
   ],
   "source": [
    "# 01 筛选 HARs-regulated genes groups 不同的HARs\n",
    "\n",
    "name='GBMvsNPC'\n",
    "filmatrix=filter_HARs_GBM # HARs_gene_long #  \n",
    "HARs_gene_RNAfilbygene=filmatrix.loc[filmatrix['Gene'].isin(Deseq_sig['biomart']),:] #用所有的话有141个，先选择调控不同+基因差异90个\n",
    "# HARs_gene_RNAfilbygene.to_csv(f'{genedir}/long/{name}/HARsgene_{name}_bygeneRNA.txt',sep='\\t',index=False)\n",
    "print(f'Num of HARs with diff-groups and diff-expressed genes is {HARs_gene_RNAfilbygene.shape}')\n",
    "\n",
    "filmatrix=HARs_gene_long #  所有的基因\n",
    "HARs_gene_RNAfil=filmatrix.loc[filmatrix['Gene'].isin(Deseq_sig['biomart']),:] #用所有的话有141个，先选择调控不同+基因差异90个\n",
    "# HARs_gene_RNAfil.to_csv(f'{genedir}/long/{name}/HARsgene_{name}_RNA.txt',sep='\\t',index=False)\n",
    "print(f'Num of HARs with diff-expressed genes is {HARs_gene_RNAfil.shape}')"
   ]
  },
  {
   "cell_type": "code",
   "execution_count": 17,
   "metadata": {},
   "outputs": [
    {
     "name": "stdout",
     "output_type": "stream",
     "text": [
      "(64, 3)\n"
     ]
    }
   ],
   "source": [
    "# 02 筛选 E-P 不同对应的 HARs\n",
    "name='GBMvsNHA'\n",
    "filmatrix=GBMvsNHA_bygene #  所有的基因\n",
    "\n",
    "HARs_gene_RNAfil=filmatrix.loc[filmatrix['Gene'].isin(Deseq_sig['biomart']),:] #64个GBMvsNHA 94GBMvsNPC\n",
    "# HARs_gene_RNAfil.to_csv(f'{genedir}/long/s{name}/HARsgene_s{name}_bygeneRNA.txt',sep='\\t',index=False)\n",
    "print(HARs_gene_RNAfil.shape)"
   ]
  },
  {
   "cell_type": "markdown",
   "metadata": {},
   "source": [
    "## 获得互作区域\t\n",
    "*\t绘图区域获得 HAR gene的最大区域，输出至 ./genes/HARregion_GBM.txt"
   ]
  },
  {
   "cell_type": "code",
   "execution_count": 7,
   "metadata": {},
   "outputs": [],
   "source": [
    "\n",
    "# filgene=pd.read_csv('/cluster/home/futing/Project/GBM/HiC/HAR/HARs_gene/genes/filter_HARs_gene.txt',sep='\\t')\n",
    "RNA_bed=pd.read_csv('/cluster/home/futing/ref_genome/hg38_gencode/genebed/gencode.v43.gene.bed',sep='\\t',header=None)\n",
    "# RNA_bed=RNA_bed.loc[RNA_bed[8]!='ncRNA',:]\n",
    "RNA_bed=RNA_bed.iloc[:,[0,1,2,6,8]]"
   ]
  },
  {
   "cell_type": "code",
   "execution_count": 8,
   "metadata": {},
   "outputs": [],
   "source": [
    "def find_max_interval(row):\n",
    "\tstart=max((min(int(row[1]),int(row['start'])) -10000),0)\n",
    "\tend=max(int(row[2]),int(row['end'])) +10000\n",
    "\treturn pd.Series([start,end],index=['start_max','end_max'])"
   ]
  },
  {
   "cell_type": "code",
   "execution_count": 26,
   "metadata": {},
   "outputs": [
    {
     "name": "stdout",
     "output_type": "stream",
     "text": [
      "Num of HARs: 130\n"
     ]
    },
    {
     "data": {
      "application/vnd.microsoft.datawrangler.viewer.v0+json": {
       "columns": [
        {
         "name": "index",
         "rawType": "int64",
         "type": "integer"
        },
        {
         "name": "HAR",
         "rawType": "object",
         "type": "string"
        },
        {
         "name": "Gene",
         "rawType": "object",
         "type": "string"
        },
        {
         "name": "Cell",
         "rawType": "object",
         "type": "string"
        }
       ],
       "conversionMethod": "pd.DataFrame",
       "ref": "4c3205f6-e969-4ed1-98cb-42488ef984d0",
       "rows": [
        [
         "0",
         "chr10_24728545_24728698",
         "LINC01516",
         "NHA"
        ],
        [
         "1",
         "chr10_24728545_24728698",
         "RNA5SP305",
         "NHA"
        ],
        [
         "2",
         "chr10_24728545_24728698",
         "THNSL1",
         "NHA"
        ],
        [
         "3",
         "chr11_28117600_28117973",
         "BDNF",
         "NHA"
        ],
        [
         "4",
         "chr11_3831846_3832042",
         "ENSG00000255232",
         "NHA"
        ]
       ],
       "shape": {
        "columns": 3,
        "rows": 5
       }
      },
      "text/html": [
       "<div>\n",
       "<style scoped>\n",
       "    .dataframe tbody tr th:only-of-type {\n",
       "        vertical-align: middle;\n",
       "    }\n",
       "\n",
       "    .dataframe tbody tr th {\n",
       "        vertical-align: top;\n",
       "    }\n",
       "\n",
       "    .dataframe thead th {\n",
       "        text-align: right;\n",
       "    }\n",
       "</style>\n",
       "<table border=\"1\" class=\"dataframe\">\n",
       "  <thead>\n",
       "    <tr style=\"text-align: right;\">\n",
       "      <th></th>\n",
       "      <th>HAR</th>\n",
       "      <th>Gene</th>\n",
       "      <th>Cell</th>\n",
       "    </tr>\n",
       "  </thead>\n",
       "  <tbody>\n",
       "    <tr>\n",
       "      <th>0</th>\n",
       "      <td>chr10_24728545_24728698</td>\n",
       "      <td>LINC01516</td>\n",
       "      <td>NHA</td>\n",
       "    </tr>\n",
       "    <tr>\n",
       "      <th>1</th>\n",
       "      <td>chr10_24728545_24728698</td>\n",
       "      <td>RNA5SP305</td>\n",
       "      <td>NHA</td>\n",
       "    </tr>\n",
       "    <tr>\n",
       "      <th>2</th>\n",
       "      <td>chr10_24728545_24728698</td>\n",
       "      <td>THNSL1</td>\n",
       "      <td>NHA</td>\n",
       "    </tr>\n",
       "    <tr>\n",
       "      <th>3</th>\n",
       "      <td>chr11_28117600_28117973</td>\n",
       "      <td>BDNF</td>\n",
       "      <td>NHA</td>\n",
       "    </tr>\n",
       "    <tr>\n",
       "      <th>4</th>\n",
       "      <td>chr11_3831846_3832042</td>\n",
       "      <td>ENSG00000255232</td>\n",
       "      <td>NHA</td>\n",
       "    </tr>\n",
       "  </tbody>\n",
       "</table>\n",
       "</div>"
      ],
      "text/plain": [
       "                       HAR             Gene Cell\n",
       "0  chr10_24728545_24728698        LINC01516  NHA\n",
       "1  chr10_24728545_24728698        RNA5SP305  NHA\n",
       "2  chr10_24728545_24728698           THNSL1  NHA\n",
       "3  chr11_28117600_28117973             BDNF  NHA\n",
       "4    chr11_3831846_3832042  ENSG00000255232  NHA"
      ]
     },
     "execution_count": 26,
     "metadata": {},
     "output_type": "execute_result"
    }
   ],
   "source": [
    "# 定义输入 HAR 与调控基因\n",
    "filgene=GBMvsNHA_bygene\n",
    "# filgene=HARs_gene_RNAfilbygene\n",
    "# filgene = HARs_gene_RNAfil\n",
    "print(f'Num of HARs: {filgene[\"HAR\"].nunique()}')\n",
    "filgene.head()"
   ]
  },
  {
   "cell_type": "code",
   "execution_count": 27,
   "metadata": {},
   "outputs": [],
   "source": [
    "# 合并 RNA 基因组区间和 HARs 基因组区间\n",
    "filgene_anno=pd.merge(filgene,RNA_bed,left_on='Gene',right_on=6,how='left')\n",
    "filgene_anno[['chr','start','end']]=filgene_anno['HAR'].str.split('_',expand=True)\n",
    "# 同一HARs最大的互作区间\n",
    "fil_gene_max=filgene_anno.apply(find_max_interval,axis=1)\n",
    "fil_gene_max=pd.concat([filgene_anno,fil_gene_max],axis=1)\n",
    "fil_gene_max=fil_gene_max.loc[fil_gene_max['Gene']!='Y_RNA',:]\n",
    "\n",
    "# Group by HAR and aggregate\n",
    "HARregion = fil_gene_max.groupby('HAR').agg({\n",
    "    'chr': 'first',\n",
    "    'start_max': 'min',\n",
    "    'end_max': 'max',\n",
    "    'Gene': lambda x: ', '.join(sorted(set(x.dropna())))  # Add this line for regulated genes\n",
    "}).rename(columns={'Gene': 'regulated_genes'})  # Rename the new column\n",
    "\n",
    "# Reset index to make HAR a column again if needed\n",
    "HARregion = HARregion.reset_index()"
   ]
  },
  {
   "cell_type": "code",
   "execution_count": 28,
   "metadata": {},
   "outputs": [
    {
     "data": {
      "application/vnd.microsoft.datawrangler.viewer.v0+json": {
       "columns": [
        {
         "name": "index",
         "rawType": "int64",
         "type": "integer"
        },
        {
         "name": "HAR",
         "rawType": "object",
         "type": "string"
        },
        {
         "name": "chr",
         "rawType": "object",
         "type": "string"
        },
        {
         "name": "start_max",
         "rawType": "int64",
         "type": "integer"
        },
        {
         "name": "end_max",
         "rawType": "int64",
         "type": "integer"
        },
        {
         "name": "regulated_genes",
         "rawType": "object",
         "type": "string"
        }
       ],
       "conversionMethod": "pd.DataFrame",
       "ref": "497435de-bca2-46eb-8295-01bf0d4510f3",
       "rows": [
        [
         "0",
         "chr10_24728545_24728698",
         "chr10",
         "24630165",
         "25702323",
         "ENSG00000228667, ENSG00000273107, ENSG00000285859, HIRAP1, LINC01516, PRTFDC1, RNA5SP305, THNSL1"
        ],
        [
         "1",
         "chr10_8049676_8049703",
         "chr10",
         "7523206",
         "8059703",
         "ENSG00000230121"
        ],
        [
         "2",
         "chr11_10321139_10321494",
         "chr11",
         "8683350",
         "10331494",
         "AKIP1, DENND2B"
        ],
        [
         "3",
         "chr11_12329873_12330103",
         "chr11",
         "12319873",
         "12954737",
         "ENSG00000252329, TEAD1"
        ],
        [
         "4",
         "chr11_125350738_125350752",
         "chr11",
         "125340738",
         "125910646",
         "ENSG00000260209, HYLS1"
        ]
       ],
       "shape": {
        "columns": 5,
        "rows": 5
       }
      },
      "text/html": [
       "<div>\n",
       "<style scoped>\n",
       "    .dataframe tbody tr th:only-of-type {\n",
       "        vertical-align: middle;\n",
       "    }\n",
       "\n",
       "    .dataframe tbody tr th {\n",
       "        vertical-align: top;\n",
       "    }\n",
       "\n",
       "    .dataframe thead th {\n",
       "        text-align: right;\n",
       "    }\n",
       "</style>\n",
       "<table border=\"1\" class=\"dataframe\">\n",
       "  <thead>\n",
       "    <tr style=\"text-align: right;\">\n",
       "      <th></th>\n",
       "      <th>HAR</th>\n",
       "      <th>chr</th>\n",
       "      <th>start_max</th>\n",
       "      <th>end_max</th>\n",
       "      <th>regulated_genes</th>\n",
       "    </tr>\n",
       "  </thead>\n",
       "  <tbody>\n",
       "    <tr>\n",
       "      <th>0</th>\n",
       "      <td>chr10_24728545_24728698</td>\n",
       "      <td>chr10</td>\n",
       "      <td>24630165</td>\n",
       "      <td>25702323</td>\n",
       "      <td>ENSG00000228667, ENSG00000273107, ENSG00000285...</td>\n",
       "    </tr>\n",
       "    <tr>\n",
       "      <th>1</th>\n",
       "      <td>chr10_8049676_8049703</td>\n",
       "      <td>chr10</td>\n",
       "      <td>7523206</td>\n",
       "      <td>8059703</td>\n",
       "      <td>ENSG00000230121</td>\n",
       "    </tr>\n",
       "    <tr>\n",
       "      <th>2</th>\n",
       "      <td>chr11_10321139_10321494</td>\n",
       "      <td>chr11</td>\n",
       "      <td>8683350</td>\n",
       "      <td>10331494</td>\n",
       "      <td>AKIP1, DENND2B</td>\n",
       "    </tr>\n",
       "    <tr>\n",
       "      <th>3</th>\n",
       "      <td>chr11_12329873_12330103</td>\n",
       "      <td>chr11</td>\n",
       "      <td>12319873</td>\n",
       "      <td>12954737</td>\n",
       "      <td>ENSG00000252329, TEAD1</td>\n",
       "    </tr>\n",
       "    <tr>\n",
       "      <th>4</th>\n",
       "      <td>chr11_125350738_125350752</td>\n",
       "      <td>chr11</td>\n",
       "      <td>125340738</td>\n",
       "      <td>125910646</td>\n",
       "      <td>ENSG00000260209, HYLS1</td>\n",
       "    </tr>\n",
       "  </tbody>\n",
       "</table>\n",
       "</div>"
      ],
      "text/plain": [
       "                         HAR    chr  start_max    end_max  \\\n",
       "0    chr10_24728545_24728698  chr10   24630165   25702323   \n",
       "1      chr10_8049676_8049703  chr10    7523206    8059703   \n",
       "2    chr11_10321139_10321494  chr11    8683350   10331494   \n",
       "3    chr11_12329873_12330103  chr11   12319873   12954737   \n",
       "4  chr11_125350738_125350752  chr11  125340738  125910646   \n",
       "\n",
       "                                     regulated_genes  \n",
       "0  ENSG00000228667, ENSG00000273107, ENSG00000285...  \n",
       "1                                    ENSG00000230121  \n",
       "2                                     AKIP1, DENND2B  \n",
       "3                             ENSG00000252329, TEAD1  \n",
       "4                             ENSG00000260209, HYLS1  "
      ]
     },
     "execution_count": 28,
     "metadata": {},
     "output_type": "execute_result"
    }
   ],
   "source": [
    "HARregion.head()"
   ]
  },
  {
   "cell_type": "code",
   "execution_count": 29,
   "metadata": {},
   "outputs": [],
   "source": [
    "name='GBMvsNHA'\n",
    "HARregion.to_csv(f'{genedir}/HARregion/{name}/HARregion_{name}_bygenes.txt',sep='\\t')"
   ]
  },
  {
   "cell_type": "markdown",
   "metadata": {},
   "source": [
    "# process others"
   ]
  },
  {
   "cell_type": "code",
   "execution_count": 1,
   "metadata": {},
   "outputs": [],
   "source": [
    "import cooler\n",
    "import pandas as pd\n",
    "import sys"
   ]
  },
  {
   "cell_type": "code",
   "execution_count": 2,
   "metadata": {},
   "outputs": [],
   "source": [
    "name='NPC_merge'\n"
   ]
  },
  {
   "cell_type": "code",
   "execution_count": 5,
   "metadata": {},
   "outputs": [],
   "source": [
    "c = cooler.Cooler(f'/cluster/home/futing/Project/GBM/HiC/02data/03cool_order/10000/{name}_nodiag_10000.cool')\n",
    "\n"
   ]
  },
  {
   "cell_type": "code",
   "execution_count": 7,
   "metadata": {},
   "outputs": [
    {
     "data": {
      "image/png": "[encoded data removed]",
      "text/plain": [
       "<Figure size 800x800 with 2 Axes>"
      ]
     },
     "metadata": {},
     "output_type": "display_data"
    }
   ],
   "source": [
    "import matplotlib.pyplot as plt\n",
    "import numpy as np\n",
    "\n",
    "chrom = \"chr1\"     # 可改为你感兴趣的染色体\n",
    "region = \"chr12:3290697-4415490\"      # 或例如 \"chr1:0-10000000\" 限定区域\n",
    "\n",
    "\n",
    "\n",
    "# 读取矩阵（整个染色体或指定区域）\n",
    "if region:\n",
    "    matrix = c.matrix(balance=False).fetch(region)\n",
    "else:\n",
    "    matrix = c.matrix(balance=False).fetch(chrom)\n",
    "\n",
    "# 画图\n",
    "plt.figure(figsize=(8, 8))\n",
    "plt.imshow(np.log1p(matrix), cmap='Reds', origin='lower')\n",
    "plt.title(f\"{chrom} contact map\")\n",
    "plt.colorbar(label=\"log1p(counts)\")\n",
    "plt.tight_layout()\n",
    "plt.show()"
   ]
  },
  {
   "cell_type": "code",
   "execution_count": null,
   "metadata": {},
   "outputs": [],
   "source": []
  }
 ],
 "metadata": {
  "kernelspec": {
   "display_name": "HiC",
   "language": "python",
   "name": "hic"
  },
  "language_info": {
   "codemirror_mode": {
    "name": "ipython",
    "version": 3
   },
   "file_extension": ".py",
   "mimetype": "text/x-python",
   "name": "python",
   "nbconvert_exporter": "python",
   "pygments_lexer": "ipython3",
   "version": "3.9.21"
  }
 },
 "nbformat": 4,
 "nbformat_minor": 2
}
