{
 "cells": [
  {
   "cell_type": "code",
   "execution_count": 1,
   "id": "df696a27",
   "metadata": {},
   "outputs": [],
   "source": [
    "import higlass as hg\n"
   ]
  },
  {
   "cell_type": "code",
   "execution_count": 7,
   "id": "8089af81",
   "metadata": {},
   "outputs": [],
   "source": [
    "#import higlass.client as hgc\n",
    "import higlass.tilesets as hgti"
   ]
  },
  {
   "cell_type": "code",
   "execution_count": 3,
   "id": "fa50039c",
   "metadata": {},
   "outputs": [],
   "source": [
    "tileset2 = hg.cooler(\"/cluster/home/futing/Project/GBM/HiC/02data/03cool/5000/G523_5000.cool\")\n",
    "tileset1 = hg.cooler(\"/cluster/home/futing/Project/GBM/HiC/02data/03cool/5000/GB176_5000.cool\")"
   ]
  },
  {
   "cell_type": "code",
   "execution_count": 5,
   "id": "62ffaf23-2066-4da6-80cd-4751773d679c",
   "metadata": {},
   "outputs": [
    {
     "data": {
      "text/html": [
       "\n",
       "<!DOCTYPE html>\n",
       "<html>\n",
       "  <head>\n",
       "    <link rel=\"stylesheet\" href=\"https://esm.sh/higlass@1.11/dist/hglib.css\">\n",
       "    <script src=\"https://unpkg.com/requirejs-toggle\"></script>\n",
       "    \n",
       "    <script src=\"https://unpkg.com/requirejs-toggle\"></script>\n",
       "  </head>\n",
       "  <body>\n",
       "    <div id=\"jupyter-hg-910e055104864aed9508b14dbdf8312e\"></div>\n",
       "  </body>\n",
       "  <script type=\"module\">\n",
       "    import hglib from \"https://esm.sh/higlass@1.11?deps=react@17,react-dom@17,pixi.js@6\";\n",
       "    hglib.viewer(\n",
       "      document.getElementById('jupyter-hg-910e055104864aed9508b14dbdf8312e'),\n",
       "      {\"editable\": true, \"viewEditable\": true, \"tracksEditable\": true, \"views\": [{\"layout\": {\"x\": 0, \"y\": 0, \"w\": 12, \"h\": 6}, \"tracks\": {\"center\": [{\"tilesetUid\": \"d57cc9299ece5644bc2c9978008d6232\", \"server\": \"http://localhost:36676/api/v1/\", \"type\": \"heatmap\", \"uid\": \"7f930e8a-e07f-4ae0-93ce-67ee2cdadd8f\"}]}, \"uid\": \"50f6d32d-cc14-432e-916b-fa49767ec870\", \"zoomLimits\": [1, null]}]},\n",
       "    );\n",
       "    </script>\n",
       "</html>"
      ],
      "text/plain": [
       "View(layout=Layout(x=0, y=0, w=12, h=6, moved=None, static=None), tracks=Tracks[TrackT](left=None, right=None, top=None, bottom=None, center=[HeatmapTrack(tilesetUid='d57cc9299ece5644bc2c9978008d6232', server='http://localhost:36676/api/v1/', type='heatmap', uid='7f930e8a-e07f-4ae0-93ce-67ee2cdadd8f', width=None, height=None, options=None, data=None, position=None, transforms=None)], whole=None, gallery=None), uid='50f6d32d-cc14-432e-916b-fa49767ec870', autocompleteSource=None, chromInfoPath=None, genomePositionSearchBox=None, genomePositionSearchBoxVisible=None, initialXDomain=None, initialYDomain=None, overlays=None, selectionView=None, zoomFixed=None, zoomLimits=(1, None))"
      ]
     },
     "execution_count": 5,
     "metadata": {},
     "output_type": "execute_result"
    }
   ],
   "source": [
    "tileset = hg.cooler(\"/cluster/home/futing/Project/GBM/HiC/02data/04mcool/NPC.mcool\")\n",
    "hg.view(tileset.track(\"heatmap\"))"
   ]
  },
  {
   "cell_type": "code",
   "execution_count": 9,
   "id": "ef41a268-9771-457b-a467-32f3d38463e1",
   "metadata": {
    "scrolled": true
   },
   "outputs": [
    {
     "data": {
      "text/html": [
       "\n",
       "<!DOCTYPE html>\n",
       "<html>\n",
       "  <head>\n",
       "    <link rel=\"stylesheet\" href=\"https://esm.sh/higlass@1.11/dist/hglib.css\">\n",
       "    <script src=\"https://unpkg.com/requirejs-toggle\"></script>\n",
       "    \n",
       "    <script src=\"https://unpkg.com/requirejs-toggle\"></script>\n",
       "  </head>\n",
       "  <body>\n",
       "    <div id=\"jupyter-hg-99bf05e7f6d04c529134ee4601ade3ac\"></div>\n",
       "  </body>\n",
       "  <script type=\"module\">\n",
       "    import hglib from \"https://esm.sh/higlass@1.11?deps=react@17,react-dom@17,pixi.js@6\";\n",
       "    hglib.viewer(\n",
       "      document.getElementById('jupyter-hg-99bf05e7f6d04c529134ee4601ade3ac'),\n",
       "      {\"editable\": true, \"viewEditable\": true, \"tracksEditable\": true, \"views\": [{\"layout\": {\"x\": 0, \"y\": 0, \"w\": 6, \"h\": 6}, \"tracks\": {\"center\": [{\"tilesetUid\": \"CQMd6V_cRw6iCI_-Unl3PQ\", \"server\": \"https://higlass.io/api/v1/\", \"type\": \"heatmap\", \"uid\": \"5ea24cb6-d9dc-420c-9483-21da7cacd61d\", \"options\": {\"name\": \"Rao et al. (2014) GM12878 MboI (allreps) 1kb\"}}]}, \"uid\": \"ffd3e64d-82a3-4b65-bb59-b958c17630b8\", \"zoomLimits\": [1.0, null]}, {\"layout\": {\"x\": 6, \"y\": 0, \"w\": 6, \"h\": 6}, \"tracks\": {\"center\": [{\"tilesetUid\": \"QvdMEvccQuOxKTEjrVL3wA\", \"server\": \"https://higlass.io/api/v1/\", \"type\": \"heatmap\", \"uid\": \"3f9ac94e-ec79-410d-bd45-d34b012c981d\", \"options\": {\"name\": \"Rao et al. (2014) K562 MboI (allreps) 1kb\"}}]}, \"uid\": \"430d2536-1558-4200-95f9-c7fe58736e7a\", \"zoomLimits\": [1.0, null]}], \"zoomLocks\": {\"locksByViewUid\": {\"ffd3e64d-82a3-4b65-bb59-b958c17630b8\": \"11ca9adb-88ea-458a-9e95-50d2b2223b5c\", \"430d2536-1558-4200-95f9-c7fe58736e7a\": \"11ca9adb-88ea-458a-9e95-50d2b2223b5c\"}, \"locksDict\": {\"11ca9adb-88ea-458a-9e95-50d2b2223b5c\": {\"uid\": \"11ca9adb-88ea-458a-9e95-50d2b2223b5c\", \"ffd3e64d-82a3-4b65-bb59-b958c17630b8\": [1.0, 1.0, 1.0], \"430d2536-1558-4200-95f9-c7fe58736e7a\": [1.0, 1.0, 1.0]}}}, \"locationLocks\": {\"locksByViewUid\": {\"ffd3e64d-82a3-4b65-bb59-b958c17630b8\": \"11ca9adb-88ea-458a-9e95-50d2b2223b5c\", \"430d2536-1558-4200-95f9-c7fe58736e7a\": \"11ca9adb-88ea-458a-9e95-50d2b2223b5c\"}, \"locksDict\": {\"11ca9adb-88ea-458a-9e95-50d2b2223b5c\": {\"uid\": \"11ca9adb-88ea-458a-9e95-50d2b2223b5c\", \"ffd3e64d-82a3-4b65-bb59-b958c17630b8\": [1.0, 1.0, 1.0], \"430d2536-1558-4200-95f9-c7fe58736e7a\": [1.0, 1.0, 1.0]}}}, \"valueScaleLocks\": {\"locksByViewUid\": {}, \"locksDict\": {}}},\n",
       "    );\n",
       "    </script>\n",
       "</html>"
      ],
      "text/plain": [
       "Viewconf(editable=True, viewEditable=True, tracksEditable=True, zoomFixed=None, compactLayout=None, exportViewUrl=None, trackSourceServers=None, views=[View(layout=Layout(x=0, y=0, w=6, h=6, moved=None, static=None), tracks=Tracks[TrackT](left=None, right=None, top=None, bottom=None, center=[HeatmapTrack(tilesetUid='CQMd6V_cRw6iCI_-Unl3PQ', server='https://higlass.io/api/v1/', type='heatmap', uid='5ea24cb6-d9dc-420c-9483-21da7cacd61d', width=None, height=None, options={'name': 'Rao et al. (2014) GM12878 MboI (allreps) 1kb'}, data=None, position=None, transforms=None)], whole=None, gallery=None), uid='ffd3e64d-82a3-4b65-bb59-b958c17630b8', autocompleteSource=None, chromInfoPath=None, genomePositionSearchBox=None, genomePositionSearchBoxVisible=None, initialXDomain=None, initialYDomain=None, overlays=None, selectionView=None, zoomFixed=None, zoomLimits=(1.0, None)), View(layout=Layout(x=6, y=0, w=6, h=6, moved=None, static=None), tracks=Tracks[TrackT](left=None, right=None, top=None, bottom=None, center=[HeatmapTrack(tilesetUid='QvdMEvccQuOxKTEjrVL3wA', server='https://higlass.io/api/v1/', type='heatmap', uid='3f9ac94e-ec79-410d-bd45-d34b012c981d', width=None, height=None, options={'name': 'Rao et al. (2014) K562 MboI (allreps) 1kb'}, data=None, position=None, transforms=None)], whole=None, gallery=None), uid='430d2536-1558-4200-95f9-c7fe58736e7a', autocompleteSource=None, chromInfoPath=None, genomePositionSearchBox=None, genomePositionSearchBoxVisible=None, initialXDomain=None, initialYDomain=None, overlays=None, selectionView=None, zoomFixed=None, zoomLimits=(1.0, None))], zoomLocks=ZoomLocks(locksByViewUid={'ffd3e64d-82a3-4b65-bb59-b958c17630b8': '11ca9adb-88ea-458a-9e95-50d2b2223b5c', '430d2536-1558-4200-95f9-c7fe58736e7a': '11ca9adb-88ea-458a-9e95-50d2b2223b5c'}, locksDict={'11ca9adb-88ea-458a-9e95-50d2b2223b5c': Lock(uid='11ca9adb-88ea-458a-9e95-50d2b2223b5c', ffd3e64d-82a3-4b65-bb59-b958c17630b8=(1.0, 1.0, 1.0), 430d2536-1558-4200-95f9-c7fe58736e7a=(1.0, 1.0, 1.0))}), locationLocks=LocationLocks(locksByViewUid={'ffd3e64d-82a3-4b65-bb59-b958c17630b8': '11ca9adb-88ea-458a-9e95-50d2b2223b5c', '430d2536-1558-4200-95f9-c7fe58736e7a': '11ca9adb-88ea-458a-9e95-50d2b2223b5c'}, locksDict={'11ca9adb-88ea-458a-9e95-50d2b2223b5c': Lock(uid='11ca9adb-88ea-458a-9e95-50d2b2223b5c', ffd3e64d-82a3-4b65-bb59-b958c17630b8=(1.0, 1.0, 1.0), 430d2536-1558-4200-95f9-c7fe58736e7a=(1.0, 1.0, 1.0))}), valueScaleLocks=ValueScaleLocks(locksByViewUid={}, locksDict={}), chromInfoPath=None)"
      ]
     },
     "execution_count": 9,
     "metadata": {},
     "output_type": "execute_result"
    }
   ],
   "source": [
    "# Create a `hg.HeatmapTrack` for each tileset\n",
    "track1 = tileset1.track(\"heatmap\")\n",
    "track2 = tileset2.track(\"heatmap\")\n",
    "# Create two independent `hg.View`s, one for each heatmap\n",
    "view1 = hg.view(track1, width=6)\n",
    "view2 = hg.view(track2, width=6)\n",
    "\n",
    "# Lock zoom & location for each `View`\n",
    "view_lock = hg.lock(view1, view2)\n",
    "\n",
    "# Concatenate views horizontally and apply synchronization lock\n",
    "(view1 | view2).locks(view_lock)"
   ]
  },
  {
   "cell_type": "code",
   "execution_count": 6,
   "id": "dc805d28-a961-4cd2-b88c-f243b37a8dd8",
   "metadata": {},
   "outputs": [
    {
     "data": {
      "text/html": [
       "\n",
       "<!DOCTYPE html>\n",
       "<html>\n",
       "  <head>\n",
       "    <link rel=\"stylesheet\" href=\"https://esm.sh/higlass@1.11/dist/hglib.css\">\n",
       "    <script src=\"https://unpkg.com/requirejs-toggle\"></script>\n",
       "    \n",
       "    <script src=\"https://unpkg.com/requirejs-toggle\"></script>\n",
       "  </head>\n",
       "  <body>\n",
       "    <div id=\"jupyter-hg-65095d0fc8da40239cf41811e9ca065a\"></div>\n",
       "  </body>\n",
       "  <script type=\"module\">\n",
       "    import hglib from \"https://esm.sh/higlass@1.11?deps=react@17,react-dom@17,pixi.js@6\";\n",
       "    hglib.viewer(\n",
       "      document.getElementById('jupyter-hg-65095d0fc8da40239cf41811e9ca065a'),\n",
       "      {\"editable\": true, \"viewEditable\": true, \"tracksEditable\": true, \"views\": [{\"layout\": {\"x\": 0, \"y\": 0, \"w\": 6, \"h\": 6}, \"tracks\": {\"center\": [{\"tilesetUid\": \"CQMd6V_cRw6iCI_-Unl3PQ\", \"server\": \"https://higlass.io/api/v1/\", \"type\": \"heatmap\", \"uid\": \"652bcab3-44b1-4224-9896-41a690c14417\", \"options\": {\"name\": \"Rao et al. (2014) GM12878 MboI (allreps) 1kb\"}}]}, \"uid\": \"a5c63cbe-48e8-42f5-aa3c-6d8d3186435d\", \"zoomLimits\": [1.0, null]}, {\"layout\": {\"x\": 6, \"y\": 0, \"w\": 6, \"h\": 6}, \"tracks\": {\"center\": [{\"tilesetUid\": \"QvdMEvccQuOxKTEjrVL3wA\", \"server\": \"https://higlass.io/api/v1/\", \"type\": \"heatmap\", \"uid\": \"6e19ca04-3a6e-41cf-b1a8-9adce4e2663b\", \"options\": {\"name\": \"Rao et al. (2014) K562 MboI (allreps) 1kb\"}}]}, \"uid\": \"b0dcd0f9-ee2a-4b83-85b6-ec0a9104e653\", \"zoomLimits\": [1.0, null]}], \"zoomLocks\": {\"locksByViewUid\": {\"a5c63cbe-48e8-42f5-aa3c-6d8d3186435d\": \"7f0391ab-f113-4763-9e93-6f5b5eccf6f3\", \"b0dcd0f9-ee2a-4b83-85b6-ec0a9104e653\": \"7f0391ab-f113-4763-9e93-6f5b5eccf6f3\"}, \"locksDict\": {\"7f0391ab-f113-4763-9e93-6f5b5eccf6f3\": {\"uid\": \"7f0391ab-f113-4763-9e93-6f5b5eccf6f3\", \"a5c63cbe-48e8-42f5-aa3c-6d8d3186435d\": [1.0, 1.0, 1.0], \"b0dcd0f9-ee2a-4b83-85b6-ec0a9104e653\": [1.0, 1.0, 1.0]}}}, \"locationLocks\": {\"locksByViewUid\": {\"a5c63cbe-48e8-42f5-aa3c-6d8d3186435d\": \"7f0391ab-f113-4763-9e93-6f5b5eccf6f3\", \"b0dcd0f9-ee2a-4b83-85b6-ec0a9104e653\": \"7f0391ab-f113-4763-9e93-6f5b5eccf6f3\"}, \"locksDict\": {\"7f0391ab-f113-4763-9e93-6f5b5eccf6f3\": {\"uid\": \"7f0391ab-f113-4763-9e93-6f5b5eccf6f3\", \"a5c63cbe-48e8-42f5-aa3c-6d8d3186435d\": [1.0, 1.0, 1.0], \"b0dcd0f9-ee2a-4b83-85b6-ec0a9104e653\": [1.0, 1.0, 1.0]}}}, \"valueScaleLocks\": {\"locksByViewUid\": {}, \"locksDict\": {}}},\n",
       "    );\n",
       "    </script>\n",
       "</html>"
      ],
      "text/plain": [
       "Viewconf(editable=True, viewEditable=True, tracksEditable=True, zoomFixed=None, compactLayout=None, exportViewUrl=None, trackSourceServers=None, views=[View(layout=Layout(x=0, y=0, w=6, h=6, moved=None, static=None), tracks=Tracks[TrackT](left=None, right=None, top=None, bottom=None, center=[HeatmapTrack(tilesetUid='CQMd6V_cRw6iCI_-Unl3PQ', server='https://higlass.io/api/v1/', type='heatmap', uid='652bcab3-44b1-4224-9896-41a690c14417', width=None, height=None, options={'name': 'Rao et al. (2014) GM12878 MboI (allreps) 1kb'}, data=None, position=None, transforms=None)], whole=None, gallery=None), uid='a5c63cbe-48e8-42f5-aa3c-6d8d3186435d', autocompleteSource=None, chromInfoPath=None, genomePositionSearchBox=None, genomePositionSearchBoxVisible=None, initialXDomain=None, initialYDomain=None, overlays=None, selectionView=None, zoomFixed=None, zoomLimits=(1.0, None)), View(layout=Layout(x=6, y=0, w=6, h=6, moved=None, static=None), tracks=Tracks[TrackT](left=None, right=None, top=None, bottom=None, center=[HeatmapTrack(tilesetUid='QvdMEvccQuOxKTEjrVL3wA', server='https://higlass.io/api/v1/', type='heatmap', uid='6e19ca04-3a6e-41cf-b1a8-9adce4e2663b', width=None, height=None, options={'name': 'Rao et al. (2014) K562 MboI (allreps) 1kb'}, data=None, position=None, transforms=None)], whole=None, gallery=None), uid='b0dcd0f9-ee2a-4b83-85b6-ec0a9104e653', autocompleteSource=None, chromInfoPath=None, genomePositionSearchBox=None, genomePositionSearchBoxVisible=None, initialXDomain=None, initialYDomain=None, overlays=None, selectionView=None, zoomFixed=None, zoomLimits=(1.0, None))], zoomLocks=ZoomLocks(locksByViewUid={'a5c63cbe-48e8-42f5-aa3c-6d8d3186435d': '7f0391ab-f113-4763-9e93-6f5b5eccf6f3', 'b0dcd0f9-ee2a-4b83-85b6-ec0a9104e653': '7f0391ab-f113-4763-9e93-6f5b5eccf6f3'}, locksDict={'7f0391ab-f113-4763-9e93-6f5b5eccf6f3': Lock(uid='7f0391ab-f113-4763-9e93-6f5b5eccf6f3', a5c63cbe-48e8-42f5-aa3c-6d8d3186435d=(1.0, 1.0, 1.0), b0dcd0f9-ee2a-4b83-85b6-ec0a9104e653=(1.0, 1.0, 1.0))}), locationLocks=LocationLocks(locksByViewUid={'a5c63cbe-48e8-42f5-aa3c-6d8d3186435d': '7f0391ab-f113-4763-9e93-6f5b5eccf6f3', 'b0dcd0f9-ee2a-4b83-85b6-ec0a9104e653': '7f0391ab-f113-4763-9e93-6f5b5eccf6f3'}, locksDict={'7f0391ab-f113-4763-9e93-6f5b5eccf6f3': Lock(uid='7f0391ab-f113-4763-9e93-6f5b5eccf6f3', a5c63cbe-48e8-42f5-aa3c-6d8d3186435d=(1.0, 1.0, 1.0), b0dcd0f9-ee2a-4b83-85b6-ec0a9104e653=(1.0, 1.0, 1.0))}), valueScaleLocks=ValueScaleLocks(locksByViewUid={}, locksDict={}), chromInfoPath=None)"
      ]
     },
     "execution_count": 6,
     "metadata": {},
     "output_type": "execute_result"
    }
   ],
   "source": [
    "import higlass as hg\n",
    "\n",
    "# Configure remote data sources (tilesets)\n",
    "tileset1 = hg.remote(\n",
    "    uid=\"CQMd6V_cRw6iCI_-Unl3PQ\",\n",
    "    server=\"https://higlass.io/api/v1/\",\n",
    "    name=\"Rao et al. (2014) GM12878 MboI (allreps) 1kb\",\n",
    ")\n",
    "\n",
    "tileset2 = hg.remote(\n",
    "    uid=\"QvdMEvccQuOxKTEjrVL3wA\",\n",
    "    server=\"https://higlass.io/api/v1/\",\n",
    "    name=\"Rao et al. (2014) K562 MboI (allreps) 1kb\",\n",
    ")\n",
    "\n",
    "# Create a HeatmapTrack for each tileset\n",
    "track1 = tileset1.track(\"heatmap\")\n",
    "track2 = tileset2.track(\"heatmap\")\n",
    "\n",
    "# Create two independent Views, one for each heatmap\n",
    "view1 = hg.view(track1, width=6)\n",
    "view2 = hg.view(track2, width=6)\n",
    "\n",
    "# Lock zoom & location for each View\n",
    "view_lock = hg.lock(view1, view2)\n",
    "\n",
    "# Concatenate Views side-by-side, and apply synchronization lock\n",
    "(view1 | view2).locks(view_lock)"
   ]
  },
  {
   "cell_type": "code",
   "execution_count": null,
   "id": "9be62cef-60c0-4d92-9d0f-0cf2167f3ffd",
   "metadata": {},
   "outputs": [],
   "source": []
  }
 ],
 "metadata": {
  "kernelspec": {
   "display_name": "hic",
   "language": "python",
   "name": "hic"
  },
  "language_info": {
   "codemirror_mode": {
    "name": "ipython",
    "version": 3
   },
   "file_extension": ".py",
   "mimetype": "text/x-python",
   "name": "python",
   "nbconvert_exporter": "python",
   "pygments_lexer": "ipython3",
   "version": "3.10.12"
  }
 },
 "nbformat": 4,
 "nbformat_minor": 5
}
