{
 "cells": [
  {
   "cell_type": "code",
   "execution_count": 5,
   "metadata": {},
   "outputs": [
    {
     "name": "stdout",
     "output_type": "stream",
     "text": [
      "Supported resolutions (bin sizes): [2500000, 1000000, 500000, 250000, 100000, 50000, 25000, 10000, 5000, 1000]\n"
     ]
    }
   ],
   "source": [
    "import hicstraw\n",
    "\n",
    "# 加载.hic文件\n",
    "hic = hicstraw.HiCFile('/cluster/home/futing/Project/GBM/HiC/02data/02hic/scripts/GBM_hr/GBM.hic')\n",
    "\n",
    "# 获取支持的分辨率（bin size）\n",
    "resolutions = hic.getResolutions()\n",
    "\n",
    "# 打印所有支持的分辨率\n",
    "print(\"Supported resolutions (bin sizes):\", resolutions)"
   ]
  },
  {
   "cell_type": "code",
   "execution_count": 4,
   "metadata": {},
   "outputs": [
    {
     "name": "stdout",
     "output_type": "stream",
     "text": [
      "All 3088269\n",
      "chr1 248956422\n",
      "chr2 242193529\n",
      "chr3 198295559\n",
      "chr4 190214555\n",
      "chr5 181538259\n",
      "chr6 170805979\n",
      "chr7 159345973\n",
      "chr8 145138636\n",
      "chr9 138394717\n",
      "chr10 133797422\n",
      "chr11 135086622\n",
      "chr12 133275309\n",
      "chr13 114364328\n",
      "chr14 107043718\n",
      "chr15 101991189\n",
      "chr16 90338345\n",
      "chr17 83257441\n",
      "chr18 80373285\n",
      "chr19 58617616\n",
      "chr20 64444167\n",
      "chr21 46709983\n",
      "chr22 50818468\n",
      "chrX 156040895\n",
      "chrY 57227415\n"
     ]
    }
   ],
   "source": [
    "for chrom in hic.getChromosomes():\n",
    "  print(chrom.name, chrom.length)"
   ]
  },
  {
   "cell_type": "code",
   "execution_count": null,
   "metadata": {},
   "outputs": [],
   "source": []
  }
 ],
 "metadata": {
  "kernelspec": {
   "display_name": "HiC",
   "language": "python",
   "name": "python3"
  },
  "language_info": {
   "codemirror_mode": {
    "name": "ipython",
    "version": 3
   },
   "file_extension": ".py",
   "mimetype": "text/x-python",
   "name": "python",
   "nbconvert_exporter": "python",
   "pygments_lexer": "ipython3",
   "version": "3.9.21"
  }
 },
 "nbformat": 4,
 "nbformat_minor": 2
}
