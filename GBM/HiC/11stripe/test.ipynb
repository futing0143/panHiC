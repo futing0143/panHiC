{
 "cells": [
  {
   "cell_type": "code",
   "execution_count": 1,
   "metadata": {},
   "outputs": [],
   "source": [
    "import cooler"
   ]
  },
  {
   "cell_type": "code",
   "execution_count": 4,
   "metadata": {},
   "outputs": [],
   "source": [
    "test=cooler.Cooler('/cluster/home/futing/Project/GBM/HiC/11stripe/BL6.DPT.chr16.mcool::/resolutions/5000')"
   ]
  },
  {
   "cell_type": "code",
   "execution_count": 9,
   "metadata": {},
   "outputs": [
    {
     "data": {
      "application/vnd.microsoft.datawrangler.viewer.v0+json": {
       "columns": [
        {
         "name": "index",
         "rawType": "int64",
         "type": "integer"
        },
        {
         "name": "chrom",
         "rawType": "category",
         "type": "unknown"
        },
        {
         "name": "start",
         "rawType": "int32",
         "type": "integer"
        },
        {
         "name": "end",
         "rawType": "int32",
         "type": "integer"
        },
        {
         "name": "GW_SCALE",
         "rawType": "float64",
         "type": "float"
        },
        {
         "name": "KR",
         "rawType": "float64",
         "type": "float"
        },
        {
         "name": "SCALE",
         "rawType": "float64",
         "type": "float"
        },
        {
         "name": "VC",
         "rawType": "float64",
         "type": "float"
        },
        {
         "name": "VC_SQRT",
         "rawType": "float64",
         "type": "float"
        }
       ],
       "ref": "c7a2fcd7-1eba-4236-a3fc-c965b18176c0",
       "rows": [
        [
         "0",
         "16",
         "0",
         "5000",
         null,
         null,
         null,
         "0.0",
         "0.0"
        ],
        [
         "1",
         "16",
         "5000",
         "10000",
         null,
         null,
         null,
         "0.0",
         "0.0"
        ],
        [
         "2",
         "16",
         "10000",
         "15000",
         null,
         null,
         null,
         "0.0",
         "0.0"
        ],
        [
         "3",
         "16",
         "15000",
         "20000",
         null,
         null,
         null,
         "0.0",
         "0.0"
        ],
        [
         "4",
         "16",
         "20000",
         "25000",
         null,
         null,
         null,
         "0.0",
         "0.0"
        ],
        [
         "5",
         "16",
         "25000",
         "30000",
         null,
         null,
         null,
         "0.0",
         "0.0"
        ],
        [
         "6",
         "16",
         "30000",
         "35000",
         null,
         null,
         null,
         "0.0",
         "0.0"
        ],
        [
         "7",
         "16",
         "35000",
         "40000",
         null,
         null,
         null,
         "0.0",
         "0.0"
        ],
        [
         "8",
         "16",
         "40000",
         "45000",
         null,
         null,
         null,
         "0.0",
         "0.0"
        ],
        [
         "9",
         "16",
         "45000",
         "50000",
         null,
         null,
         null,
         "0.0",
         "0.0"
        ]
       ],
       "shape": {
        "columns": 8,
        "rows": 10
       }
      },
      "text/html": [
       "<div>\n",
       "<style scoped>\n",
       "    .dataframe tbody tr th:only-of-type {\n",
       "        vertical-align: middle;\n",
       "    }\n",
       "\n",
       "    .dataframe tbody tr th {\n",
       "        vertical-align: top;\n",
       "    }\n",
       "\n",
       "    .dataframe thead th {\n",
       "        text-align: right;\n",
       "    }\n",
       "</style>\n",
       "<table border=\"1\" class=\"dataframe\">\n",
       "  <thead>\n",
       "    <tr style=\"text-align: right;\">\n",
       "      <th></th>\n",
       "      <th>chrom</th>\n",
       "      <th>start</th>\n",
       "      <th>end</th>\n",
       "      <th>GW_SCALE</th>\n",
       "      <th>KR</th>\n",
       "      <th>SCALE</th>\n",
       "      <th>VC</th>\n",
       "      <th>VC_SQRT</th>\n",
       "    </tr>\n",
       "  </thead>\n",
       "  <tbody>\n",
       "    <tr>\n",
       "      <th>0</th>\n",
       "      <td>16</td>\n",
       "      <td>0</td>\n",
       "      <td>5000</td>\n",
       "      <td>NaN</td>\n",
       "      <td>NaN</td>\n",
       "      <td>NaN</td>\n",
       "      <td>0.0</td>\n",
       "      <td>0.0</td>\n",
       "    </tr>\n",
       "    <tr>\n",
       "      <th>1</th>\n",
       "      <td>16</td>\n",
       "      <td>5000</td>\n",
       "      <td>10000</td>\n",
       "      <td>NaN</td>\n",
       "      <td>NaN</td>\n",
       "      <td>NaN</td>\n",
       "      <td>0.0</td>\n",
       "      <td>0.0</td>\n",
       "    </tr>\n",
       "    <tr>\n",
       "      <th>2</th>\n",
       "      <td>16</td>\n",
       "      <td>10000</td>\n",
       "      <td>15000</td>\n",
       "      <td>NaN</td>\n",
       "      <td>NaN</td>\n",
       "      <td>NaN</td>\n",
       "      <td>0.0</td>\n",
       "      <td>0.0</td>\n",
       "    </tr>\n",
       "    <tr>\n",
       "      <th>3</th>\n",
       "      <td>16</td>\n",
       "      <td>15000</td>\n",
       "      <td>20000</td>\n",
       "      <td>NaN</td>\n",
       "      <td>NaN</td>\n",
       "      <td>NaN</td>\n",
       "      <td>0.0</td>\n",
       "      <td>0.0</td>\n",
       "    </tr>\n",
       "    <tr>\n",
       "      <th>4</th>\n",
       "      <td>16</td>\n",
       "      <td>20000</td>\n",
       "      <td>25000</td>\n",
       "      <td>NaN</td>\n",
       "      <td>NaN</td>\n",
       "      <td>NaN</td>\n",
       "      <td>0.0</td>\n",
       "      <td>0.0</td>\n",
       "    </tr>\n",
       "    <tr>\n",
       "      <th>5</th>\n",
       "      <td>16</td>\n",
       "      <td>25000</td>\n",
       "      <td>30000</td>\n",
       "      <td>NaN</td>\n",
       "      <td>NaN</td>\n",
       "      <td>NaN</td>\n",
       "      <td>0.0</td>\n",
       "      <td>0.0</td>\n",
       "    </tr>\n",
       "    <tr>\n",
       "      <th>6</th>\n",
       "      <td>16</td>\n",
       "      <td>30000</td>\n",
       "      <td>35000</td>\n",
       "      <td>NaN</td>\n",
       "      <td>NaN</td>\n",
       "      <td>NaN</td>\n",
       "      <td>0.0</td>\n",
       "      <td>0.0</td>\n",
       "    </tr>\n",
       "    <tr>\n",
       "      <th>7</th>\n",
       "      <td>16</td>\n",
       "      <td>35000</td>\n",
       "      <td>40000</td>\n",
       "      <td>NaN</td>\n",
       "      <td>NaN</td>\n",
       "      <td>NaN</td>\n",
       "      <td>0.0</td>\n",
       "      <td>0.0</td>\n",
       "    </tr>\n",
       "    <tr>\n",
       "      <th>8</th>\n",
       "      <td>16</td>\n",
       "      <td>40000</td>\n",
       "      <td>45000</td>\n",
       "      <td>NaN</td>\n",
       "      <td>NaN</td>\n",
       "      <td>NaN</td>\n",
       "      <td>0.0</td>\n",
       "      <td>0.0</td>\n",
       "    </tr>\n",
       "    <tr>\n",
       "      <th>9</th>\n",
       "      <td>16</td>\n",
       "      <td>45000</td>\n",
       "      <td>50000</td>\n",
       "      <td>NaN</td>\n",
       "      <td>NaN</td>\n",
       "      <td>NaN</td>\n",
       "      <td>0.0</td>\n",
       "      <td>0.0</td>\n",
       "    </tr>\n",
       "  </tbody>\n",
       "</table>\n",
       "</div>"
      ],
      "text/plain": [
       "  chrom  start    end  GW_SCALE  KR  SCALE   VC  VC_SQRT\n",
       "0    16      0   5000       NaN NaN    NaN  0.0      0.0\n",
       "1    16   5000  10000       NaN NaN    NaN  0.0      0.0\n",
       "2    16  10000  15000       NaN NaN    NaN  0.0      0.0\n",
       "3    16  15000  20000       NaN NaN    NaN  0.0      0.0\n",
       "4    16  20000  25000       NaN NaN    NaN  0.0      0.0\n",
       "5    16  25000  30000       NaN NaN    NaN  0.0      0.0\n",
       "6    16  30000  35000       NaN NaN    NaN  0.0      0.0\n",
       "7    16  35000  40000       NaN NaN    NaN  0.0      0.0\n",
       "8    16  40000  45000       NaN NaN    NaN  0.0      0.0\n",
       "9    16  45000  50000       NaN NaN    NaN  0.0      0.0"
      ]
     },
     "execution_count": 9,
     "metadata": {},
     "output_type": "execute_result"
    }
   ],
   "source": [
    "test.bins()[:10]"
   ]
  },
  {
   "cell_type": "code",
   "execution_count": null,
   "metadata": {},
   "outputs": [],
   "source": []
  }
 ],
 "metadata": {
  "kernelspec": {
   "display_name": "HiC",
   "language": "python",
   "name": "hic"
  },
  "language_info": {
   "codemirror_mode": {
    "name": "ipython",
    "version": 3
   },
   "file_extension": ".py",
   "mimetype": "text/x-python",
   "name": "python",
   "nbconvert_exporter": "python",
   "pygments_lexer": "ipython3",
   "version": "3.9.21"
  }
 },
 "nbformat": 4,
 "nbformat_minor": 2
}
