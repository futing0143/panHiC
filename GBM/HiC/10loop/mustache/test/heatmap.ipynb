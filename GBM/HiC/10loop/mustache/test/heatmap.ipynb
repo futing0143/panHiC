{
 "cells": [
  {
   "cell_type": "code",
   "execution_count": 1,
   "metadata": {},
   "outputs": [],
   "source": [
    "def parse_loops_and_probs(fil1, fil2):\n",
    "    \"\"\"\n",
    "    Parse two files and return a set of tuples containing the union of the first six elements\n",
    "    from each file, and a dictionary mapping the first six elements to the 7th element of each file.\n",
    "    \"\"\"\n",
    "    loop_set = set()\n",
    "    probs1 = {}\n",
    "    probs2 = {}\n",
    "    \n",
    "    with open(fil1, 'r') as source:\n",
    "        for line in source:\n",
    "            p = line.rstrip().split()\n",
    "            loop_set.add(tuple(p[:6]))\n",
    "            probs1[tuple(p[:6])] = p[6]\n",
    "    \n",
    "    with open(fil2, 'r') as source:\n",
    "        for line in source:\n",
    "            p = line.rstrip().split()\n",
    "            loop_set.add(tuple(p[:6]))\n",
    "            probs2[tuple(p[:6])] = p[6]\n",
    "    \n",
    "    return loop_set, probs1, probs2\n",
    "\n",
    "def write_output(loop_set, probs1, probs2, output_file):\n",
    "    \"\"\"\n",
    "    Write the output file with the union of loops and corresponding 7th column values from both files.\n",
    "    \"\"\"\n",
    "    with open(output_file, 'w') as out:\n",
    "        for loop in loop_set:\n",
    "            # Get the 7th column value from each file, defaulting to 0 if not found\n",
    "            val1 = probs1.get(loop, '0')\n",
    "            val2 = probs2.get(loop, '0')\n",
    "            # Write the loop and the 7th column values to the output file\n",
    "            out.write('\\t'.join(list(loop) + [val1, val2]) + '\\n')\n",
    "\n",
    "# Example usage in Jupyter Notebook\n",
    "if __name__ == \"__main__\":\n",
    "    # Replace 'file1.txt' and 'file2.txt' with the paths to your actual files\n",
    "    infil1 = '/cluster/home/tmp/GBM/HiC/10loop/mustache/test/A172vsNPC.loop1'\n",
    "    infil2 = '/cluster/home/tmp/GBM/HiC/10loop/mustache/test/G120vsNPC.loop1'\n",
    "    output_file = '/cluster/home/tmp/GBM/HiC/10loop/mustache/test/A172_G120_merged.loop'\n",
    "    \n",
    "    loop_set, probs1, probs2 = parse_loops_and_probs(infil1, infil2)\n",
    "    write_output(loop_set, probs1, probs2, output_file)"
   ]
  }
 ],
 "metadata": {
  "kernelspec": {
   "display_name": "cooltools2",
   "language": "python",
   "name": "cooltools2"
  },
  "language_info": {
   "codemirror_mode": {
    "name": "ipython",
    "version": 3
   },
   "file_extension": ".py",
   "mimetype": "text/x-python",
   "name": "python",
   "nbconvert_exporter": "python",
   "pygments_lexer": "ipython3",
   "version": "3.11.4"
  }
 },
 "nbformat": 4,
 "nbformat_minor": 2
}
