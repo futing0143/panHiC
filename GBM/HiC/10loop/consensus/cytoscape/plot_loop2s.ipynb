{
 "cells": [
  {
   "cell_type": "code",
   "execution_count": null,
   "metadata": {},
   "outputs": [],
   "source": [
    "import pandas as pd\n",
    "import matplotlib.pyplot as plt\n",
    "from matplotlib import font_manager\n",
    "import seaborn as sns\n",
    "import numpy as np  # 导入 numpy\n",
    "from scipy.stats import kruskal\n",
    "import glob\n",
    "import os\n",
    "os.chdir('/cluster/home/futing/Project/GBM/HiC/10loop/consensus/cytoscape')\n",
    "font_files = font_manager.findSystemFonts(fontpaths='/cluster/home/futing/miniforge-pypy3/envs/HiC/fonts/')\n",
    "font_manager.fontManager.addfont('/cluster/home/futing/miniforge-pypy3/envs/HiC/fonts/Arial.ttf')\n",
    "arial_font = font_manager.FontProperties(fname='Arial.ttf')\n",
    "for file in font_files:\n",
    "    font_manager.fontManager.addfont(file)\n",
    "plt.rcParams['font.family'] = 'sans-serif'\n",
    "plt.rcParams['font.sans-serif'] = ['Arial'] \n",
    "plt.rcParams['pdf.fonttype'] = 42\n",
    "RNA=pd.read_csv('/cluster/home/futing/Project/GBM/HiC/hubgene/new/TPM_avg_updated.txt',sep='\\t')"
   ]
  },
  {
   "cell_type": "code",
   "execution_count": 2,
   "metadata": {},
   "outputs": [
    {
     "name": "stdout",
     "output_type": "stream",
     "text": [
      "31487\n",
      "27538\n",
      "31747\n",
      "43255\n",
      "            GBM       NPC      iPSC       NHA\n",
      "E-E    0.381554  0.230373  0.015246  0.048295\n",
      "E-P    0.397910  0.287348  0.067880  0.143706\n",
      "P-P    0.193921  0.175249  0.155920  0.209594\n",
      "other  0.503986  0.627533  0.825558  0.758248\n",
      "         GBM    NPC   iPSC    NHA\n",
      "E-E    12014   6344    484   2089\n",
      "E-P    12529   7913   2155   6216\n",
      "P-P     6106   4826   4950   9066\n",
      "other  15869  17281  26209  32798\n"
     ]
    }
   ],
   "source": [
    "loopnum=pd.DataFrame(index=['E-E','E-P','P-P','other'])\n",
    "loopfrac=pd.DataFrame(index=['E-E','E-P','P-P','other'])\n",
    "celllist=['GBM', 'NPC', 'iPSC', 'NHA']\n",
    "for i in celllist:\n",
    "\tfile = pd.read_csv(f'{i}/{i}_loop.bed',sep='\\t')\n",
    "\tdupfile=file.loc[:,['loopid','E-E','E-P','P-P','other']].drop_duplicates()\n",
    "\tEE = dupfile['E-E'].sum()\n",
    "\tEP = dupfile['E-P'].sum()\n",
    "\tPP = dupfile['P-P'].sum()\n",
    "\tother = dupfile['other'].sum()\n",
    "\tloopnum[i] = [EE, EP, PP, other]\n",
    "\t# 除所有loop的数量\n",
    "\tloopid = dupfile['loopid'].nunique()\n",
    "\tprint(loopid)\n",
    "\tloopfrac[i] = [EE / loopid, EP / loopid, PP / loopid, other / loopid]\n",
    "\n",
    "# loopfrac = loopnum.apply(lambda x: x / x.sum(), axis=0)\n",
    "print(loopfrac)\n",
    "print(loopnum)\n"
   ]
  },
  {
   "cell_type": "code",
   "execution_count": 7,
   "metadata": {},
   "outputs": [
    {
     "data": {
      "image/png": "[encoded data removed]",
      "text/plain": [
       "<Figure size 500x400 with 1 Axes>"
      ]
     },
     "metadata": {},
     "output_type": "display_data"
    }
   ],
   "source": [
    "from matplotlib.ticker import PercentFormatter\n",
    "from matplotlib.colors import LinearSegmentedColormap\n",
    "bluered=[\"#16365F\",\"#77A3BB\",\"#F8F2ED\",\"#D64F38\"]\n",
    "custom_cmap = LinearSegmentedColormap.from_list('custom_cmap', ['#1065ad' ,'white', '#bc020f' ])\n",
    "mypalette = ['#a6cee3','#33a02c','#b2df8a','#1f78b4','#e31a1c','#fb9a99','#fdbf6f']\n",
    "\n",
    "df_long = loopfrac.reset_index().melt(id_vars=\"index\", var_name=\"Sample\", value_name=\"Count\")\n",
    "df_long.rename(columns={\"index\": \"Category\"}, inplace=True)\n",
    "fig, ax = plt.subplots(figsize=(5, 4))\n",
    "sns.barplot(data=df_long, x=\"Category\", y=\"Count\", hue=\"Sample\", palette=bluered, \n",
    "\t\t\tax=ax,    linewidth=0.5,      # 边线粗细（默认0，无边框）\n",
    "    \tedgecolor=\"black\")   # 边线颜色（默认None）)\n",
    "\n",
    "# 设置y轴为百分制\n",
    "ax.yaxis.set_major_formatter(PercentFormatter(1.0))  # 假设数据范围是 0~1（如 0.5 显示为 50%）\n",
    "# 如果数据范围是 0~100，则用 PercentFormatter(100)\n",
    "\n",
    "sns.despine()\n",
    "ax.set_ylabel('fraction of loops (%)')  # 修改ylabel单位\n",
    "ax.set_xlabel('')\n",
    "plt.legend(bbox_to_anchor=(1.05, 1), loc='upper left')\n",
    "plt.tight_layout()\n",
    "plt.savefig('loopfraction.pdf', format='pdf', dpi=500, bbox_inches='tight', pad_inches=0.5)"
   ]
  },
  {
   "cell_type": "code",
   "execution_count": 9,
   "metadata": {},
   "outputs": [],
   "source": [
    "NHA=pd.read_csv('/cluster/home/futing/Project/GBM/HiC/10loop/consensus/cytoscape/NHA/NHA.EP',sep='\\t',header=None)"
   ]
  },
  {
   "cell_type": "code",
   "execution_count": 12,
   "metadata": {},
   "outputs": [
    {
     "data": {
      "text/plain": [
       "--    32982\n",
       "PP     9066\n",
       "PE     3941\n",
       "EP     3758\n",
       "EE     2105\n",
       "Name: 10, dtype: int64"
      ]
     },
     "execution_count": 12,
     "metadata": {},
     "output_type": "execute_result"
    }
   ],
   "source": [
    "NHA[10].value_counts()"
   ]
  },
  {
   "cell_type": "code",
   "execution_count": 12,
   "metadata": {},
   "outputs": [],
   "source": [
    "RNA['Gene']=RNA['Gene'].astype(str).str.upper()"
   ]
  },
  {
   "cell_type": "code",
   "execution_count": null,
   "metadata": {},
   "outputs": [
    {
     "name": "stdout",
     "output_type": "stream",
     "text": [
      "        gene cell looptype\n",
      "0   PRKCZ-DT  GBM      E-P\n",
      "1      PRKCZ  GBM      E-P\n",
      "4  PRKCZ-AS1  GBM      E-P\n",
      "7      MORN1  GBM      E-P\n",
      "8       RER1  GBM      E-P\n"
     ]
    }
   ],
   "source": [
    "RNAdf = pd.DataFrame(columns=['gene', 'cell', 'looptype'])\n",
    "\n",
    "for cell in celllist:\n",
    "    # 修正：使用cell变量而不是i\n",
    "    file = pd.read_csv(f'{cell}/{cell}_loop.bed', sep='\\t')\n",
    "    \n",
    "    # 转换数据格式\n",
    "    long_df = file.melt(\n",
    "        id_vars='gene',\n",
    "        value_vars=['E-P', 'P-P', 'other'],\n",
    "        var_name='looptype', \n",
    "        value_name='is_type'\n",
    "    )\n",
    "    result = long_df[long_df['is_type'] == 1].drop('is_type', axis=1)\n",
    "    result['cell'] = cell\n",
    "    \n",
    "    RNAdf = pd.concat([RNAdf, result[['gene', 'cell', 'looptype']]], ignore_index=True)\n",
    "RNAdf=RNAdf.drop_duplicates()\n"
   ]
  },
  {
   "cell_type": "code",
   "execution_count": 32,
   "metadata": {},
   "outputs": [],
   "source": [
    "RNAlong=RNA.melt(\n",
    "\tid_vars='Gene',\n",
    "\tvalue_vars=['GBM','NPC','iPSC','NHA'],\n",
    "\tvar_name='cell',\n",
    "\tvalue_name='expr'\n",
    ")\n",
    "RNAlong=RNAlong.rename(columns={'Gene':'gene'})"
   ]
  },
  {
   "cell_type": "code",
   "execution_count": 47,
   "metadata": {},
   "outputs": [
    {
     "name": "stdout",
     "output_type": "stream",
     "text": [
      "        gene cell looptype       expr\n",
      "0   PRKCZ-DT  GBM      E-P        NaN\n",
      "1      PRKCZ  GBM      E-P  21.947855\n",
      "2  PRKCZ-AS1  GBM      E-P   2.420836\n",
      "3      MORN1  GBM      E-P   6.365480\n",
      "4       RER1  GBM      E-P  98.742888\n"
     ]
    }
   ],
   "source": [
    "merged_df = pd.merge(\n",
    "    RNAdf,\n",
    "    RNAlong,\n",
    "    on=['gene', 'cell'],  # 按两列合并\n",
    "    how='left'            # 保留RNAdf的所有行，expr_df匹配不到的填NaN\n",
    ")\n",
    "# 检查结果\n",
    "print(merged_df.head())"
   ]
  },
  {
   "cell_type": "code",
   "execution_count": 48,
   "metadata": {},
   "outputs": [
    {
     "data": {
      "text/plain": [
       "P-P      52107\n",
       "E-P      37459\n",
       "other        4\n",
       "Name: looptype, dtype: int64"
      ]
     },
     "execution_count": 48,
     "metadata": {},
     "output_type": "execute_result"
    }
   ],
   "source": [
    "merged_df['looptype'].value_counts()"
   ]
  },
  {
   "cell_type": "code",
   "execution_count": 36,
   "metadata": {},
   "outputs": [],
   "source": [
    "merged_df.to_csv('RNA_loop.txt',sep='\\t')"
   ]
  },
  {
   "cell_type": "code",
   "execution_count": 49,
   "metadata": {},
   "outputs": [],
   "source": [
    "\n",
    "merged_df['logexpr']=np.log2(merged_df['expr']+1)"
   ]
  },
  {
   "cell_type": "code",
   "execution_count": 51,
   "metadata": {},
   "outputs": [],
   "source": [
    "merged_df=merged_df.loc[merged_df['looptype']!='other',:]"
   ]
  },
  {
   "cell_type": "code",
   "execution_count": 52,
   "metadata": {},
   "outputs": [
    {
     "data": {
      "text/html": [
       "<div>\n",
       "<style scoped>\n",
       "    .dataframe tbody tr th:only-of-type {\n",
       "        vertical-align: middle;\n",
       "    }\n",
       "\n",
       "    .dataframe tbody tr th {\n",
       "        vertical-align: top;\n",
       "    }\n",
       "\n",
       "    .dataframe thead th {\n",
       "        text-align: right;\n",
       "    }\n",
       "</style>\n",
       "<table border=\"1\" class=\"dataframe\">\n",
       "  <thead>\n",
       "    <tr style=\"text-align: right;\">\n",
       "      <th></th>\n",
       "      <th>gene</th>\n",
       "      <th>cell</th>\n",
       "      <th>looptype</th>\n",
       "      <th>expr</th>\n",
       "      <th>logexpr</th>\n",
       "    </tr>\n",
       "  </thead>\n",
       "  <tbody>\n",
       "    <tr>\n",
       "      <th>0</th>\n",
       "      <td>PRKCZ-DT</td>\n",
       "      <td>GBM</td>\n",
       "      <td>E-P</td>\n",
       "      <td>NaN</td>\n",
       "      <td>NaN</td>\n",
       "    </tr>\n",
       "    <tr>\n",
       "      <th>1</th>\n",
       "      <td>PRKCZ</td>\n",
       "      <td>GBM</td>\n",
       "      <td>E-P</td>\n",
       "      <td>21.947855</td>\n",
       "      <td>4.520287</td>\n",
       "    </tr>\n",
       "    <tr>\n",
       "      <th>2</th>\n",
       "      <td>PRKCZ-AS1</td>\n",
       "      <td>GBM</td>\n",
       "      <td>E-P</td>\n",
       "      <td>2.420836</td>\n",
       "      <td>1.774349</td>\n",
       "    </tr>\n",
       "    <tr>\n",
       "      <th>3</th>\n",
       "      <td>MORN1</td>\n",
       "      <td>GBM</td>\n",
       "      <td>E-P</td>\n",
       "      <td>6.365480</td>\n",
       "      <td>2.880779</td>\n",
       "    </tr>\n",
       "    <tr>\n",
       "      <th>4</th>\n",
       "      <td>RER1</td>\n",
       "      <td>GBM</td>\n",
       "      <td>E-P</td>\n",
       "      <td>98.742888</td>\n",
       "      <td>6.640142</td>\n",
       "    </tr>\n",
       "  </tbody>\n",
       "</table>\n",
       "</div>"
      ],
      "text/plain": [
       "        gene cell looptype       expr   logexpr\n",
       "0   PRKCZ-DT  GBM      E-P        NaN       NaN\n",
       "1      PRKCZ  GBM      E-P  21.947855  4.520287\n",
       "2  PRKCZ-AS1  GBM      E-P   2.420836  1.774349\n",
       "3      MORN1  GBM      E-P   6.365480  2.880779\n",
       "4       RER1  GBM      E-P  98.742888  6.640142"
      ]
     },
     "execution_count": 52,
     "metadata": {},
     "output_type": "execute_result"
    }
   ],
   "source": [
    "merged_df.head()"
   ]
  },
  {
   "cell_type": "code",
   "execution_count": 68,
   "metadata": {},
   "outputs": [],
   "source": [
    "genecounts=merged_df[['cell','looptype']].value_counts()"
   ]
  },
  {
   "cell_type": "code",
   "execution_count": 72,
   "metadata": {},
   "outputs": [
    {
     "data": {
      "text/plain": [
       "MultiIndex([( 'NHA', 'P-P'),\n",
       "            ( 'GBM', 'E-P'),\n",
       "            ( 'GBM', 'P-P'),\n",
       "            ('iPSC', 'P-P'),\n",
       "            ( 'NPC', 'P-P'),\n",
       "            ( 'NPC', 'E-P'),\n",
       "            ( 'NHA', 'E-P'),\n",
       "            ('iPSC', 'E-P')],\n",
       "           names=['cell', 'looptype'])"
      ]
     },
     "execution_count": 72,
     "metadata": {},
     "output_type": "execute_result"
    }
   ],
   "source": [
    "genecounts.index"
   ]
  },
  {
   "cell_type": "code",
   "execution_count": 73,
   "metadata": {},
   "outputs": [
    {
     "data": {
      "image/png": "[encoded data removed]",
      "text/plain": [
       "<Figure size 500x400 with 1 Axes>"
      ]
     },
     "metadata": {},
     "output_type": "display_data"
    }
   ],
   "source": [
    "# from statannotations.Annotator import Annotator\n",
    "fig, ax = plt.subplots(figsize=(5, 4))\n",
    "sns.boxplot(data=merged_df, x=\"looptype\", y=\"logexpr\", hue=\"cell\", palette=bluered, linewidth=0.75,  \n",
    "\t\t\tax=ax,showfliers=False)   # 边线颜色（默认None）)\n",
    "\n",
    "sns.despine()\n",
    "ax.set_ylabel('log2(TPM + 1)')  # 修改ylabel单位\n",
    "ax.set_xlabel('')\n",
    "plt.legend(bbox_to_anchor=(1.05, 1), loc='upper left')\n",
    "plt.tight_layout()\n",
    "plt.savefig('expr_loops.pdf', format='pdf', dpi=500, bbox_inches='tight', pad_inches=0.5)"
   ]
  },
  {
   "cell_type": "code",
   "execution_count": 63,
   "metadata": {},
   "outputs": [
    {
     "name": "stdout",
     "output_type": "stream",
     "text": [
      "显著的两两比较：\n",
      "      group1    group2          p_val\n",
      "1    GBM_E-P   NPC_E-P   9.184878e-35\n",
      "2    GBM_E-P   NPC_P-P   8.302511e-45\n",
      "3    GBM_E-P  iPSC_E-P   4.612452e-19\n",
      "4    GBM_E-P  iPSC_P-P  2.483280e-114\n",
      "5    GBM_E-P   NHA_E-P   8.226109e-11\n",
      "6    GBM_E-P   NHA_P-P   5.071074e-71\n",
      "7    GBM_P-P   NPC_E-P   9.160340e-30\n",
      "8    GBM_P-P   NPC_P-P   1.024819e-38\n",
      "9    GBM_P-P  iPSC_E-P   6.442943e-17\n",
      "10   GBM_P-P  iPSC_P-P  2.130825e-102\n",
      "11   GBM_P-P   NHA_E-P   1.480531e-08\n",
      "12   GBM_P-P   NHA_P-P   3.363035e-61\n",
      "15   NPC_E-P  iPSC_P-P   2.225261e-21\n",
      "16   NPC_E-P   NHA_E-P   4.729537e-09\n",
      "17   NPC_E-P   NHA_P-P   7.782614e-03\n",
      "19   NPC_P-P  iPSC_P-P   3.105074e-16\n",
      "20   NPC_P-P   NHA_E-P   1.087586e-13\n",
      "22  iPSC_E-P  iPSC_P-P   6.026070e-10\n",
      "23  iPSC_E-P   NHA_E-P   2.180880e-06\n",
      "25  iPSC_P-P   NHA_E-P   1.530879e-56\n",
      "26  iPSC_P-P   NHA_P-P   2.312695e-18\n",
      "27   NHA_E-P   NHA_P-P   1.771532e-22\n"
     ]
    }
   ],
   "source": [
    "from scipy.stats import ttest_ind\n",
    "from itertools import combinations\n",
    "df=merged_df.copy()\n",
    "df=df.dropna()\n",
    "groups = ['GBM_E-P', 'GBM_P-P', 'NPC_E-P', 'NPC_P-P', \n",
    "          'iPSC_E-P', 'iPSC_P-P', 'NHA_E-P', 'NHA_P-P']\n",
    "df['group'] = df['cell'] + '_' + df['looptype']  # 合并cell和looptype\n",
    "\n",
    "# 计算所有两两t检验的p值\n",
    "results = []\n",
    "for (group1, group2) in combinations(groups, 2):\n",
    "    data1 = df[df['group'] == group1]['logexpr']\n",
    "    data2 = df[df['group'] == group2]['logexpr']\n",
    "    t_stat, p_val = ttest_ind(data1, data2)\n",
    "    results.append({\n",
    "        'group1': group1,\n",
    "        'group2': group2,\n",
    "        'p_val': p_val\n",
    "    })\n",
    "\n",
    "# 转换为DataFrame并筛选显著结果 (p < 0.05)\n",
    "results_df = pd.DataFrame(results)\n",
    "significant_pairs = results_df[results_df['p_val'] < 0.05]\n",
    "print(\"显著的两两比较：\")\n",
    "print(significant_pairs)"
   ]
  },
  {
   "cell_type": "code",
   "execution_count": 62,
   "metadata": {},
   "outputs": [
    {
     "data": {
      "text/plain": [
       "62180         NaN\n",
       "62181         NaN\n",
       "62182    6.316025\n",
       "62183         NaN\n",
       "62184    4.382667\n",
       "           ...   \n",
       "72019         NaN\n",
       "72020    3.805292\n",
       "72021    3.620977\n",
       "72022    0.000000\n",
       "72023    0.019109\n",
       "Name: logexpr, Length: 9844, dtype: float64"
      ]
     },
     "execution_count": 62,
     "metadata": {},
     "output_type": "execute_result"
    }
   ],
   "source": [
    "data1"
   ]
  },
  {
   "cell_type": "code",
   "execution_count": null,
   "metadata": {},
   "outputs": [],
   "source": []
  }
 ],
 "metadata": {
  "kernelspec": {
   "display_name": "HiC",
   "language": "python",
   "name": "hic"
  },
  "language_info": {
   "codemirror_mode": {
    "name": "ipython",
    "version": 3
   },
   "file_extension": ".py",
   "mimetype": "text/x-python",
   "name": "python",
   "nbconvert_exporter": "python",
   "pygments_lexer": "ipython3",
   "version": "3.9.21"
  }
 },
 "nbformat": 4,
 "nbformat_minor": 2
}
