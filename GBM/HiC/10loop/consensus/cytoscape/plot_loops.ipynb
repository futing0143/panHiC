{
 "cells": [
  {
   "cell_type": "code",
   "execution_count": null,
   "metadata": {},
   "outputs": [],
   "source": [
    "import pandas as pd\n",
    "import matplotlib.pyplot as plt\n",
    "from matplotlib import font_manager\n",
    "import seaborn as sns\n",
    "import numpy as np  # 导入 numpy\n",
    "from scipy.stats import kruskal\n",
    "import glob\n",
    "import os\n",
    "os.chdir('/cluster/home/futing/Project/GBM/HiC/10loop/consensus/cytoscape')\n",
    "font_files = font_manager.findSystemFonts(fontpaths='/cluster/home/futing/miniforge-pypy3/envs/HiC/fonts/')\n",
    " 😩\n",
    "for file in font_files:\n",
    "    font_manager.fontManager.addfont(file)\n",
    "plt.rcParams['font.family'] = 'sans-serif'\n",
    "plt.rcParams['font.sans-serif'] = ['Arial'] \n",
    "plt.rcParams['pdf.fonttype'] = 42\n",
    "RNA=pd.read_csv('/cluster/home/futing/Project/GBM/HiC/hubgene/new/TPM_avg_updated.txt')"
   ]
  },
  {
   "cell_type": "code",
   "execution_count": null,
   "metadata": {},
   "outputs": [
    {
     "name": "stdout",
     "output_type": "stream",
     "text": [
      "31487\n",
      "27538\n",
      "31747\n",
      "43255\n",
      "            GBM       NPC      iPSC       NHA\n",
      "E-E    0.381554  0.230373  0.015246  0.048295\n",
      "E-P    0.397910  0.287348  0.067880  0.143706\n",
      "P-P    0.193921  0.175249  0.155920  0.209594\n",
      "other  0.503986  0.627533  0.825558  0.758248\n",
      "         GBM    NPC   iPSC    NHA\n",
      "E-E    12014   6344    484   2089\n",
      "E-P    12529   7913   2155   6216\n",
      "P-P     6106   4826   4950   9066\n",
      "other  15869  17281  26209  32798\n"
     ]
    }
   ],
   "source": [
    "loopnum=pd.DataFrame(index=['E-E','E-P','P-P','other'])\n",
    "loopfrac=pd.DataFrame(index=['E-E','E-P','P-P','other'])\n",
    "celllist=['GBM', 'NPC', 'iPSC', 'NHA']\n",
    "for i in celllist:\n",
    "\tfile = pd.read_csv(f'{i}/{i}_loop.bed',sep='\\t')\n",
    "\tdupfile=file.loc[:,['loopid','E-E','E-P','P-P','other']].drop_duplicates()\n",
    "\tEE = dupfile['E-E'].sum()\n",
    "\tEP = dupfile['E-P'].sum()\n",
    "\tPP = dupfile['P-P'].sum()\n",
    "\tother = dupfile['other'].sum()\n",
    "\tloopnum[i] = [EE, EP, PP, other]\n",
    "\t# 除所有loop的数量\n",
    "\tloopid = dupfile['loopid'].nunique()\n",
    "\tprint(loopid)\n",
    "\tloopfrac[i] = [EE / loopid, EP / loopid, PP / loopid, other / loopid]\n",
    "\n",
    "# loopfrac = loopnum.apply(lambda x: x / x.sum(), axis=0)\n",
    "print(loopfrac)\n",
    "print(loopnum)\n"
   ]
  },
  {
   "cell_type": "code",
   "execution_count": null,
   "metadata": {},
   "outputs": [],
   "source": [
    "from matplotlib.ticker import PercentFormatter\n",
    "from matplotlib.colors import LinearSegmentedColormap\n",
    "bluered=[\"#16365F\",\"#77A3BB\",\"#F8F2ED\",\"#D64F38\"]\n",
    "custom_cmap = LinearSegmentedColormap.from_list('custom_cmap', ['#1065ad' ,'white', '#bc020f' ])\n",
    "mypalette = ['#a6cee3','#33a02c','#b2df8a','#1f78b4','#e31a1c','#fb9a99','#fdbf6f']\n",
    "\n",
    "df_long = loopfrac.reset_index().melt(id_vars=\"index\", var_name=\"Sample\", value_name=\"Count\")\n",
    "df_long.rename(columns={\"index\": \"Category\"}, inplace=True)\n",
    "fig, ax = plt.subplots(figsize=(5, 4))\n",
    "sns.barplot(data=df_long, x=\"Category\", y=\"Count\", hue=\"Sample\", palette=bluered, \n",
    "\t\t\tax=ax,    linewidth=0.5,      # 边线粗细（默认0，无边框）\n",
    "    \tedgecolor=\"black\")   # 边线颜色（默认None）)\n",
    "\n",
    "# 设置y轴为百分制\n",
    "ax.yaxis.set_major_formatter(PercentFormatter(1.0))  # 假设数据范围是 0~1（如 0.5 显示为 50%）\n",
    "# 如果数据范围是 0~100，则用 PercentFormatter(100)\n",
    "\n",
    "sns.despine()\n",
    "ax.set_ylabel('fraction of loops (%)')  # 修改ylabel单位\n",
    "ax.set_xlabel('')\n",
    "plt.legend(bbox_to_anchor=(1.05, 1), loc='upper left')\n",
    "plt.tight_layout()\n",
    "plt.savefig('loopfraction.pdf', format='pdf', dpi=500, bbox_inches='tight', pad_inches=0.5)"
   ]
  },
  {
   "cell_type": "code",
   "execution_count": null,
   "metadata": {},
   "outputs": [
    {
     "data": {
      "image/png": "[encoded data removed]",
      "text/plain": [
       "<Figure size 500x400 with 1 Axes>"
      ]
     },
     "metadata": {},
     "output_type": "display_data"
    }
   ],
   "source": [
    "from matplotlib.ticker import PercentFormatter\n",
    "from matplotlib.colors import LinearSegmentedColormap\n",
    "bluered=[\"#16365F\",\"#77A3BB\",\"#F8F2ED\",\"#D64F38\"]\n",
    "custom_cmap = LinearSegmentedColormap.from_list('custom_cmap', ['#1065ad' ,'white', '#bc020f' ])\n",
    "mypalette = ['#a6cee3','#33a02c','#b2df8a','#1f78b4','#e31a1c','#fb9a99','#fdbf6f']\n",
    "\n",
    "df_long = loopfrac.reset_index().melt(id_vars=\"index\", var_name=\"Sample\", value_name=\"Count\")\n",
    "df_long.rename(columns={\"index\": \"Category\"}, inplace=True)\n",
    "fig, ax = plt.subplots(figsize=(5, 4))\n",
    "sns.barplot(data=df_long, x=\"Category\", y=\"Count\", hue=\"Sample\", palette=bluered, \n",
    "\t\t\tax=ax,    linewidth=0.5,      # 边线粗细（默认0，无边框）\n",
    "    \tedgecolor=\"black\")   # 边线颜色（默认None）)\n",
    "\n",
    "# 设置y轴为百分制\n",
    "ax.yaxis.set_major_formatter(PercentFormatter(1.0))  # 假设数据范围是 0~1（如 0.5 显示为 50%）\n",
    "# 如果数据范围是 0~100，则用 PercentFormatter(100)\n",
    "\n",
    "sns.despine()\n",
    "ax.set_ylabel('fraction of loops (%)')  # 修改ylabel单位\n",
    "ax.set_xlabel('')\n",
    "plt.legend(bbox_to_anchor=(1.05, 1), loc='upper left')\n",
    "plt.tight_layout()\n",
    "plt.savefig('loopfraction.pdf', format='pdf', dpi=500, bbox_inches='tight', pad_inches=0.5)"
   ]
  },
  {
   "cell_type": "code",
   "execution_count": 9,
   "metadata": {},
   "outputs": [],
   "source": [
    "NHA=pd.read_csv('/cluster/home/futing/Project/GBM/HiC/10loop/consensus/cytoscape/NHA/NHA.EP',sep='\\t',header=None)"
   ]
  },
  {
   "cell_type": "code",
   "execution_count": 12,
   "metadata": {},
   "outputs": [
    {
     "data": {
      "text/plain": [
       "--    32982\n",
       "PP     9066\n",
       "PE     3941\n",
       "EP     3758\n",
       "EE     2105\n",
       "Name: 10, dtype: int64"
      ]
     },
     "execution_count": 12,
     "metadata": {},
     "output_type": "execute_result"
    }
   ],
   "source": [
    "NHA[10].value_counts()"
   ]
  },
  {
   "cell_type": "code",
   "execution_count": 2,
   "metadata": {},
   "outputs": [
    {
     "ename": "NameError",
     "evalue": "name 'RNA' is not defined",
     "output_type": "error",
     "traceback": [
      "\u001b[0;31m---------------------------------------------------------------------------\u001b[0m",
      "\u001b[0;31mNameError\u001b[0m                                 Traceback (most recent call last)",
      "Cell \u001b[0;32mIn[2], line 1\u001b[0m\n\u001b[0;32m----> 1\u001b[0m \u001b[43mRNA\u001b[49m\u001b[38;5;241m.\u001b[39mhead()\n",
      "\u001b[0;31mNameError\u001b[0m: name 'RNA' is not defined"
     ]
    }
   ],
   "source": [
    "RNA.head()"
   ]
  },
  {
   "cell_type": "code",
   "execution_count": null,
   "metadata": {},
   "outputs": [],
   "source": []
  }
 ],
 "metadata": {
  "kernelspec": {
   "display_name": "HiC",
   "language": "python",
   "name": "hic"
  },
  "language_info": {
   "codemirror_mode": {
    "name": "ipython",
    "version": 3
   },
   "file_extension": ".py",
   "mimetype": "text/x-python",
   "name": "python",
   "nbconvert_exporter": "python",
   "pygments_lexer": "ipython3",
   "version": "3.9.21"
  }
 },
 "nbformat": 4,
 "nbformat_minor": 2
}
