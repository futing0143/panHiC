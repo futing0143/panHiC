{
 "cells": [
  {
   "cell_type": "markdown",
   "metadata": {},
   "source": [
    "## startup\t\n",
    "* 老版脚本，用于处理meta"
   ]
  },
  {
   "cell_type": "code",
   "execution_count": 1,
   "metadata": {},
   "outputs": [],
   "source": [
    "import cooler\n",
    "import numpy as np\n",
    "import pandas as pd\n",
    "import seaborn as sns\n",
    "import matplotlib.pyplot as plt\n",
    "import glob\n",
    "from scipy.stats import mannwhitneyu\n",
    "from mpl_toolkits.axes_grid1 import make_axes_locatable\n",
    "import bioframe\n",
    "import matplotlib.pyplot as plt\n",
    "from matplotlib import font_manager\n",
    "import cooltools\n",
    "from cooltools import insulation\n",
    "from skimage.filters import threshold_li, threshold_otsu\n",
    "import bioframe\n",
    "import bbi\n",
    "import pyBigWig\n",
    "import hicstraw\n",
    "from sklearn.isotonic import IsotonicRegression\n",
    "font_manager.fontManager.ttflist.append(font_manager.FontProperties(fname='/cluster/home/futing/miniforge-pypy3/envs/hic/fonts/Arial.ttf'))\n",
    "arial_font = font_manager.FontProperties(fname='Arial.ttf')\n",
    "plt.rcParams['font.family'] = 'sans-serif'\n",
    "plt.rcParams['font.sans-serif'] = ['Arial'] \n",
    "plt.rcParams['pdf.fonttype'] = 42\n",
    "\n"
   ]
  },
  {
   "cell_type": "code",
   "execution_count": 117,
   "metadata": {},
   "outputs": [],
   "source": [
    "loop=pd.read_csv('/cluster/home/futing/Project/GBM/HiC/10loop/consensus/result/subtype/subtype_promoter.bedpe',sep='\\t')\n",
    "RNA=pd.read_csv('/cluster/home/futing/ref_genome/hg38_gencode/humanGTF',sep='\\t',header=None)\n",
    "#gene=pd.read_csv('/cluster/home/futing/ref_genome/hg38_gencode/GRCh38.promoter.bed',sep='\\t',header=None)\n",
    "gene=pd.read_csv('/cluster/home/futing/ref_genome/hg38_gencode/GRCh38.promoter_nodot.bed',sep='\\t')\n",
    "\n",
    "GSC=pd.read_csv('/cluster/home/futing/Project/GBM/RNA/GSC28_TPM.txt',sep=' ')\n",
    "#EGA=pd.read_csv('/cluster/home/tmp/EGA/19to38/gene-TPM-EGA100.txt',sep='\\t')\n",
    "EGA=pd.read_csv('/cluster/home/futing/Project/GBM/RNA/merge/EGA_tpm.txt',sep='\\t',)\n",
    "other=pd.read_csv('/cluster/home/futing/Project/GBM/RNA/merge/0830-tpm-matrix.txt',sep='\\t')\n",
    "#other=pd.read_csv('/cluster/home/futing/Project/GBM/RNA/merge/other.txt',sep='\\t')"
   ]
  },
  {
   "cell_type": "code",
   "execution_count": 48,
   "metadata": {},
   "outputs": [],
   "source": [
    "#EGA.columns=EGA.columns.str.split('.tophat.genes.results').str[0].str.split('.accepted_hits.genes.results').str[0].str.split('Tophat_').str[-1]\n",
    "\n",
    "EGA.columns= EGA.columns.map(lambda x: x if '.SF' in x else x.replace('SF', '.SF', 1))\n",
    "\n",
    "EGA.to_csv('/cluster/home/futing/Project/GBM/RNA/merge/EGA_tpm.txt',sep='\\t',index=False)"
   ]
  },
  {
   "cell_type": "code",
   "execution_count": 123,
   "metadata": {},
   "outputs": [],
   "source": [
    "# 用meta文件对列名进行重命名\n",
    "meta=pd.read_csv('/cluster/home/futing/Project/GBM/RNA/merge/metadata_s.tsv',sep='\\t')\n",
    "meta.columns=['srr','id','path','sample']"
   ]
  },
  {
   "cell_type": "code",
   "execution_count": 124,
   "metadata": {},
   "outputs": [],
   "source": [
    "\n",
    "\n",
    "meta['id'] = meta['id'].fillna('').astype(str)\n",
    "# 找出重复值\n",
    "duplicates = meta['id'].duplicated(keep=False)\n",
    "\n",
    "# 仅对重复值添加后缀\n",
    "meta.loc[duplicates, 'sample'] =  meta['id'] +'_' +(\n",
    "    meta.loc[duplicates].groupby('id').cumcount() + 1\n",
    ").astype(str)\n",
    "#.radd(meta['id'] + '_')\n",
    "column_mapping = dict(zip(meta['srr'], meta['sample']))\n",
    "other.rename(columns=column_mapping,inplace=True)\n",
    "\n",
    "#meta.to_csv('/cluster/home/futing/Project/GBM/RNA/merge/metadata_s.tsv',sep='\\t',index=False)\n"
   ]
  },
  {
   "cell_type": "code",
   "execution_count": 15,
   "metadata": {},
   "outputs": [],
   "source": [
    "gene=pd.read_csv('/cluster/home/futing/ref_genome/hg38_gencode/genebed/gencode.v43.gene.bed',sep='\\t',header=None)\n",
    "gene=gene.iloc[:,[0,1,2,3,6,7,8]]\n",
    "gene.columns=['chr','start','end','ENSG','symbol','type','strand']\n",
    "gene['ENTREZ']=gene['ENSG'].str.replace(r'\\.\\d+(_PAR_Y)?', r'\\1', regex=True)\n",
    "#gene=gene.iloc[:,[0,1,2,7,4,5,6]]\n",
    "gene.to_csv('/cluster/home/futing/ref_genome/hg38_gencode/genebed/gencode.v43.gene_nodot.bed',sep='\\t',index=False)"
   ]
  },
  {
   "cell_type": "code",
   "execution_count": 12,
   "metadata": {},
   "outputs": [],
   "source": [
    "gene=pd.read_csv('/cluster/home/futing/ref_genome/hg38_gencode/genebed/gencode.v43.gene_nodot.bed',sep='\\t',header=None)"
   ]
  },
  {
   "cell_type": "markdown",
   "metadata": {},
   "source": [
    "## 处理count的基因名"
   ]
  },
  {
   "cell_type": "code",
   "execution_count": 129,
   "metadata": {},
   "outputs": [],
   "source": [
    "EGA['ENTREZ']=EGA['gene'].str.split('.').str[0]\n",
    "EGA=EGA.groupby('ENTREZ').sum()\n",
    "EGA.reset_index(inplace=True)\n",
    "EGA.drop(columns=['gene'],inplace=True)\n"
   ]
  },
  {
   "cell_type": "code",
   "execution_count": 128,
   "metadata": {},
   "outputs": [],
   "source": [
    "GSC.reset_index(inplace=True)\n",
    "GSC.rename(columns={'index':'ENTREZ'},inplace=True)"
   ]
  },
  {
   "cell_type": "code",
   "execution_count": null,
   "metadata": {},
   "outputs": [],
   "source": [
    "other['ENTREZ']=other['gene'].str.split('.').str[0]\n",
    "other=other.groupby('ENTREZ').sum()\n",
    "other.reset_index(inplace=True)\n",
    "other.drop(columns=['gene'],inplace=True)"
   ]
  },
  {
   "cell_type": "code",
   "execution_count": 79,
   "metadata": {},
   "outputs": [
    {
     "data": {
      "text/plain": [
       "((58220, 29), (60664, 101), (63450, 48))"
      ]
     },
     "execution_count": 79,
     "metadata": {},
     "output_type": "execute_result"
    }
   ],
   "source": [
    "GSC.shape,EGA.shape,other.shape"
   ]
  },
  {
   "cell_type": "code",
   "execution_count": 131,
   "metadata": {},
   "outputs": [],
   "source": [
    "all=pd.merge(GSC,EGA,on='ENTREZ',how='outer')\n",
    "all=pd.merge(all,other,on='ENTREZ',how='outer')"
   ]
  },
  {
   "cell_type": "code",
   "execution_count": 8,
   "metadata": {},
   "outputs": [],
   "source": [
    "#all.to_csv('/cluster/home/futing/Project/GBM/RNA/merge/all.txt',sep='\\t',index=False)\n",
    "all=pd.read_csv('/cluster/home/futing/Project/GBM/RNA/merge/all.txt',sep='\\t')"
   ]
  },
  {
   "cell_type": "code",
   "execution_count": 10,
   "metadata": {},
   "outputs": [
    {
     "data": {
      "text/plain": [
       "Index(['ENSG00000000003', 'ENSG00000000005', 'ENSG00000000419',\n",
       "       'ENSG00000000457', 'ENSG00000000460', 'ENSG00000000938',\n",
       "       'ENSG00000000971', 'ENSG00000001036', 'ENSG00000001084',\n",
       "       'ENSG00000001167',\n",
       "       ...\n",
       "       'ENSG00000293587', 'ENSG00000293588', 'ENSG00000293591',\n",
       "       'ENSG00000293592', 'ENSG00000293594', 'ENSG00000293595',\n",
       "       'ENSG00000293596', 'ENSG00000293597', 'ENSG00000293599',\n",
       "       'ENSG00000293600'],\n",
       "      dtype='object', length=63497)"
      ]
     },
     "execution_count": 10,
     "metadata": {},
     "output_type": "execute_result"
    }
   ],
   "source": [
    "all.index"
   ]
  },
  {
   "cell_type": "code",
   "execution_count": null,
   "metadata": {},
   "outputs": [],
   "source": [
    "all=pd.merge(all,gene,on='ENTREZ',how='outer')\n",
    "all.to_csv('/cluster/home/futing/Project/GBM/RNA/merge/all_anno.txt',sep='\\t',index=False)"
   ]
  },
  {
   "cell_type": "markdown",
   "metadata": {},
   "source": [
    "## filter loops"
   ]
  },
  {
   "cell_type": "code",
   "execution_count": 30,
   "metadata": {},
   "outputs": [],
   "source": [
    "all=pd.read_csv('/cluster/home/futing/Project/GBM/RNA/merge/all_anno.txt',sep='\\t')\n",
    "#subtype=pd.read_csv('/cluster/home/futing/Project/GBM/HiC/10loop/consensus/result/subtype/subtype_promoter2.bedpe',sep='\\t')\n",
    "subtype=pd.read_csv('/cluster/home/futing/Project/GBM/HiC/10loop/consensus/result/ctrl/all_promotor.bedpe',sep='\\t')"
   ]
  },
  {
   "cell_type": "code",
   "execution_count": 31,
   "metadata": {},
   "outputs": [
    {
     "data": {
      "text/html": [
       "<div>\n",
       "<style scoped>\n",
       "    .dataframe tbody tr th:only-of-type {\n",
       "        vertical-align: middle;\n",
       "    }\n",
       "\n",
       "    .dataframe tbody tr th {\n",
       "        vertical-align: top;\n",
       "    }\n",
       "\n",
       "    .dataframe thead th {\n",
       "        text-align: right;\n",
       "    }\n",
       "</style>\n",
       "<table border=\"1\" class=\"dataframe\">\n",
       "  <thead>\n",
       "    <tr style=\"text-align: right;\">\n",
       "      <th></th>\n",
       "      <th>chr</th>\n",
       "      <th>start</th>\n",
       "      <th>end</th>\n",
       "      <th>chr.1</th>\n",
       "      <th>start.1</th>\n",
       "      <th>end.1</th>\n",
       "      <th>astro</th>\n",
       "      <th>NPC</th>\n",
       "      <th>iPSC</th>\n",
       "      <th>classical</th>\n",
       "      <th>mesenchymal</th>\n",
       "      <th>proneural</th>\n",
       "      <th>neural</th>\n",
       "      <th>num</th>\n",
       "      <th>chr.2</th>\n",
       "      <th>start.2</th>\n",
       "      <th>end.2</th>\n",
       "      <th>ENTREZ</th>\n",
       "      <th>symbol</th>\n",
       "      <th>type</th>\n",
       "    </tr>\n",
       "  </thead>\n",
       "  <tbody>\n",
       "    <tr>\n",
       "      <th>0</th>\n",
       "      <td>chr1</td>\n",
       "      <td>1740000</td>\n",
       "      <td>1770000</td>\n",
       "      <td>chr1</td>\n",
       "      <td>1810000</td>\n",
       "      <td>1840000</td>\n",
       "      <td>1.0</td>\n",
       "      <td>NaN</td>\n",
       "      <td>NaN</td>\n",
       "      <td>NaN</td>\n",
       "      <td>NaN</td>\n",
       "      <td>NaN</td>\n",
       "      <td>NaN</td>\n",
       "      <td>1</td>\n",
       "      <td>chr1</td>\n",
       "      <td>1739056</td>\n",
       "      <td>1740556</td>\n",
       "      <td>ENSG00000215790</td>\n",
       "      <td>SLC35E2A</td>\n",
       "      <td>transcribed_unprocessed_pseudogene</td>\n",
       "    </tr>\n",
       "    <tr>\n",
       "      <th>1</th>\n",
       "      <td>chr1</td>\n",
       "      <td>1740000</td>\n",
       "      <td>1770000</td>\n",
       "      <td>chr1</td>\n",
       "      <td>1810000</td>\n",
       "      <td>1840000</td>\n",
       "      <td>1.0</td>\n",
       "      <td>NaN</td>\n",
       "      <td>NaN</td>\n",
       "      <td>NaN</td>\n",
       "      <td>NaN</td>\n",
       "      <td>NaN</td>\n",
       "      <td>NaN</td>\n",
       "      <td>1</td>\n",
       "      <td>chr1</td>\n",
       "      <td>1745491</td>\n",
       "      <td>1746991</td>\n",
       "      <td>ENSG00000290854</td>\n",
       "      <td>ENSG00000290854</td>\n",
       "      <td>lncRNA</td>\n",
       "    </tr>\n",
       "    <tr>\n",
       "      <th>2</th>\n",
       "      <td>chr1</td>\n",
       "      <td>1790000</td>\n",
       "      <td>1820000</td>\n",
       "      <td>chr1</td>\n",
       "      <td>1880000</td>\n",
       "      <td>1910000</td>\n",
       "      <td>1.0</td>\n",
       "      <td>NaN</td>\n",
       "      <td>NaN</td>\n",
       "      <td>NaN</td>\n",
       "      <td>NaN</td>\n",
       "      <td>NaN</td>\n",
       "      <td>NaN</td>\n",
       "      <td>1</td>\n",
       "      <td>chr1</td>\n",
       "      <td>1890222</td>\n",
       "      <td>1891722</td>\n",
       "      <td>ENSG00000231050</td>\n",
       "      <td>GNB1-DT</td>\n",
       "      <td>lncRNA</td>\n",
       "    </tr>\n",
       "    <tr>\n",
       "      <th>3</th>\n",
       "      <td>chr1</td>\n",
       "      <td>1790000</td>\n",
       "      <td>1820000</td>\n",
       "      <td>chr1</td>\n",
       "      <td>1880000</td>\n",
       "      <td>1910000</td>\n",
       "      <td>1.0</td>\n",
       "      <td>NaN</td>\n",
       "      <td>NaN</td>\n",
       "      <td>NaN</td>\n",
       "      <td>NaN</td>\n",
       "      <td>NaN</td>\n",
       "      <td>NaN</td>\n",
       "      <td>1</td>\n",
       "      <td>chr1</td>\n",
       "      <td>1891791</td>\n",
       "      <td>1893291</td>\n",
       "      <td>ENSG00000078369</td>\n",
       "      <td>GNB1</td>\n",
       "      <td>protein_coding</td>\n",
       "    </tr>\n",
       "    <tr>\n",
       "      <th>4</th>\n",
       "      <td>chr1</td>\n",
       "      <td>1790000</td>\n",
       "      <td>1820000</td>\n",
       "      <td>chr1</td>\n",
       "      <td>1890000</td>\n",
       "      <td>1920000</td>\n",
       "      <td>NaN</td>\n",
       "      <td>NaN</td>\n",
       "      <td>1.0</td>\n",
       "      <td>NaN</td>\n",
       "      <td>NaN</td>\n",
       "      <td>NaN</td>\n",
       "      <td>NaN</td>\n",
       "      <td>1</td>\n",
       "      <td>chr1</td>\n",
       "      <td>1890222</td>\n",
       "      <td>1891722</td>\n",
       "      <td>ENSG00000231050</td>\n",
       "      <td>GNB1-DT</td>\n",
       "      <td>lncRNA</td>\n",
       "    </tr>\n",
       "  </tbody>\n",
       "</table>\n",
       "</div>"
      ],
      "text/plain": [
       "    chr    start      end chr.1  start.1    end.1  astro  NPC  iPSC  \\\n",
       "0  chr1  1740000  1770000  chr1  1810000  1840000    1.0  NaN   NaN   \n",
       "1  chr1  1740000  1770000  chr1  1810000  1840000    1.0  NaN   NaN   \n",
       "2  chr1  1790000  1820000  chr1  1880000  1910000    1.0  NaN   NaN   \n",
       "3  chr1  1790000  1820000  chr1  1880000  1910000    1.0  NaN   NaN   \n",
       "4  chr1  1790000  1820000  chr1  1890000  1920000    NaN  NaN   1.0   \n",
       "\n",
       "   classical  mesenchymal  proneural  neural  num chr.2  start.2    end.2  \\\n",
       "0        NaN          NaN        NaN     NaN    1  chr1  1739056  1740556   \n",
       "1        NaN          NaN        NaN     NaN    1  chr1  1745491  1746991   \n",
       "2        NaN          NaN        NaN     NaN    1  chr1  1890222  1891722   \n",
       "3        NaN          NaN        NaN     NaN    1  chr1  1891791  1893291   \n",
       "4        NaN          NaN        NaN     NaN    1  chr1  1890222  1891722   \n",
       "\n",
       "            ENTREZ           symbol                                type  \n",
       "0  ENSG00000215790         SLC35E2A  transcribed_unprocessed_pseudogene  \n",
       "1  ENSG00000290854  ENSG00000290854                              lncRNA  \n",
       "2  ENSG00000231050          GNB1-DT                              lncRNA  \n",
       "3  ENSG00000078369             GNB1                      protein_coding  \n",
       "4  ENSG00000231050          GNB1-DT                              lncRNA  "
      ]
     },
     "execution_count": 31,
     "metadata": {},
     "output_type": "execute_result"
    }
   ],
   "source": [
    "subtype.head()"
   ]
  },
  {
   "cell_type": "code",
   "execution_count": null,
   "metadata": {},
   "outputs": [],
   "source": [
    "# 找到不同loop调控同一个基因的基因\n",
    "dupgene=subtype.loc[subtype['symbol'].duplicated(),:]\n",
    "dupgene_p2=subtype.loc[subtype['num']>1,:]\n",
    "\n",
    "dupgene=pd.concat([dupgene,dupgene_p2])\n",
    "dupgene=dupgene.sort_values('symbol')"
   ]
  },
  {
   "cell_type": "code",
   "execution_count": 6,
   "metadata": {},
   "outputs": [],
   "source": [
    "dupprogene=dupgene.loc[dupgene['type']=='protein_coding',:]"
   ]
  },
  {
   "cell_type": "code",
   "execution_count": 7,
   "metadata": {},
   "outputs": [],
   "source": [
    "dupprogene.loc[:,'start']=dupprogene['start']+30000\n",
    "dupprogene.loc[:,'end']=dupprogene['end']-30000\n",
    "dupprogene.loc[:,'start.1']=dupprogene['start.1']+30000\n",
    "dupprogene.loc[:,'end.1']=dupprogene['end.1']-30000"
   ]
  },
  {
   "cell_type": "code",
   "execution_count": 8,
   "metadata": {},
   "outputs": [],
   "source": [
    "dupprogene.to_csv('/cluster/home/futing/Project/GBM/HiC/10loop/consensus/result/subtype/subtype_produpgene2.bedpe',sep='\\t',index=False)"
   ]
  },
  {
   "cell_type": "code",
   "execution_count": null,
   "metadata": {},
   "outputs": [],
   "source": [
    "#这些都是每个亚型特异性的基因\n",
    "subtypelist=['classical','mesenchymal','neural','proneural','astro','NPC','iPSC']\n",
    "\n",
    "df=pd.DataFrame()\n",
    "for i in subtypelist:\n",
    "    gene=subtype.loc[(subtype[i]==1) & (subtype['num']==1),'ENTREZ']\n",
    "    df[i]=pd.Series(gene.values)\n",
    "\n",
    "# 输入到R里与limma分析的基因进行比较   "
   ]
  },
  {
   "cell_type": "code",
   "execution_count": 36,
   "metadata": {},
   "outputs": [
    {
     "data": {
      "text/html": [
       "<div>\n",
       "<style scoped>\n",
       "    .dataframe tbody tr th:only-of-type {\n",
       "        vertical-align: middle;\n",
       "    }\n",
       "\n",
       "    .dataframe tbody tr th {\n",
       "        vertical-align: top;\n",
       "    }\n",
       "\n",
       "    .dataframe thead th {\n",
       "        text-align: right;\n",
       "    }\n",
       "</style>\n",
       "<table border=\"1\" class=\"dataframe\">\n",
       "  <thead>\n",
       "    <tr style=\"text-align: right;\">\n",
       "      <th></th>\n",
       "      <th>classical</th>\n",
       "      <th>mesenchymal</th>\n",
       "      <th>neural</th>\n",
       "      <th>proneural</th>\n",
       "      <th>astro</th>\n",
       "      <th>NPC</th>\n",
       "      <th>iPSC</th>\n",
       "    </tr>\n",
       "  </thead>\n",
       "  <tbody>\n",
       "    <tr>\n",
       "      <th>0</th>\n",
       "      <td>ENSG00000182873</td>\n",
       "      <td>ENSG00000169885</td>\n",
       "      <td>ENSG00000196581</td>\n",
       "      <td>ENSG00000225196</td>\n",
       "      <td>ENSG00000215790</td>\n",
       "      <td>ENSG00000142611</td>\n",
       "      <td>ENSG00000231050</td>\n",
       "    </tr>\n",
       "    <tr>\n",
       "      <th>1</th>\n",
       "      <td>ENSG00000157911</td>\n",
       "      <td>ENSG00000178821</td>\n",
       "      <td>ENSG00000228750</td>\n",
       "      <td>ENSG00000252969</td>\n",
       "      <td>ENSG00000290854</td>\n",
       "      <td>ENSG00000177133</td>\n",
       "      <td>ENSG00000078369</td>\n",
       "    </tr>\n",
       "    <tr>\n",
       "      <th>2</th>\n",
       "      <td>ENSG00000149527</td>\n",
       "      <td>ENSG00000182873</td>\n",
       "      <td>ENSG00000237436</td>\n",
       "      <td>ENSG00000048707</td>\n",
       "      <td>ENSG00000231050</td>\n",
       "      <td>ENSG00000142611</td>\n",
       "      <td>ENSG00000169885</td>\n",
       "    </tr>\n",
       "    <tr>\n",
       "      <th>3</th>\n",
       "      <td>ENSG00000238164</td>\n",
       "      <td>ENSG00000272235</td>\n",
       "      <td>ENSG00000171735</td>\n",
       "      <td>ENSG00000272482</td>\n",
       "      <td>ENSG00000078369</td>\n",
       "      <td>ENSG00000177133</td>\n",
       "      <td>ENSG00000178821</td>\n",
       "    </tr>\n",
       "    <tr>\n",
       "      <th>4</th>\n",
       "      <td>ENSG00000225931</td>\n",
       "      <td>ENSG00000287828</td>\n",
       "      <td>ENSG00000284747</td>\n",
       "      <td>ENSG00000204518</td>\n",
       "      <td>ENSG00000231050</td>\n",
       "      <td>ENSG00000142611</td>\n",
       "      <td>ENSG00000157911</td>\n",
       "    </tr>\n",
       "  </tbody>\n",
       "</table>\n",
       "</div>"
      ],
      "text/plain": [
       "         classical      mesenchymal           neural        proneural  \\\n",
       "0  ENSG00000182873  ENSG00000169885  ENSG00000196581  ENSG00000225196   \n",
       "1  ENSG00000157911  ENSG00000178821  ENSG00000228750  ENSG00000252969   \n",
       "2  ENSG00000149527  ENSG00000182873  ENSG00000237436  ENSG00000048707   \n",
       "3  ENSG00000238164  ENSG00000272235  ENSG00000171735  ENSG00000272482   \n",
       "4  ENSG00000225931  ENSG00000287828  ENSG00000284747  ENSG00000204518   \n",
       "\n",
       "             astro              NPC             iPSC  \n",
       "0  ENSG00000215790  ENSG00000142611  ENSG00000231050  \n",
       "1  ENSG00000290854  ENSG00000177133  ENSG00000078369  \n",
       "2  ENSG00000231050  ENSG00000142611  ENSG00000169885  \n",
       "3  ENSG00000078369  ENSG00000177133  ENSG00000178821  \n",
       "4  ENSG00000231050  ENSG00000142611  ENSG00000157911  "
      ]
     },
     "execution_count": 36,
     "metadata": {},
     "output_type": "execute_result"
    }
   ],
   "source": [
    "df.head()"
   ]
  },
  {
   "cell_type": "code",
   "execution_count": 37,
   "metadata": {},
   "outputs": [],
   "source": [
    "df.to_csv('/cluster/home/futing/Project/GBM/HiC/10loop/consensus/result/subtype/subtype_ENSG.txt',sep='\\t',index=False)"
   ]
  }
 ],
 "metadata": {
  "language_info": {
   "name": "python"
  }
 },
 "nbformat": 4,
 "nbformat_minor": 2
}
