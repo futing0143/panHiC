{
 "cells": [
  {
   "cell_type": "markdown",
   "metadata": {},
   "source": [
    "## 处理 RNA 表达\n",
    "#### TPM\n",
    "* /cluster/home/tmp/GBM/HiC/hubgene/new/allmeta.txt\n",
    "* 输入矩阵：/cluster/home/cluster/futing/GBM/HiC/hubgene/new/all_G.txt\t\n",
    "\n",
    "#### count\n",
    "*\tmeta 信息: /cluster/home/futing/Project/GBM/RNA/subtype_TPM/ssGSEA/colodata_allTPM.txt\t\n",
    "*\tRNA 表达: /cluster/home/futing/Project/GBM/RNA/subtype_TPM/count_merge/allcount_G.txt\t\n",
    "*\t输出： /cluster/home/futing/Project/GBM/HiC/hubgene/new/count_avg.txt"
   ]
  },
  {
   "cell_type": "markdown",
   "metadata": {},
   "source": [
    "### TPM avg\t\n",
    "* meta：/cluster/home/tmp/GBM/HiC/hubgene/new/allmeta.txt\t\n",
    "* 输入矩阵：/cluster/home/cluster/futing/GBM/HiC/hubgene/new/all_G.txt\t\n",
    "* 输出：/cluster/home/tmp/GBM/HiC/hubgene/new/TPM_avg.txt"
   ]
  },
  {
   "cell_type": "code",
   "execution_count": null,
   "metadata": {},
   "outputs": [
    {
     "name": "stdout",
     "output_type": "stream",
     "text": [
      "Matching columns for subtype 'GBM':\n",
      "['P455.SF11901v1', 'P455.SF11901v10', 'P455.SF11901v2', 'P455.SF11901v3', 'P455.SF11901v4', 'P455.SF11901v5', 'P455.SF11901v6', 'P455.SF11901v7', 'P455.SF11901v8', 'P455.SF11901v9', 'P475.SF12180v1', 'P475.SF12180v2', 'P475.SF12180v3', 'P475.SF12180v4', 'P475.SF12180v5', 'P475.SF12180v6', 'P475.SF12180v7', 'P475.SF12180v8', 'P498.SF12251v1', 'P498.SF12251v10', 'P498.SF12251v2', 'P498.SF12251v3', 'P498.SF12251v4', 'P498.SF12251v5', 'P498.SF12251v7', 'P498.SF12251v8', 'P498.SF12251v9', 'P503.SF12518v1', 'P503.SF12518v10', 'P503.SF12518v2', 'P503.SF12518v3', 'P503.SF12518v4', 'P503.SF12518v5', 'P503.SF12518v6', 'P503.SF12518v7', 'P503.SF12518v8', 'P503.SF12518v9', 'P519.SF12601v1', 'P519.SF12601v10', 'P519.SF12601v2', 'P519.SF12601v3', 'P519.SF12601v4', 'P519.SF12601v5', 'P519.SF12601v6', 'P519.SF12601v7', 'P519.SF12601v8', 'P519.SF12601v9', 'P521.SF12631v1', 'P521.SF12631v2', 'P521.SF12631v3', 'P521.SF12631v4', 'P521.SF12631v5', 'P521.SF12631v7', 'P521.SF12631v8', 'P524.SF12681v1', 'P524.SF12681v10', 'P524.SF12681v2', 'P524.SF12681v4', 'P524.SF12681v5', 'P524.SF12681v6', 'P524.SF12681v7', 'P524.SF12681v8', 'P524.SF12681v9', 'P529.SF12794v1.1', 'P529.SF12794v1.2', 'P529.SF12794v10.1', 'P529.SF12794v10.2', 'P529.SF12794v2', 'P529.SF12794v3.1', 'P529.SF12794v3.2', 'P529.SF12794v4.1', 'P529.SF12794v4.2', 'P529.SF12794v5', 'P529.SF12794v6.1', 'P529.SF12794v6.2', 'P529.SF12794v7.2', 'P529.SF12794v7.1', 'P529.SF12794v8.1', 'P529.SF12794v8.2', 'P529.SF12794v9.2', 'P529.SF12794v9.1', 'P530.SF12822v1', 'P530.SF12822v10', 'P530.SF12822v11', 'P530.SF12822v12', 'P530.SF12822v13', 'P530.SF12822v14', 'P530.SF12822v15', 'P530.SF12822v16', 'P530.SF12822v17', 'P530.SF12822v18', 'P530.SF12822v19', 'P530.SF12822v2', 'P530.SF12822v3', 'P530.SF12822v4', 'P530.SF12822v5', 'P530.SF12822v6', 'P530.SF12822v7', 'P530.SF12822v8', 'P530.SF12822v9', 'X42MGBA_1', 'X42MGBA_3', 'X42MGBA_2', 'A172_1', 'A172_2', 'A172_3', 'G1', 'G120', 'G148', 'G163', 'G171', 'G181', 'G208', 'G213', 'G23', 'G275', 'G275R', 'G28', 'G318', 'G323', 'G351', 'G390', 'G394', 'G402', 'G402R', 'G412', 'G412R', 'G450', 'G452C', 'G452P', 'G457', 'G61', 'G62', 'G83', 'H4_1', 'H4_3', 'H4_2', 'U343_3', 'U87_1', 'U87_2', 'U87_3', 'U87_4', 'U87_5', 'SW1088', 'U251_1', 'U251_2', 'U343_1', 'U118', 'U343_2']\n",
      "匹配的列数: 149\n",
      "Matching columns for subtype 'iPSC':\n",
      "['iPSC_3', 'iPSC_2', 'iPSC_1']\n",
      "匹配的列数: 3\n",
      "Matching columns for subtype 'NHA':\n",
      "['NHA_1', 'NHA_2', 'NHA_3']\n",
      "匹配的列数: 3\n",
      "Matching columns for subtype 'NPC':\n",
      "['NPC_2', 'NPC_1', 'NPC_3']\n",
      "匹配的列数: 3\n",
      "Matching columns for subtype 'pHGG':\n",
      "['pHGG_4', 'pHGG_3', 'pHGG_5', 'pHGG_6', 'pHGG_7', 'pHGG_1', 'pHGG_2', 'pHGG_8']\n",
      "匹配的列数: 8\n",
      "均值计算完成，结果保存至 /cluster/home/tmp/GBM/HiC/hubgene/new/TPM_avg.txt\n"
     ]
    }
   ],
   "source": [
    "\n",
    "# 读取 allmeta.txt 文件\n",
    "colodata_file = \"/cluster/home/tmp/GBM/HiC/hubgene/new/allmeta.txt\"\n",
    "allmeta_df = pd.read_csv(colodata_file, sep='\\t')\n",
    "\n",
    "# 读取 all_G.txt 文件\n",
    "all_G_file = \"/cluster/home/cluster/futing/GBM/HiC/hubgene/new/all_G.txt\"\n",
    "all_G_df = pd.read_csv(all_G_file, sep=' ', index_col=0)\n",
    "\n",
    "# 获取 allmeta.txt 中 'subtype' 列的唯一值\n",
    "subtypes = allmeta_df['subtype'].unique()\n",
    "\n",
    "# 结果存储字典，键为 subtypes，值为每个 subtype 对应的均值列表\n",
    "all_gene_avg_values = {subtype: [] for subtype in subtypes}\n",
    "\n",
    "# 对于每个 subtype，提取对应的样本，计算每个基因的均值\n",
    "for subtype in subtypes:\n",
    "    # 提取该 subtype 对应的样本名（第二列）\n",
    "    samples_subtype = allmeta_df[allmeta_df['subtype'] == subtype]['sample'].tolist()\n",
    "    \n",
    "    # 只选择在 all_G.txt 中存在的列（即样本名存在于 allmeta.txt 的第二列中）\n",
    "    matching_columns = [col for col in all_G_df.columns if col in samples_subtype]\n",
    "    \n",
    "    # 打印匹配的列和数量\n",
    "    print(f\"Matching columns for subtype '{subtype}':\")\n",
    "    print(matching_columns)\n",
    "    print(f\"匹配的列数: {len(matching_columns)}\")\n",
    "    \n",
    "    # 计算每个基因在这些样本列中的均值\n",
    "    for gene in all_G_df.index:\n",
    "        gene_values = all_G_df.loc[gene, matching_columns].tolist()\n",
    "        if gene_values:\n",
    "            avg_value = sum(gene_values) / len(gene_values)\n",
    "            all_gene_avg_values[subtype].append([gene, avg_value])\n",
    "\n",
    "# 将所有结果合并成一个 DataFrame\n",
    "final_result = pd.DataFrame()\n",
    "\n",
    "# 为每个 subtype 创建一个对应的列，并将基因名和计算的均值添加进去\n",
    "for subtype in subtypes:\n",
    "    avg_values = all_gene_avg_values[subtype]\n",
    "    avg_df = pd.DataFrame(avg_values, columns=['Gene', f'{subtype}'])\n",
    "    \n",
    "    if final_result.empty:\n",
    "        final_result = avg_df\n",
    "    else:\n",
    "        final_result = pd.merge(final_result, avg_df, on='Gene', how='outer')\n",
    "\n",
    "# 将结果保存到 TPM_avg.txt\n",
    "output_file = \"/cluster/home/tmp/GBM/HiC/hubgene/new/TPM_avg.txt\"\n",
    "final_result.to_csv(output_file, sep='\\t', index=False)\n",
    "\n",
    "print(f\"均值计算完成，结果保存至 {output_file}\")\n"
   ]
  },
  {
   "cell_type": "markdown",
   "metadata": {},
   "source": [
    "### count avg\t\n",
    "*\tmeta 信息: /cluster/home/futing/Project/GBM/RNA/subtype_TPM/ssGSEA/colodata_allTPM.txt\t\n",
    "*\tRNA 表达: /cluster/home/futing/Project/GBM/RNA/subtype_TPM/count_merge/allcount_G.txt\t\t"
   ]
  },
  {
   "cell_type": "code",
   "execution_count": null,
   "metadata": {},
   "outputs": [
    {
     "ename": "NameError",
     "evalue": "name 'pd' is not defined",
     "output_type": "error",
     "traceback": [
      "\u001b[0;31m---------------------------------------------------------------------------\u001b[0m",
      "\u001b[0;31mNameError\u001b[0m                                 Traceback (most recent call last)",
      "Cell \u001b[0;32mIn[1], line 5\u001b[0m\n\u001b[1;32m      1\u001b[0m \u001b[38;5;66;03m# 处理RNA均值\u001b[39;00m\n\u001b[1;32m      2\u001b[0m \n\u001b[1;32m      3\u001b[0m \u001b[38;5;66;03m# 读取 allmeta.txt 文件\u001b[39;00m\n\u001b[1;32m      4\u001b[0m colodata_file \u001b[38;5;241m=\u001b[39m \u001b[38;5;124m\"\u001b[39m\u001b[38;5;124m/cluster/home/futing/Project/GBM/RNA/subtype_TPM/ssGSEA/colodata_allTPM.txt\u001b[39m\u001b[38;5;124m\"\u001b[39m\n\u001b[0;32m----> 5\u001b[0m allmeta_df \u001b[38;5;241m=\u001b[39m \u001b[43mpd\u001b[49m\u001b[38;5;241m.\u001b[39mread_csv(colodata_file, sep\u001b[38;5;241m=\u001b[39m\u001b[38;5;124m'\u001b[39m\u001b[38;5;130;01m\\t\u001b[39;00m\u001b[38;5;124m'\u001b[39m)\n\u001b[1;32m      7\u001b[0m \u001b[38;5;66;03m# 读取 all_G.txt 文件\u001b[39;00m\n\u001b[1;32m      8\u001b[0m all_G_file \u001b[38;5;241m=\u001b[39m \u001b[38;5;124m\"\u001b[39m\u001b[38;5;124m/cluster/home/futing/Project/GBM/RNA/subtype_TPM/count_merge/allcount_G.txt\u001b[39m\u001b[38;5;124m\"\u001b[39m\n",
      "\u001b[0;31mNameError\u001b[0m: name 'pd' is not defined"
     ]
    }
   ],
   "source": [
    "# 处理RNA均值\n",
    "\n",
    "# 读取 allmeta.txt 文件\n",
    "colodata_file = \"/cluster/home/futing/Project/GBM/RNA/subtype_TPM/ssGSEA/colodata_allTPM.txt\"\n",
    "allmeta_df = pd.read_csv(colodata_file, sep='\\t')\n",
    "\n",
    "# 读取 all_G.txt 文件\n",
    "all_G_file = \"/cluster/home/futing/Project/GBM/RNA/subtype_TPM/count_merge/allcount_G.txt\"\n",
    "all_G_df = pd.read_csv(all_G_file, sep='\\t', index_col=0)\n",
    "\n",
    "# 获取 allmeta.txt 中 'subtype' 列的唯一值\n",
    "subtypes = allmeta_df['subtype'].unique()\n",
    "\n",
    "# 结果存储字典，键为 subtypes，值为每个 subtype 对应的均值列表\n",
    "all_gene_avg_values = {subtype: [] for subtype in subtypes}\n",
    "\n",
    "# 对于每个 subtype，提取对应的样本，计算每个基因的均值\n",
    "for subtype in subtypes:\n",
    "    # 提取该 subtype 对应的样本名（第二列）\n",
    "    samples_subtype = allmeta_df[allmeta_df['subtype'] == subtype]['Sample'].tolist()\n",
    "    \n",
    "    # 只选择在 all_G.txt 中存在的列（即样本名存在于 allmeta.txt 的第二列中）\n",
    "    matching_columns = [col for col in all_G_df.columns if col in samples_subtype]\n",
    "    \n",
    "    # 打印匹配的列和数量\n",
    "    print(f\"Matching columns for subtype '{subtype}':\")\n",
    "    print(matching_columns)\n",
    "    print(f\"匹配的列数: {len(matching_columns)}\")\n",
    "    \n",
    "    # 计算每个基因在这些样本列中的均值\n",
    "    for gene in all_G_df.index:\n",
    "        gene_values = all_G_df.loc[gene, matching_columns].tolist()\n",
    "        if gene_values:\n",
    "            avg_value = sum(gene_values) / len(gene_values)\n",
    "            all_gene_avg_values[subtype].append([gene, avg_value])\n",
    "\n",
    "# 将所有结果合并成一个 DataFrame\n",
    "final_result = pd.DataFrame()\n",
    "\n",
    "# 为每个 subtype 创建一个对应的列，并将基因名和计算的均值添加进去\n",
    "for subtype in subtypes:\n",
    "    avg_values = all_gene_avg_values[subtype]\n",
    "    avg_df = pd.DataFrame(avg_values, columns=['Gene', f'{subtype}'])\n",
    "    \n",
    "    if final_result.empty:\n",
    "        final_result = avg_df\n",
    "    else:\n",
    "        final_result = pd.merge(final_result, avg_df, on='Gene', how='outer')\n",
    "\n",
    "# 将结果保存到 TPM_avg.txt\n",
    "output_file = \"/cluster/home/futing/Project/GBM/HiC/hubgene/new/count_avg.txt\"\n",
    "# final_result.to_csv(output_file, sep='\\t', index=False)\n",
    "\n",
    "print(f\"均值计算完成，结果保存至 {output_file}\")\n"
   ]
  }
 ],
 "metadata": {
  "kernelspec": {
   "display_name": "HiC",
   "language": "python",
   "name": "python3"
  },
  "language_info": {
   "codemirror_mode": {
    "name": "ipython",
    "version": 3
   },
   "file_extension": ".py",
   "mimetype": "text/x-python",
   "name": "python",
   "nbconvert_exporter": "python",
   "pygments_lexer": "ipython3",
   "version": "3.9.21"
  }
 },
 "nbformat": 4,
 "nbformat_minor": 2
}
