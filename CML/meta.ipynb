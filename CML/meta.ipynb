{
 "cells": [
  {
   "cell_type": "code",
   "execution_count": 3,
   "metadata": {},
   "outputs": [],
   "source": [
    "import pandas as pd\n",
    "import numpy as np\n",
    "import os\n",
    "os.chdir('/cluster2/home/futing/Project/panCancer/CML')"
   ]
  },
  {
   "cell_type": "code",
   "execution_count": 10,
   "metadata": {},
   "outputs": [],
   "source": [
    "K562 = pd.read_csv('K562.txt', index_col=0,header=None)\n",
    "KBM7 = pd.read_csv('KBM7.txt', index_col=0,header=None)\n",
    "HAP1 = pd.read_csv('HAP1.txt', index_col=0,header=None)\n",
    "CML = pd.read_csv('/cluster2/home/futing/Project/panCancer/CML/04CML.csv')"
   ]
  },
  {
   "cell_type": "code",
   "execution_count": 11,
   "metadata": {},
   "outputs": [
    {
     "data": {
      "application/vnd.microsoft.datawrangler.viewer.v0+json": {
       "columns": [
        {
         "name": "index",
         "rawType": "int64",
         "type": "integer"
        },
        {
         "name": "GSE",
         "rawType": "object",
         "type": "string"
        },
        {
         "name": "GSM",
         "rawType": "object",
         "type": "string"
        },
        {
         "name": "SRR",
         "rawType": "object",
         "type": "string"
        },
        {
         "name": "cell",
         "rawType": "object",
         "type": "string"
        },
        {
         "name": "genotype",
         "rawType": "object",
         "type": "string"
        },
        {
         "name": "ispatient",
         "rawType": "object",
         "type": "string"
        },
        {
         "name": "bases",
         "rawType": "float64",
         "type": "float"
        },
        {
         "name": "title",
         "rawType": "object",
         "type": "string"
        }
       ],
       "ref": "16d11280-6f67-40ce-81ff-97d4eef81f71",
       "rows": [
        [
         "0",
         "GSE130758",
         "GSM3753207",
         "SRR9019504",
         "K562",
         null,
         "K562",
         "6385822230.0",
         "GSM3753207: Biosample_8606_4132_58665_HYL2CBGX2_K562_InSituHiC_HS_1_CGATGT; Homo sapiens; Hi-C"
        ],
        [
         "1",
         "GSE130758",
         "GSM3753208",
         "SRR9019505",
         "K562",
         null,
         "K562",
         "9404950006.0",
         "GSM3753208: Biosample_8606_4132_58667_HYL2CBGX2_K562_InSituHiC_HS_2_GCCAAT; Homo sapiens; Hi-C"
        ],
        [
         "2",
         "GSE130758",
         "GSM3753209",
         "SRR9019506",
         "K562",
         null,
         "K562",
         "6396973956.0",
         "GSM3753209: Biosample_8606_4132_58664_HYL2CBGX2_K562_InSituHiC_NHS_1_ATCACG; Homo sapiens; Hi-C"
        ],
        [
         "3",
         "GSE130758",
         "GSM3753210",
         "SRR9019507",
         "K562",
         null,
         "K562",
         "9506956564.0",
         "GSM3753210: Biosample_8606_4132_58666_HYL2CBGX2_K562_InSituHiC_NHS_2_ACAGTG; Homo sapiens; Hi-C"
        ],
        [
         "4",
         "GSE134590",
         "GSM3956905",
         "SRR9720468",
         "K562",
         null,
         "K562",
         "36987506700.0",
         "GSM3956905: HiC-K562-MockNuclei-5min-R2; Homo sapiens; Hi-C"
        ]
       ],
       "shape": {
        "columns": 8,
        "rows": 5
       }
      },
      "text/html": [
       "<div>\n",
       "<style scoped>\n",
       "    .dataframe tbody tr th:only-of-type {\n",
       "        vertical-align: middle;\n",
       "    }\n",
       "\n",
       "    .dataframe tbody tr th {\n",
       "        vertical-align: top;\n",
       "    }\n",
       "\n",
       "    .dataframe thead th {\n",
       "        text-align: right;\n",
       "    }\n",
       "</style>\n",
       "<table border=\"1\" class=\"dataframe\">\n",
       "  <thead>\n",
       "    <tr style=\"text-align: right;\">\n",
       "      <th></th>\n",
       "      <th>GSE</th>\n",
       "      <th>GSM</th>\n",
       "      <th>SRR</th>\n",
       "      <th>cell</th>\n",
       "      <th>genotype</th>\n",
       "      <th>ispatient</th>\n",
       "      <th>bases</th>\n",
       "      <th>title</th>\n",
       "    </tr>\n",
       "  </thead>\n",
       "  <tbody>\n",
       "    <tr>\n",
       "      <th>0</th>\n",
       "      <td>GSE130758</td>\n",
       "      <td>GSM3753207</td>\n",
       "      <td>SRR9019504</td>\n",
       "      <td>K562</td>\n",
       "      <td>NaN</td>\n",
       "      <td>K562</td>\n",
       "      <td>6.385822e+09</td>\n",
       "      <td>GSM3753207: Biosample_8606_4132_58665_HYL2CBGX...</td>\n",
       "    </tr>\n",
       "    <tr>\n",
       "      <th>1</th>\n",
       "      <td>GSE130758</td>\n",
       "      <td>GSM3753208</td>\n",
       "      <td>SRR9019505</td>\n",
       "      <td>K562</td>\n",
       "      <td>NaN</td>\n",
       "      <td>K562</td>\n",
       "      <td>9.404950e+09</td>\n",
       "      <td>GSM3753208: Biosample_8606_4132_58667_HYL2CBGX...</td>\n",
       "    </tr>\n",
       "    <tr>\n",
       "      <th>2</th>\n",
       "      <td>GSE130758</td>\n",
       "      <td>GSM3753209</td>\n",
       "      <td>SRR9019506</td>\n",
       "      <td>K562</td>\n",
       "      <td>NaN</td>\n",
       "      <td>K562</td>\n",
       "      <td>6.396974e+09</td>\n",
       "      <td>GSM3753209: Biosample_8606_4132_58664_HYL2CBGX...</td>\n",
       "    </tr>\n",
       "    <tr>\n",
       "      <th>3</th>\n",
       "      <td>GSE130758</td>\n",
       "      <td>GSM3753210</td>\n",
       "      <td>SRR9019507</td>\n",
       "      <td>K562</td>\n",
       "      <td>NaN</td>\n",
       "      <td>K562</td>\n",
       "      <td>9.506957e+09</td>\n",
       "      <td>GSM3753210: Biosample_8606_4132_58666_HYL2CBGX...</td>\n",
       "    </tr>\n",
       "    <tr>\n",
       "      <th>4</th>\n",
       "      <td>GSE134590</td>\n",
       "      <td>GSM3956905</td>\n",
       "      <td>SRR9720468</td>\n",
       "      <td>K562</td>\n",
       "      <td>NaN</td>\n",
       "      <td>K562</td>\n",
       "      <td>3.698751e+10</td>\n",
       "      <td>GSM3956905: HiC-K562-MockNuclei-5min-R2; Homo ...</td>\n",
       "    </tr>\n",
       "  </tbody>\n",
       "</table>\n",
       "</div>"
      ],
      "text/plain": [
       "         GSE         GSM         SRR  cell genotype ispatient         bases  \\\n",
       "0  GSE130758  GSM3753207  SRR9019504  K562      NaN      K562  6.385822e+09   \n",
       "1  GSE130758  GSM3753208  SRR9019505  K562      NaN      K562  9.404950e+09   \n",
       "2  GSE130758  GSM3753209  SRR9019506  K562      NaN      K562  6.396974e+09   \n",
       "3  GSE130758  GSM3753210  SRR9019507  K562      NaN      K562  9.506957e+09   \n",
       "4  GSE134590  GSM3956905  SRR9720468  K562      NaN      K562  3.698751e+10   \n",
       "\n",
       "                                               title  \n",
       "0  GSM3753207: Biosample_8606_4132_58665_HYL2CBGX...  \n",
       "1  GSM3753208: Biosample_8606_4132_58667_HYL2CBGX...  \n",
       "2  GSM3753209: Biosample_8606_4132_58664_HYL2CBGX...  \n",
       "3  GSM3753210: Biosample_8606_4132_58666_HYL2CBGX...  \n",
       "4  GSM3956905: HiC-K562-MockNuclei-5min-R2; Homo ...  "
      ]
     },
     "execution_count": 11,
     "metadata": {},
     "output_type": "execute_result"
    }
   ],
   "source": [
    "CML.head()"
   ]
  },
  {
   "cell_type": "code",
   "execution_count": 15,
   "metadata": {},
   "outputs": [],
   "source": [
    "CML_fil = CML.loc[\n",
    "    CML['SRR'].isin(K562.index) |\n",
    "    CML['SRR'].isin(KBM7.index) |\n",
    "    CML['SRR'].isin(HAP1.index),\n",
    "    ['GSE', 'SRR', 'cell']\n",
    "]"
   ]
  },
  {
   "cell_type": "code",
   "execution_count": 16,
   "metadata": {},
   "outputs": [
    {
     "data": {
      "application/vnd.microsoft.datawrangler.viewer.v0+json": {
       "columns": [
        {
         "name": "index",
         "rawType": "int64",
         "type": "integer"
        },
        {
         "name": "GSE",
         "rawType": "object",
         "type": "string"
        },
        {
         "name": "SRR",
         "rawType": "object",
         "type": "string"
        },
        {
         "name": "cell",
         "rawType": "object",
         "type": "string"
        }
       ],
       "ref": "d98d0168-df0e-4d42-a6d3-12608819ff50",
       "rows": [
        [
         "187",
         "GSE137372",
         "SRR10109414",
         "KBM7"
        ],
        [
         "188",
         "GSE137372",
         "SRR10109415",
         "KBM7"
        ],
        [
         "189",
         "GSE137372",
         "SRR10109420",
         "KBM7"
        ],
        [
         "190",
         "GSE137372",
         "SRR10109421",
         "KBM7"
        ],
        [
         "191",
         "GSE137373",
         "SRR10109402",
         "KBM7"
        ]
       ],
       "shape": {
        "columns": 3,
        "rows": 5
       }
      },
      "text/html": [
       "<div>\n",
       "<style scoped>\n",
       "    .dataframe tbody tr th:only-of-type {\n",
       "        vertical-align: middle;\n",
       "    }\n",
       "\n",
       "    .dataframe tbody tr th {\n",
       "        vertical-align: top;\n",
       "    }\n",
       "\n",
       "    .dataframe thead th {\n",
       "        text-align: right;\n",
       "    }\n",
       "</style>\n",
       "<table border=\"1\" class=\"dataframe\">\n",
       "  <thead>\n",
       "    <tr style=\"text-align: right;\">\n",
       "      <th></th>\n",
       "      <th>GSE</th>\n",
       "      <th>SRR</th>\n",
       "      <th>cell</th>\n",
       "    </tr>\n",
       "  </thead>\n",
       "  <tbody>\n",
       "    <tr>\n",
       "      <th>187</th>\n",
       "      <td>GSE137372</td>\n",
       "      <td>SRR10109414</td>\n",
       "      <td>KBM7</td>\n",
       "    </tr>\n",
       "    <tr>\n",
       "      <th>188</th>\n",
       "      <td>GSE137372</td>\n",
       "      <td>SRR10109415</td>\n",
       "      <td>KBM7</td>\n",
       "    </tr>\n",
       "    <tr>\n",
       "      <th>189</th>\n",
       "      <td>GSE137372</td>\n",
       "      <td>SRR10109420</td>\n",
       "      <td>KBM7</td>\n",
       "    </tr>\n",
       "    <tr>\n",
       "      <th>190</th>\n",
       "      <td>GSE137372</td>\n",
       "      <td>SRR10109421</td>\n",
       "      <td>KBM7</td>\n",
       "    </tr>\n",
       "    <tr>\n",
       "      <th>191</th>\n",
       "      <td>GSE137373</td>\n",
       "      <td>SRR10109402</td>\n",
       "      <td>KBM7</td>\n",
       "    </tr>\n",
       "  </tbody>\n",
       "</table>\n",
       "</div>"
      ],
      "text/plain": [
       "           GSE          SRR  cell\n",
       "187  GSE137372  SRR10109414  KBM7\n",
       "188  GSE137372  SRR10109415  KBM7\n",
       "189  GSE137372  SRR10109420  KBM7\n",
       "190  GSE137372  SRR10109421  KBM7\n",
       "191  GSE137373  SRR10109402  KBM7"
      ]
     },
     "execution_count": 16,
     "metadata": {},
     "output_type": "execute_result"
    }
   ],
   "source": [
    "CML_fil.head()"
   ]
  },
  {
   "cell_type": "code",
   "execution_count": 18,
   "metadata": {},
   "outputs": [],
   "source": [
    "CML_fil.to_csv('CML_meta.txt', header=None,index=False)"
   ]
  },
  {
   "cell_type": "code",
   "execution_count": null,
   "metadata": {},
   "outputs": [],
   "source": []
  }
 ],
 "metadata": {
  "kernelspec": {
   "display_name": "HiC",
   "language": "python",
   "name": "hic"
  },
  "language_info": {
   "codemirror_mode": {
    "name": "ipython",
    "version": 3
   },
   "file_extension": ".py",
   "mimetype": "text/x-python",
   "name": "python",
   "nbconvert_exporter": "python",
   "pygments_lexer": "ipython3",
   "version": "3.9.21"
  }
 },
 "nbformat": 4,
 "nbformat_minor": 2
}
